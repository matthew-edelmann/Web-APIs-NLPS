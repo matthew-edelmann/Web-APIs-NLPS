{
 "cells": [
  {
   "cell_type": "code",
   "execution_count": 250,
   "id": "f68ddba6-e5de-4c9b-93fd-46da2a06f46c",
   "metadata": {},
   "outputs": [],
   "source": [
    "#Imports\n",
    "import pandas as pd\n",
    "import numpy as np\n",
    "import seaborn as sns\n",
    "import matplotlib.pyplot as plt\n",
    "import requests\n",
    "from bs4 import BeautifulSoup\n",
    "from nltk.tokenize import sent_tokenize, word_tokenize, RegexpTokenizer\n",
    "from nltk.stem import WordNetLemmatizer\n",
    "from nltk.stem.porter import PorterStemmer\n",
    "from nltk.corpus import stopwords\n",
    "from nltk.sentiment.vader import SentimentIntensityAnalyzer\n",
    "from sklearn.model_selection import train_test_split, GridSearchCV\n",
    "from sklearn.pipeline import Pipeline\n",
    "from sklearn.naive_bayes import MultinomialNB\n",
    "from sklearn.linear_model import LogisticRegression\n",
    "from sklearn.metrics import confusion_matrix, plot_confusion_matrix\n",
    "# Import CountVectorizer and TFIDFVectorizer from feature_extraction.text.\n",
    "from sklearn.feature_extraction.text import CountVectorizer, TfidfVectorizer\n",
    "from sklearn.metrics import confusion_matrix, plot_confusion_matrix, accuracy_score, plot_roc_curve, roc_auc_score, recall_score, precision_score, f1_score\n",
    "from sklearn.ensemble import RandomForestClassifier, ExtraTreesClassifier\n",
    "from sklearn.model_selection import cross_val_score, train_test_split, GridSearchCV\n",
    "import re\n",
    "%matplotlib inline"
   ]
  },
  {
   "cell_type": "code",
   "execution_count": 164,
   "id": "e1c44689-741c-450c-ad48-e870ed39634e",
   "metadata": {},
   "outputs": [],
   "source": [
    "df = pd.read_csv('reddit.csv')"
   ]
  },
  {
   "cell_type": "code",
   "execution_count": 165,
   "id": "05480f5c-b159-4551-93b0-73d11861cb0c",
   "metadata": {},
   "outputs": [
    {
     "data": {
      "text/html": [
       "<div>\n",
       "<style scoped>\n",
       "    .dataframe tbody tr th:only-of-type {\n",
       "        vertical-align: middle;\n",
       "    }\n",
       "\n",
       "    .dataframe tbody tr th {\n",
       "        vertical-align: top;\n",
       "    }\n",
       "\n",
       "    .dataframe thead th {\n",
       "        text-align: right;\n",
       "    }\n",
       "</style>\n",
       "<table border=\"1\" class=\"dataframe\">\n",
       "  <thead>\n",
       "    <tr style=\"text-align: right;\">\n",
       "      <th></th>\n",
       "      <th>Unnamed: 0</th>\n",
       "      <th>all_awardings</th>\n",
       "      <th>allow_live_comments</th>\n",
       "      <th>author</th>\n",
       "      <th>author_flair_background_color</th>\n",
       "      <th>author_flair_css_class</th>\n",
       "      <th>author_flair_richtext</th>\n",
       "      <th>author_flair_template_id</th>\n",
       "      <th>author_flair_text</th>\n",
       "      <th>author_flair_text_color</th>\n",
       "      <th>...</th>\n",
       "      <th>crosspost_parent_list</th>\n",
       "      <th>poll_data</th>\n",
       "      <th>media</th>\n",
       "      <th>media_embed</th>\n",
       "      <th>secure_media</th>\n",
       "      <th>secure_media_embed</th>\n",
       "      <th>gallery_data</th>\n",
       "      <th>is_gallery</th>\n",
       "      <th>media_metadata</th>\n",
       "      <th>link_flair_css_class</th>\n",
       "    </tr>\n",
       "  </thead>\n",
       "  <tbody>\n",
       "    <tr>\n",
       "      <th>0</th>\n",
       "      <td>0</td>\n",
       "      <td>[]</td>\n",
       "      <td>False</td>\n",
       "      <td>IllustriousNovel7841</td>\n",
       "      <td>#f7accf</td>\n",
       "      <td>millennial</td>\n",
       "      <td>[]</td>\n",
       "      <td>65c72e52-ea27-11e9-a5e5-0e427099dabc</td>\n",
       "      <td>Millennial</td>\n",
       "      <td>light</td>\n",
       "      <td>...</td>\n",
       "      <td>NaN</td>\n",
       "      <td>NaN</td>\n",
       "      <td>NaN</td>\n",
       "      <td>NaN</td>\n",
       "      <td>NaN</td>\n",
       "      <td>NaN</td>\n",
       "      <td>NaN</td>\n",
       "      <td>NaN</td>\n",
       "      <td>NaN</td>\n",
       "      <td>NaN</td>\n",
       "    </tr>\n",
       "    <tr>\n",
       "      <th>1</th>\n",
       "      <td>1</td>\n",
       "      <td>[]</td>\n",
       "      <td>False</td>\n",
       "      <td>IllustriousNovel7841</td>\n",
       "      <td>#f7accf</td>\n",
       "      <td>millennial</td>\n",
       "      <td>[]</td>\n",
       "      <td>65c72e52-ea27-11e9-a5e5-0e427099dabc</td>\n",
       "      <td>Millennial</td>\n",
       "      <td>light</td>\n",
       "      <td>...</td>\n",
       "      <td>NaN</td>\n",
       "      <td>NaN</td>\n",
       "      <td>NaN</td>\n",
       "      <td>NaN</td>\n",
       "      <td>NaN</td>\n",
       "      <td>NaN</td>\n",
       "      <td>NaN</td>\n",
       "      <td>NaN</td>\n",
       "      <td>NaN</td>\n",
       "      <td>NaN</td>\n",
       "    </tr>\n",
       "    <tr>\n",
       "      <th>2</th>\n",
       "      <td>2</td>\n",
       "      <td>[]</td>\n",
       "      <td>False</td>\n",
       "      <td>RedPillPopper888</td>\n",
       "      <td>NaN</td>\n",
       "      <td>NaN</td>\n",
       "      <td>[]</td>\n",
       "      <td>NaN</td>\n",
       "      <td>NaN</td>\n",
       "      <td>NaN</td>\n",
       "      <td>...</td>\n",
       "      <td>NaN</td>\n",
       "      <td>NaN</td>\n",
       "      <td>NaN</td>\n",
       "      <td>NaN</td>\n",
       "      <td>NaN</td>\n",
       "      <td>NaN</td>\n",
       "      <td>NaN</td>\n",
       "      <td>NaN</td>\n",
       "      <td>NaN</td>\n",
       "      <td>NaN</td>\n",
       "    </tr>\n",
       "    <tr>\n",
       "      <th>3</th>\n",
       "      <td>3</td>\n",
       "      <td>[]</td>\n",
       "      <td>False</td>\n",
       "      <td>Fwindowserver</td>\n",
       "      <td>NaN</td>\n",
       "      <td>NaN</td>\n",
       "      <td>[]</td>\n",
       "      <td>NaN</td>\n",
       "      <td>NaN</td>\n",
       "      <td>NaN</td>\n",
       "      <td>...</td>\n",
       "      <td>NaN</td>\n",
       "      <td>NaN</td>\n",
       "      <td>NaN</td>\n",
       "      <td>NaN</td>\n",
       "      <td>NaN</td>\n",
       "      <td>NaN</td>\n",
       "      <td>NaN</td>\n",
       "      <td>NaN</td>\n",
       "      <td>NaN</td>\n",
       "      <td>NaN</td>\n",
       "    </tr>\n",
       "    <tr>\n",
       "      <th>4</th>\n",
       "      <td>4</td>\n",
       "      <td>[]</td>\n",
       "      <td>False</td>\n",
       "      <td>Ok_Conversation_6733</td>\n",
       "      <td>NaN</td>\n",
       "      <td>NaN</td>\n",
       "      <td>[]</td>\n",
       "      <td>NaN</td>\n",
       "      <td>NaN</td>\n",
       "      <td>NaN</td>\n",
       "      <td>...</td>\n",
       "      <td>NaN</td>\n",
       "      <td>NaN</td>\n",
       "      <td>NaN</td>\n",
       "      <td>NaN</td>\n",
       "      <td>NaN</td>\n",
       "      <td>NaN</td>\n",
       "      <td>NaN</td>\n",
       "      <td>NaN</td>\n",
       "      <td>NaN</td>\n",
       "      <td>NaN</td>\n",
       "    </tr>\n",
       "  </tbody>\n",
       "</table>\n",
       "<p>5 rows × 83 columns</p>\n",
       "</div>"
      ],
      "text/plain": [
       "   Unnamed: 0 all_awardings  allow_live_comments                author  \\\n",
       "0           0            []                False  IllustriousNovel7841   \n",
       "1           1            []                False  IllustriousNovel7841   \n",
       "2           2            []                False      RedPillPopper888   \n",
       "3           3            []                False         Fwindowserver   \n",
       "4           4            []                False  Ok_Conversation_6733   \n",
       "\n",
       "  author_flair_background_color author_flair_css_class author_flair_richtext  \\\n",
       "0                       #f7accf             millennial                    []   \n",
       "1                       #f7accf             millennial                    []   \n",
       "2                           NaN                    NaN                    []   \n",
       "3                           NaN                    NaN                    []   \n",
       "4                           NaN                    NaN                    []   \n",
       "\n",
       "               author_flair_template_id author_flair_text  \\\n",
       "0  65c72e52-ea27-11e9-a5e5-0e427099dabc        Millennial   \n",
       "1  65c72e52-ea27-11e9-a5e5-0e427099dabc        Millennial   \n",
       "2                                   NaN               NaN   \n",
       "3                                   NaN               NaN   \n",
       "4                                   NaN               NaN   \n",
       "\n",
       "  author_flair_text_color  ... crosspost_parent_list poll_data  media  \\\n",
       "0                   light  ...                   NaN       NaN    NaN   \n",
       "1                   light  ...                   NaN       NaN    NaN   \n",
       "2                     NaN  ...                   NaN       NaN    NaN   \n",
       "3                     NaN  ...                   NaN       NaN    NaN   \n",
       "4                     NaN  ...                   NaN       NaN    NaN   \n",
       "\n",
       "   media_embed  secure_media secure_media_embed  gallery_data  is_gallery  \\\n",
       "0          NaN           NaN                NaN           NaN         NaN   \n",
       "1          NaN           NaN                NaN           NaN         NaN   \n",
       "2          NaN           NaN                NaN           NaN         NaN   \n",
       "3          NaN           NaN                NaN           NaN         NaN   \n",
       "4          NaN           NaN                NaN           NaN         NaN   \n",
       "\n",
       "   media_metadata link_flair_css_class  \n",
       "0             NaN                  NaN  \n",
       "1             NaN                  NaN  \n",
       "2             NaN                  NaN  \n",
       "3             NaN                  NaN  \n",
       "4             NaN                  NaN  \n",
       "\n",
       "[5 rows x 83 columns]"
      ]
     },
     "execution_count": 165,
     "metadata": {},
     "output_type": "execute_result"
    }
   ],
   "source": [
    "df.head()"
   ]
  },
  {
   "cell_type": "code",
   "execution_count": 166,
   "id": "4e12faa0-0c0e-4771-9717-7733223196c1",
   "metadata": {},
   "outputs": [
    {
     "data": {
      "text/html": [
       "<div>\n",
       "<style scoped>\n",
       "    .dataframe tbody tr th:only-of-type {\n",
       "        vertical-align: middle;\n",
       "    }\n",
       "\n",
       "    .dataframe tbody tr th {\n",
       "        vertical-align: top;\n",
       "    }\n",
       "\n",
       "    .dataframe thead th {\n",
       "        text-align: right;\n",
       "    }\n",
       "</style>\n",
       "<table border=\"1\" class=\"dataframe\">\n",
       "  <thead>\n",
       "    <tr style=\"text-align: right;\">\n",
       "      <th></th>\n",
       "      <th>all_awardings</th>\n",
       "      <th>allow_live_comments</th>\n",
       "      <th>author</th>\n",
       "      <th>author_flair_background_color</th>\n",
       "      <th>author_flair_css_class</th>\n",
       "      <th>author_flair_richtext</th>\n",
       "      <th>author_flair_template_id</th>\n",
       "      <th>author_flair_text</th>\n",
       "      <th>author_flair_text_color</th>\n",
       "      <th>author_flair_type</th>\n",
       "      <th>...</th>\n",
       "      <th>crosspost_parent_list</th>\n",
       "      <th>poll_data</th>\n",
       "      <th>media</th>\n",
       "      <th>media_embed</th>\n",
       "      <th>secure_media</th>\n",
       "      <th>secure_media_embed</th>\n",
       "      <th>gallery_data</th>\n",
       "      <th>is_gallery</th>\n",
       "      <th>media_metadata</th>\n",
       "      <th>link_flair_css_class</th>\n",
       "    </tr>\n",
       "  </thead>\n",
       "  <tbody>\n",
       "    <tr>\n",
       "      <th>0</th>\n",
       "      <td>[]</td>\n",
       "      <td>False</td>\n",
       "      <td>IllustriousNovel7841</td>\n",
       "      <td>#f7accf</td>\n",
       "      <td>millennial</td>\n",
       "      <td>[]</td>\n",
       "      <td>65c72e52-ea27-11e9-a5e5-0e427099dabc</td>\n",
       "      <td>Millennial</td>\n",
       "      <td>light</td>\n",
       "      <td>text</td>\n",
       "      <td>...</td>\n",
       "      <td>NaN</td>\n",
       "      <td>NaN</td>\n",
       "      <td>NaN</td>\n",
       "      <td>NaN</td>\n",
       "      <td>NaN</td>\n",
       "      <td>NaN</td>\n",
       "      <td>NaN</td>\n",
       "      <td>NaN</td>\n",
       "      <td>NaN</td>\n",
       "      <td>NaN</td>\n",
       "    </tr>\n",
       "    <tr>\n",
       "      <th>1</th>\n",
       "      <td>[]</td>\n",
       "      <td>False</td>\n",
       "      <td>IllustriousNovel7841</td>\n",
       "      <td>#f7accf</td>\n",
       "      <td>millennial</td>\n",
       "      <td>[]</td>\n",
       "      <td>65c72e52-ea27-11e9-a5e5-0e427099dabc</td>\n",
       "      <td>Millennial</td>\n",
       "      <td>light</td>\n",
       "      <td>text</td>\n",
       "      <td>...</td>\n",
       "      <td>NaN</td>\n",
       "      <td>NaN</td>\n",
       "      <td>NaN</td>\n",
       "      <td>NaN</td>\n",
       "      <td>NaN</td>\n",
       "      <td>NaN</td>\n",
       "      <td>NaN</td>\n",
       "      <td>NaN</td>\n",
       "      <td>NaN</td>\n",
       "      <td>NaN</td>\n",
       "    </tr>\n",
       "    <tr>\n",
       "      <th>2</th>\n",
       "      <td>[]</td>\n",
       "      <td>False</td>\n",
       "      <td>RedPillPopper888</td>\n",
       "      <td>NaN</td>\n",
       "      <td>NaN</td>\n",
       "      <td>[]</td>\n",
       "      <td>NaN</td>\n",
       "      <td>NaN</td>\n",
       "      <td>NaN</td>\n",
       "      <td>text</td>\n",
       "      <td>...</td>\n",
       "      <td>NaN</td>\n",
       "      <td>NaN</td>\n",
       "      <td>NaN</td>\n",
       "      <td>NaN</td>\n",
       "      <td>NaN</td>\n",
       "      <td>NaN</td>\n",
       "      <td>NaN</td>\n",
       "      <td>NaN</td>\n",
       "      <td>NaN</td>\n",
       "      <td>NaN</td>\n",
       "    </tr>\n",
       "    <tr>\n",
       "      <th>3</th>\n",
       "      <td>[]</td>\n",
       "      <td>False</td>\n",
       "      <td>Fwindowserver</td>\n",
       "      <td>NaN</td>\n",
       "      <td>NaN</td>\n",
       "      <td>[]</td>\n",
       "      <td>NaN</td>\n",
       "      <td>NaN</td>\n",
       "      <td>NaN</td>\n",
       "      <td>text</td>\n",
       "      <td>...</td>\n",
       "      <td>NaN</td>\n",
       "      <td>NaN</td>\n",
       "      <td>NaN</td>\n",
       "      <td>NaN</td>\n",
       "      <td>NaN</td>\n",
       "      <td>NaN</td>\n",
       "      <td>NaN</td>\n",
       "      <td>NaN</td>\n",
       "      <td>NaN</td>\n",
       "      <td>NaN</td>\n",
       "    </tr>\n",
       "    <tr>\n",
       "      <th>4</th>\n",
       "      <td>[]</td>\n",
       "      <td>False</td>\n",
       "      <td>Ok_Conversation_6733</td>\n",
       "      <td>NaN</td>\n",
       "      <td>NaN</td>\n",
       "      <td>[]</td>\n",
       "      <td>NaN</td>\n",
       "      <td>NaN</td>\n",
       "      <td>NaN</td>\n",
       "      <td>text</td>\n",
       "      <td>...</td>\n",
       "      <td>NaN</td>\n",
       "      <td>NaN</td>\n",
       "      <td>NaN</td>\n",
       "      <td>NaN</td>\n",
       "      <td>NaN</td>\n",
       "      <td>NaN</td>\n",
       "      <td>NaN</td>\n",
       "      <td>NaN</td>\n",
       "      <td>NaN</td>\n",
       "      <td>NaN</td>\n",
       "    </tr>\n",
       "  </tbody>\n",
       "</table>\n",
       "<p>5 rows × 82 columns</p>\n",
       "</div>"
      ],
      "text/plain": [
       "  all_awardings  allow_live_comments                author  \\\n",
       "0            []                False  IllustriousNovel7841   \n",
       "1            []                False  IllustriousNovel7841   \n",
       "2            []                False      RedPillPopper888   \n",
       "3            []                False         Fwindowserver   \n",
       "4            []                False  Ok_Conversation_6733   \n",
       "\n",
       "  author_flair_background_color author_flair_css_class author_flair_richtext  \\\n",
       "0                       #f7accf             millennial                    []   \n",
       "1                       #f7accf             millennial                    []   \n",
       "2                           NaN                    NaN                    []   \n",
       "3                           NaN                    NaN                    []   \n",
       "4                           NaN                    NaN                    []   \n",
       "\n",
       "               author_flair_template_id author_flair_text  \\\n",
       "0  65c72e52-ea27-11e9-a5e5-0e427099dabc        Millennial   \n",
       "1  65c72e52-ea27-11e9-a5e5-0e427099dabc        Millennial   \n",
       "2                                   NaN               NaN   \n",
       "3                                   NaN               NaN   \n",
       "4                                   NaN               NaN   \n",
       "\n",
       "  author_flair_text_color author_flair_type  ... crosspost_parent_list  \\\n",
       "0                   light              text  ...                   NaN   \n",
       "1                   light              text  ...                   NaN   \n",
       "2                     NaN              text  ...                   NaN   \n",
       "3                     NaN              text  ...                   NaN   \n",
       "4                     NaN              text  ...                   NaN   \n",
       "\n",
       "   poll_data  media  media_embed secure_media  secure_media_embed  \\\n",
       "0        NaN    NaN          NaN          NaN                 NaN   \n",
       "1        NaN    NaN          NaN          NaN                 NaN   \n",
       "2        NaN    NaN          NaN          NaN                 NaN   \n",
       "3        NaN    NaN          NaN          NaN                 NaN   \n",
       "4        NaN    NaN          NaN          NaN                 NaN   \n",
       "\n",
       "   gallery_data  is_gallery media_metadata link_flair_css_class  \n",
       "0           NaN         NaN            NaN                  NaN  \n",
       "1           NaN         NaN            NaN                  NaN  \n",
       "2           NaN         NaN            NaN                  NaN  \n",
       "3           NaN         NaN            NaN                  NaN  \n",
       "4           NaN         NaN            NaN                  NaN  \n",
       "\n",
       "[5 rows x 82 columns]"
      ]
     },
     "execution_count": 166,
     "metadata": {},
     "output_type": "execute_result"
    }
   ],
   "source": [
    "df = df.drop(columns='Unnamed: 0')\n",
    "df.head()"
   ]
  },
  {
   "cell_type": "code",
   "execution_count": 167,
   "id": "7a91be80-e376-4ee0-a680-a318315bc99e",
   "metadata": {},
   "outputs": [
    {
     "data": {
      "text/plain": [
       "Millennials    1000\n",
       "GenZ           1000\n",
       "Name: subreddit, dtype: int64"
      ]
     },
     "execution_count": 167,
     "metadata": {},
     "output_type": "execute_result"
    }
   ],
   "source": [
    "df['subreddit'].value_counts()"
   ]
  },
  {
   "cell_type": "code",
   "execution_count": 168,
   "id": "3abfa5f2-df34-4d26-a451-b6ec55181567",
   "metadata": {},
   "outputs": [
    {
     "data": {
      "text/plain": [
       "1    1000\n",
       "0    1000\n",
       "Name: subreddit, dtype: int64"
      ]
     },
     "execution_count": 168,
     "metadata": {},
     "output_type": "execute_result"
    }
   ],
   "source": [
    "df['subreddit'] = df['subreddit'].map(lambda x: 1 if x == 'Millennials' else 0)\n",
    "df['subreddit'].value_counts()"
   ]
  },
  {
   "cell_type": "code",
   "execution_count": 169,
   "id": "e207bb64-1a40-4d2e-a478-47c2bd4f6a8e",
   "metadata": {},
   "outputs": [],
   "source": [
    "pd.set_option('display.max_rows', None)"
   ]
  },
  {
   "cell_type": "code",
   "execution_count": 170,
   "id": "58bdc54e-0bc9-4938-9a35-7dda2432e272",
   "metadata": {
    "scrolled": true,
    "tags": []
   },
   "outputs": [
    {
     "data": {
      "text/plain": [
       "all_awardings                       0\n",
       "allow_live_comments                 0\n",
       "author                              0\n",
       "author_flair_background_color    1797\n",
       "author_flair_css_class           1817\n",
       "author_flair_richtext               0\n",
       "author_flair_template_id         1217\n",
       "author_flair_text                1217\n",
       "author_flair_text_color          1217\n",
       "author_flair_type                   0\n",
       "author_fullname                     0\n",
       "author_is_blocked                   0\n",
       "author_patreon_flair                0\n",
       "author_premium                      0\n",
       "awarders                            0\n",
       "can_mod_post                        0\n",
       "contest_mode                        0\n",
       "created_utc                         0\n",
       "domain                              0\n",
       "full_link                           0\n",
       "gildings                            0\n",
       "id                                  0\n",
       "is_created_from_ads_ui              0\n",
       "is_crosspostable                    0\n",
       "is_meta                             0\n",
       "is_original_content                 0\n",
       "is_reddit_media_domain              0\n",
       "is_robot_indexable                  0\n",
       "is_self                             0\n",
       "is_video                            0\n",
       "link_flair_background_color        30\n",
       "link_flair_richtext                 0\n",
       "link_flair_template_id             30\n",
       "link_flair_text                    30\n",
       "link_flair_text_color               0\n",
       "link_flair_type                     0\n",
       "locked                              0\n",
       "media_only                          0\n",
       "no_follow                           0\n",
       "num_comments                        0\n",
       "num_crossposts                      0\n",
       "over_18                             0\n",
       "parent_whitelist_status             0\n",
       "permalink                           0\n",
       "pinned                              0\n",
       "post_hint                         998\n",
       "preview                           998\n",
       "pwls                                0\n",
       "retrieved_on                        0\n",
       "score                               0\n",
       "selftext                         1069\n",
       "send_replies                        0\n",
       "spoiler                             0\n",
       "stickied                            0\n",
       "subreddit                           0\n",
       "subreddit_id                        0\n",
       "subreddit_subscribers               0\n",
       "subreddit_type                      0\n",
       "suggested_sort                    990\n",
       "thumbnail                           0\n",
       "thumbnail_height                 1051\n",
       "thumbnail_width                  1051\n",
       "title                               0\n",
       "total_awards_received               0\n",
       "treatment_tags                      0\n",
       "upvote_ratio                        0\n",
       "url                                 0\n",
       "url_overridden_by_dest           1015\n",
       "whitelist_status                    0\n",
       "wls                                 0\n",
       "removed_by_category              1505\n",
       "crosspost_parent                 1905\n",
       "crosspost_parent_list            1905\n",
       "poll_data                        1960\n",
       "media                            1784\n",
       "media_embed                      1784\n",
       "secure_media                     1784\n",
       "secure_media_embed               1784\n",
       "gallery_data                     1936\n",
       "is_gallery                       1936\n",
       "media_metadata                   1936\n",
       "link_flair_css_class             1050\n",
       "dtype: int64"
      ]
     },
     "execution_count": 170,
     "metadata": {},
     "output_type": "execute_result"
    }
   ],
   "source": [
    "df.isnull().sum()"
   ]
  },
  {
   "cell_type": "code",
   "execution_count": 171,
   "id": "1a6eced0-743a-4468-b33f-c9526360fe5d",
   "metadata": {
    "scrolled": true,
    "tags": []
   },
   "outputs": [
    {
     "name": "stdout",
     "output_type": "stream",
     "text": [
      "<class 'pandas.core.frame.DataFrame'>\n",
      "RangeIndex: 2000 entries, 0 to 1999\n",
      "Data columns (total 82 columns):\n",
      " #   Column                         Non-Null Count  Dtype  \n",
      "---  ------                         --------------  -----  \n",
      " 0   all_awardings                  2000 non-null   object \n",
      " 1   allow_live_comments            2000 non-null   bool   \n",
      " 2   author                         2000 non-null   object \n",
      " 3   author_flair_background_color  203 non-null    object \n",
      " 4   author_flair_css_class         183 non-null    object \n",
      " 5   author_flair_richtext          2000 non-null   object \n",
      " 6   author_flair_template_id       783 non-null    object \n",
      " 7   author_flair_text              783 non-null    object \n",
      " 8   author_flair_text_color        783 non-null    object \n",
      " 9   author_flair_type              2000 non-null   object \n",
      " 10  author_fullname                2000 non-null   object \n",
      " 11  author_is_blocked              2000 non-null   bool   \n",
      " 12  author_patreon_flair           2000 non-null   bool   \n",
      " 13  author_premium                 2000 non-null   bool   \n",
      " 14  awarders                       2000 non-null   object \n",
      " 15  can_mod_post                   2000 non-null   bool   \n",
      " 16  contest_mode                   2000 non-null   bool   \n",
      " 17  created_utc                    2000 non-null   int64  \n",
      " 18  domain                         2000 non-null   object \n",
      " 19  full_link                      2000 non-null   object \n",
      " 20  gildings                       2000 non-null   object \n",
      " 21  id                             2000 non-null   object \n",
      " 22  is_created_from_ads_ui         2000 non-null   bool   \n",
      " 23  is_crosspostable               2000 non-null   bool   \n",
      " 24  is_meta                        2000 non-null   bool   \n",
      " 25  is_original_content            2000 non-null   bool   \n",
      " 26  is_reddit_media_domain         2000 non-null   bool   \n",
      " 27  is_robot_indexable             2000 non-null   bool   \n",
      " 28  is_self                        2000 non-null   bool   \n",
      " 29  is_video                       2000 non-null   bool   \n",
      " 30  link_flair_background_color    1970 non-null   object \n",
      " 31  link_flair_richtext            2000 non-null   object \n",
      " 32  link_flair_template_id         1970 non-null   object \n",
      " 33  link_flair_text                1970 non-null   object \n",
      " 34  link_flair_text_color          2000 non-null   object \n",
      " 35  link_flair_type                2000 non-null   object \n",
      " 36  locked                         2000 non-null   bool   \n",
      " 37  media_only                     2000 non-null   bool   \n",
      " 38  no_follow                      2000 non-null   bool   \n",
      " 39  num_comments                   2000 non-null   int64  \n",
      " 40  num_crossposts                 2000 non-null   int64  \n",
      " 41  over_18                        2000 non-null   bool   \n",
      " 42  parent_whitelist_status        2000 non-null   object \n",
      " 43  permalink                      2000 non-null   object \n",
      " 44  pinned                         2000 non-null   bool   \n",
      " 45  post_hint                      1002 non-null   object \n",
      " 46  preview                        1002 non-null   object \n",
      " 47  pwls                           2000 non-null   int64  \n",
      " 48  retrieved_on                   2000 non-null   int64  \n",
      " 49  score                          2000 non-null   int64  \n",
      " 50  selftext                       931 non-null    object \n",
      " 51  send_replies                   2000 non-null   bool   \n",
      " 52  spoiler                        2000 non-null   bool   \n",
      " 53  stickied                       2000 non-null   bool   \n",
      " 54  subreddit                      2000 non-null   int64  \n",
      " 55  subreddit_id                   2000 non-null   object \n",
      " 56  subreddit_subscribers          2000 non-null   int64  \n",
      " 57  subreddit_type                 2000 non-null   object \n",
      " 58  suggested_sort                 1010 non-null   object \n",
      " 59  thumbnail                      2000 non-null   object \n",
      " 60  thumbnail_height               949 non-null    float64\n",
      " 61  thumbnail_width                949 non-null    float64\n",
      " 62  title                          2000 non-null   object \n",
      " 63  total_awards_received          2000 non-null   int64  \n",
      " 64  treatment_tags                 2000 non-null   object \n",
      " 65  upvote_ratio                   2000 non-null   float64\n",
      " 66  url                            2000 non-null   object \n",
      " 67  url_overridden_by_dest         985 non-null    object \n",
      " 68  whitelist_status               2000 non-null   object \n",
      " 69  wls                            2000 non-null   int64  \n",
      " 70  removed_by_category            495 non-null    object \n",
      " 71  crosspost_parent               95 non-null     object \n",
      " 72  crosspost_parent_list          95 non-null     object \n",
      " 73  poll_data                      40 non-null     object \n",
      " 74  media                          216 non-null    object \n",
      " 75  media_embed                    216 non-null    object \n",
      " 76  secure_media                   216 non-null    object \n",
      " 77  secure_media_embed             216 non-null    object \n",
      " 78  gallery_data                   64 non-null     object \n",
      " 79  is_gallery                     64 non-null     object \n",
      " 80  media_metadata                 64 non-null     object \n",
      " 81  link_flair_css_class           950 non-null    object \n",
      "dtypes: bool(22), float64(3), int64(10), object(47)\n",
      "memory usage: 980.6+ KB\n"
     ]
    }
   ],
   "source": [
    "df.info()"
   ]
  },
  {
   "cell_type": "markdown",
   "id": "c1e93f6f-3277-4adf-8314-479bb4811aea",
   "metadata": {},
   "source": [
    "I need to fill in the blanks for missing data. A couple of columns only have 30 missing data. Anything above that we will drop the columns\n"
   ]
  },
  {
   "cell_type": "code",
   "execution_count": 172,
   "id": "fb655a35-28e0-480f-bf57-e97223c1dcc6",
   "metadata": {
    "scrolled": true,
    "tags": []
   },
   "outputs": [
    {
     "data": {
      "text/plain": [
       "['all_awardings',\n",
       " 'allow_live_comments',\n",
       " 'author',\n",
       " 'author_flair_background_color',\n",
       " 'author_flair_css_class',\n",
       " 'author_flair_richtext',\n",
       " 'author_flair_template_id',\n",
       " 'author_flair_text',\n",
       " 'author_flair_text_color',\n",
       " 'author_flair_type',\n",
       " 'author_fullname',\n",
       " 'author_is_blocked',\n",
       " 'author_patreon_flair',\n",
       " 'author_premium',\n",
       " 'awarders',\n",
       " 'can_mod_post',\n",
       " 'contest_mode',\n",
       " 'created_utc',\n",
       " 'domain',\n",
       " 'full_link',\n",
       " 'gildings',\n",
       " 'id',\n",
       " 'is_created_from_ads_ui',\n",
       " 'is_crosspostable',\n",
       " 'is_meta',\n",
       " 'is_original_content',\n",
       " 'is_reddit_media_domain',\n",
       " 'is_robot_indexable',\n",
       " 'is_self',\n",
       " 'is_video',\n",
       " 'link_flair_background_color',\n",
       " 'link_flair_richtext',\n",
       " 'link_flair_template_id',\n",
       " 'link_flair_text',\n",
       " 'link_flair_text_color',\n",
       " 'link_flair_type',\n",
       " 'locked',\n",
       " 'media_only',\n",
       " 'no_follow',\n",
       " 'num_comments',\n",
       " 'num_crossposts',\n",
       " 'over_18',\n",
       " 'parent_whitelist_status',\n",
       " 'permalink',\n",
       " 'pinned',\n",
       " 'post_hint',\n",
       " 'preview',\n",
       " 'pwls',\n",
       " 'retrieved_on',\n",
       " 'score',\n",
       " 'selftext',\n",
       " 'send_replies',\n",
       " 'spoiler',\n",
       " 'stickied',\n",
       " 'subreddit',\n",
       " 'subreddit_id',\n",
       " 'subreddit_subscribers',\n",
       " 'subreddit_type',\n",
       " 'suggested_sort',\n",
       " 'thumbnail',\n",
       " 'thumbnail_height',\n",
       " 'thumbnail_width',\n",
       " 'title',\n",
       " 'total_awards_received',\n",
       " 'treatment_tags',\n",
       " 'upvote_ratio',\n",
       " 'url',\n",
       " 'url_overridden_by_dest',\n",
       " 'whitelist_status',\n",
       " 'wls',\n",
       " 'removed_by_category',\n",
       " 'crosspost_parent',\n",
       " 'crosspost_parent_list',\n",
       " 'poll_data',\n",
       " 'media',\n",
       " 'media_embed',\n",
       " 'secure_media',\n",
       " 'secure_media_embed',\n",
       " 'gallery_data',\n",
       " 'is_gallery',\n",
       " 'media_metadata',\n",
       " 'link_flair_css_class']"
      ]
     },
     "execution_count": 172,
     "metadata": {},
     "output_type": "execute_result"
    }
   ],
   "source": [
    "df_cols = [n for n in df.columns]\n",
    "df_cols"
   ]
  },
  {
   "cell_type": "code",
   "execution_count": 173,
   "id": "2e2517ca-b230-4309-b224-4a7f125e9f20",
   "metadata": {},
   "outputs": [
    {
     "data": {
      "text/plain": [
       "['author_flair_background_color',\n",
       " 'author_flair_css_class',\n",
       " 'author_flair_template_id',\n",
       " 'author_flair_text',\n",
       " 'author_flair_text_color',\n",
       " 'post_hint',\n",
       " 'preview',\n",
       " 'selftext',\n",
       " 'suggested_sort',\n",
       " 'thumbnail_height',\n",
       " 'thumbnail_width',\n",
       " 'url_overridden_by_dest',\n",
       " 'removed_by_category',\n",
       " 'crosspost_parent',\n",
       " 'crosspost_parent_list',\n",
       " 'poll_data',\n",
       " 'media',\n",
       " 'media_embed',\n",
       " 'secure_media',\n",
       " 'secure_media_embed',\n",
       " 'gallery_data',\n",
       " 'is_gallery',\n",
       " 'media_metadata',\n",
       " 'link_flair_css_class']"
      ]
     },
     "execution_count": 173,
     "metadata": {},
     "output_type": "execute_result"
    }
   ],
   "source": [
    "#drop every column where null values are more than 50\n",
    "c = 0\n",
    "df_del = []\n",
    "for i in df.isnull().sum():\n",
    "    if i > 30:\n",
    "        df_del.append(df_cols[c])\n",
    "    c += 1\n",
    "df_del"
   ]
  },
  {
   "cell_type": "code",
   "execution_count": 174,
   "id": "b11cd9b7-fe20-47cd-b632-5d45c440db44",
   "metadata": {},
   "outputs": [],
   "source": [
    "df_chopped = df.drop(columns = df_del)\n",
    "df_chopped.dropna(inplace=True)"
   ]
  },
  {
   "cell_type": "code",
   "execution_count": 175,
   "id": "535399a9-3a79-4217-a78c-e0c8d1b07c1c",
   "metadata": {},
   "outputs": [
    {
     "data": {
      "text/plain": [
       "0    1000\n",
       "1     970\n",
       "Name: subreddit, dtype: int64"
      ]
     },
     "execution_count": 175,
     "metadata": {},
     "output_type": "execute_result"
    }
   ],
   "source": [
    "df_chopped['subreddit'].value_counts()"
   ]
  },
  {
   "cell_type": "markdown",
   "id": "0f173497-1127-4eb5-a0c4-95140d950059",
   "metadata": {},
   "source": [
    "Let's look for correlation. We only need to look at integer values for now\n"
   ]
  },
  {
   "cell_type": "code",
   "execution_count": 176,
   "id": "fd852764-3866-4ef9-8e33-e8caf5e796bf",
   "metadata": {},
   "outputs": [
    {
     "name": "stdout",
     "output_type": "stream",
     "text": [
      "<class 'pandas.core.frame.DataFrame'>\n",
      "Int64Index: 1970 entries, 0 to 1999\n",
      "Data columns (total 58 columns):\n",
      " #   Column                       Non-Null Count  Dtype  \n",
      "---  ------                       --------------  -----  \n",
      " 0   all_awardings                1970 non-null   object \n",
      " 1   allow_live_comments          1970 non-null   bool   \n",
      " 2   author                       1970 non-null   object \n",
      " 3   author_flair_richtext        1970 non-null   object \n",
      " 4   author_flair_type            1970 non-null   object \n",
      " 5   author_fullname              1970 non-null   object \n",
      " 6   author_is_blocked            1970 non-null   bool   \n",
      " 7   author_patreon_flair         1970 non-null   bool   \n",
      " 8   author_premium               1970 non-null   bool   \n",
      " 9   awarders                     1970 non-null   object \n",
      " 10  can_mod_post                 1970 non-null   bool   \n",
      " 11  contest_mode                 1970 non-null   bool   \n",
      " 12  created_utc                  1970 non-null   int64  \n",
      " 13  domain                       1970 non-null   object \n",
      " 14  full_link                    1970 non-null   object \n",
      " 15  gildings                     1970 non-null   object \n",
      " 16  id                           1970 non-null   object \n",
      " 17  is_created_from_ads_ui       1970 non-null   bool   \n",
      " 18  is_crosspostable             1970 non-null   bool   \n",
      " 19  is_meta                      1970 non-null   bool   \n",
      " 20  is_original_content          1970 non-null   bool   \n",
      " 21  is_reddit_media_domain       1970 non-null   bool   \n",
      " 22  is_robot_indexable           1970 non-null   bool   \n",
      " 23  is_self                      1970 non-null   bool   \n",
      " 24  is_video                     1970 non-null   bool   \n",
      " 25  link_flair_background_color  1970 non-null   object \n",
      " 26  link_flair_richtext          1970 non-null   object \n",
      " 27  link_flair_template_id       1970 non-null   object \n",
      " 28  link_flair_text              1970 non-null   object \n",
      " 29  link_flair_text_color        1970 non-null   object \n",
      " 30  link_flair_type              1970 non-null   object \n",
      " 31  locked                       1970 non-null   bool   \n",
      " 32  media_only                   1970 non-null   bool   \n",
      " 33  no_follow                    1970 non-null   bool   \n",
      " 34  num_comments                 1970 non-null   int64  \n",
      " 35  num_crossposts               1970 non-null   int64  \n",
      " 36  over_18                      1970 non-null   bool   \n",
      " 37  parent_whitelist_status      1970 non-null   object \n",
      " 38  permalink                    1970 non-null   object \n",
      " 39  pinned                       1970 non-null   bool   \n",
      " 40  pwls                         1970 non-null   int64  \n",
      " 41  retrieved_on                 1970 non-null   int64  \n",
      " 42  score                        1970 non-null   int64  \n",
      " 43  send_replies                 1970 non-null   bool   \n",
      " 44  spoiler                      1970 non-null   bool   \n",
      " 45  stickied                     1970 non-null   bool   \n",
      " 46  subreddit                    1970 non-null   int64  \n",
      " 47  subreddit_id                 1970 non-null   object \n",
      " 48  subreddit_subscribers        1970 non-null   int64  \n",
      " 49  subreddit_type               1970 non-null   object \n",
      " 50  thumbnail                    1970 non-null   object \n",
      " 51  title                        1970 non-null   object \n",
      " 52  total_awards_received        1970 non-null   int64  \n",
      " 53  treatment_tags               1970 non-null   object \n",
      " 54  upvote_ratio                 1970 non-null   float64\n",
      " 55  url                          1970 non-null   object \n",
      " 56  whitelist_status             1970 non-null   object \n",
      " 57  wls                          1970 non-null   int64  \n",
      "dtypes: bool(22), float64(1), int64(10), object(25)\n",
      "memory usage: 611.8+ KB\n"
     ]
    }
   ],
   "source": [
    "df_chopped.info()"
   ]
  },
  {
   "cell_type": "code",
   "execution_count": 177,
   "id": "14eb8494-dcab-4831-abee-5b778e5283c5",
   "metadata": {},
   "outputs": [
    {
     "data": {
      "text/plain": [
       "Index(['all_awardings', 'allow_live_comments', 'author',\n",
       "       'author_flair_richtext', 'author_flair_type', 'author_fullname',\n",
       "       'author_is_blocked', 'author_patreon_flair', 'author_premium',\n",
       "       'awarders', 'can_mod_post', 'contest_mode', 'created_utc', 'domain',\n",
       "       'full_link', 'gildings', 'id', 'is_created_from_ads_ui',\n",
       "       'is_crosspostable', 'is_meta', 'is_original_content',\n",
       "       'is_reddit_media_domain', 'is_robot_indexable', 'is_self', 'is_video',\n",
       "       'link_flair_background_color', 'link_flair_richtext',\n",
       "       'link_flair_template_id', 'link_flair_text', 'link_flair_text_color',\n",
       "       'link_flair_type', 'locked', 'media_only', 'no_follow', 'num_comments',\n",
       "       'num_crossposts', 'over_18', 'parent_whitelist_status', 'permalink',\n",
       "       'pinned', 'pwls', 'retrieved_on', 'score', 'send_replies', 'spoiler',\n",
       "       'stickied', 'subreddit', 'subreddit_id', 'subreddit_subscribers',\n",
       "       'subreddit_type', 'thumbnail', 'title', 'total_awards_received',\n",
       "       'treatment_tags', 'upvote_ratio', 'url', 'whitelist_status', 'wls'],\n",
       "      dtype='object')"
      ]
     },
     "execution_count": 177,
     "metadata": {},
     "output_type": "execute_result"
    }
   ],
   "source": [
    "df_chopped.columns"
   ]
  },
  {
   "cell_type": "code",
   "execution_count": 178,
   "id": "c76aa2cd-1116-48f3-ba2f-33f930ca0a48",
   "metadata": {
    "scrolled": true,
    "tags": []
   },
   "outputs": [
    {
     "data": {
      "text/plain": [
       "all_awardings                   object\n",
       "allow_live_comments               bool\n",
       "author                          object\n",
       "author_flair_richtext           object\n",
       "author_flair_type               object\n",
       "author_fullname                 object\n",
       "author_is_blocked                 bool\n",
       "author_patreon_flair              bool\n",
       "author_premium                    bool\n",
       "awarders                        object\n",
       "can_mod_post                      bool\n",
       "contest_mode                      bool\n",
       "created_utc                      int64\n",
       "domain                          object\n",
       "full_link                       object\n",
       "gildings                        object\n",
       "id                              object\n",
       "is_created_from_ads_ui            bool\n",
       "is_crosspostable                  bool\n",
       "is_meta                           bool\n",
       "is_original_content               bool\n",
       "is_reddit_media_domain            bool\n",
       "is_robot_indexable                bool\n",
       "is_self                           bool\n",
       "is_video                          bool\n",
       "link_flair_background_color     object\n",
       "link_flair_richtext             object\n",
       "link_flair_template_id          object\n",
       "link_flair_text                 object\n",
       "link_flair_text_color           object\n",
       "link_flair_type                 object\n",
       "locked                            bool\n",
       "media_only                        bool\n",
       "no_follow                         bool\n",
       "num_comments                     int64\n",
       "num_crossposts                   int64\n",
       "over_18                           bool\n",
       "parent_whitelist_status         object\n",
       "permalink                       object\n",
       "pinned                            bool\n",
       "pwls                             int64\n",
       "retrieved_on                     int64\n",
       "score                            int64\n",
       "send_replies                      bool\n",
       "spoiler                           bool\n",
       "stickied                          bool\n",
       "subreddit                        int64\n",
       "subreddit_id                    object\n",
       "subreddit_subscribers            int64\n",
       "subreddit_type                  object\n",
       "thumbnail                       object\n",
       "title                           object\n",
       "total_awards_received            int64\n",
       "treatment_tags                  object\n",
       "upvote_ratio                   float64\n",
       "url                             object\n",
       "whitelist_status                object\n",
       "wls                              int64\n",
       "dtype: object"
      ]
     },
     "execution_count": 178,
     "metadata": {},
     "output_type": "execute_result"
    }
   ],
   "source": [
    "df_chopped.dtypes"
   ]
  },
  {
   "cell_type": "code",
   "execution_count": 179,
   "id": "a98f098a-4833-4db1-82d3-666b7854429e",
   "metadata": {},
   "outputs": [
    {
     "data": {
      "text/plain": [
       "['allow_live_comments',\n",
       " 'author_is_blocked',\n",
       " 'author_patreon_flair',\n",
       " 'author_premium',\n",
       " 'can_mod_post',\n",
       " 'contest_mode',\n",
       " 'created_utc',\n",
       " 'is_created_from_ads_ui',\n",
       " 'is_crosspostable',\n",
       " 'is_meta',\n",
       " 'is_original_content',\n",
       " 'is_reddit_media_domain',\n",
       " 'is_robot_indexable',\n",
       " 'is_self',\n",
       " 'is_video',\n",
       " 'locked',\n",
       " 'media_only',\n",
       " 'no_follow',\n",
       " 'num_comments',\n",
       " 'num_crossposts',\n",
       " 'over_18',\n",
       " 'pinned',\n",
       " 'pwls',\n",
       " 'retrieved_on',\n",
       " 'score',\n",
       " 'send_replies',\n",
       " 'spoiler',\n",
       " 'stickied',\n",
       " 'subreddit',\n",
       " 'subreddit_subscribers',\n",
       " 'total_awards_received',\n",
       " 'upvote_ratio',\n",
       " 'wls']"
      ]
     },
     "execution_count": 179,
     "metadata": {},
     "output_type": "execute_result"
    }
   ],
   "source": [
    "#nums = [n for n in df_chopped.dtypes if n != 'O']\n",
    "nums = []\n",
    "c = 0\n",
    "for i in df_chopped.dtypes:\n",
    "    if i != 'O':\n",
    "        nums.append(df_chopped.columns[c])\n",
    "    c += 1\n",
    "nums"
   ]
  },
  {
   "cell_type": "code",
   "execution_count": 180,
   "id": "b88e5833-5e5a-41c8-a51c-0e2491be70a3",
   "metadata": {},
   "outputs": [],
   "source": [
    "df_nums = df_chopped[nums]"
   ]
  },
  {
   "cell_type": "code",
   "execution_count": 181,
   "id": "50b76a40-78fa-4752-bac7-18ce6c522e73",
   "metadata": {},
   "outputs": [
    {
     "data": {
      "image/png": "[encoded data removed]",
      "text/plain": [
       "<Figure size 720x576 with 2 Axes>"
      ]
     },
     "metadata": {
      "needs_background": "light"
     },
     "output_type": "display_data"
    }
   ],
   "source": [
    "#Let's see the heat map without making dummies to see if we can reduce this further\n",
    "#Based on Breakfast hour Thursday the 9th\n",
    "plt.figure(figsize=(10,8))\n",
    "sns.heatmap(df_nums.corr()[['subreddit']].sort_values(by='subreddit',ascending=False),\n",
    "            annot = True,\n",
    "            vmin = -1,\n",
    "            vmax = 1,\n",
    "            cmap = 'coolwarm');"
   ]
  },
  {
   "cell_type": "markdown",
   "id": "701a487b-dc9f-427c-8167-07eb3998560d",
   "metadata": {},
   "source": [
    "Interestingly we see a negative correlation between num of comments and subreddit."
   ]
  },
  {
   "cell_type": "markdown",
   "id": "6094b239-a7f2-49ad-9824-06956e78ce41",
   "metadata": {},
   "source": [
    "This indicates that the more comments there are, the more likely it is to be in the GenZ subreddit\n"
   ]
  },
  {
   "cell_type": "code",
   "execution_count": 184,
   "id": "b869899a-a279-4a67-9bb1-4e5f31484659",
   "metadata": {
    "scrolled": true,
    "tags": []
   },
   "outputs": [
    {
     "name": "stdout",
     "output_type": "stream",
     "text": [
      "<class 'pandas.core.frame.DataFrame'>\n",
      "RangeIndex: 2000 entries, 0 to 1999\n",
      "Data columns (total 82 columns):\n",
      " #   Column                         Non-Null Count  Dtype  \n",
      "---  ------                         --------------  -----  \n",
      " 0   all_awardings                  2000 non-null   object \n",
      " 1   allow_live_comments            2000 non-null   bool   \n",
      " 2   author                         2000 non-null   object \n",
      " 3   author_flair_background_color  203 non-null    object \n",
      " 4   author_flair_css_class         183 non-null    object \n",
      " 5   author_flair_richtext          2000 non-null   object \n",
      " 6   author_flair_template_id       783 non-null    object \n",
      " 7   author_flair_text              783 non-null    object \n",
      " 8   author_flair_text_color        783 non-null    object \n",
      " 9   author_flair_type              2000 non-null   object \n",
      " 10  author_fullname                2000 non-null   object \n",
      " 11  author_is_blocked              2000 non-null   bool   \n",
      " 12  author_patreon_flair           2000 non-null   bool   \n",
      " 13  author_premium                 2000 non-null   bool   \n",
      " 14  awarders                       2000 non-null   object \n",
      " 15  can_mod_post                   2000 non-null   bool   \n",
      " 16  contest_mode                   2000 non-null   bool   \n",
      " 17  created_utc                    2000 non-null   int64  \n",
      " 18  domain                         2000 non-null   object \n",
      " 19  full_link                      2000 non-null   object \n",
      " 20  gildings                       2000 non-null   object \n",
      " 21  id                             2000 non-null   object \n",
      " 22  is_created_from_ads_ui         2000 non-null   bool   \n",
      " 23  is_crosspostable               2000 non-null   bool   \n",
      " 24  is_meta                        2000 non-null   bool   \n",
      " 25  is_original_content            2000 non-null   bool   \n",
      " 26  is_reddit_media_domain         2000 non-null   bool   \n",
      " 27  is_robot_indexable             2000 non-null   bool   \n",
      " 28  is_self                        2000 non-null   bool   \n",
      " 29  is_video                       2000 non-null   bool   \n",
      " 30  link_flair_background_color    1970 non-null   object \n",
      " 31  link_flair_richtext            2000 non-null   object \n",
      " 32  link_flair_template_id         1970 non-null   object \n",
      " 33  link_flair_text                1970 non-null   object \n",
      " 34  link_flair_text_color          2000 non-null   object \n",
      " 35  link_flair_type                2000 non-null   object \n",
      " 36  locked                         2000 non-null   bool   \n",
      " 37  media_only                     2000 non-null   bool   \n",
      " 38  no_follow                      2000 non-null   bool   \n",
      " 39  num_comments                   2000 non-null   int64  \n",
      " 40  num_crossposts                 2000 non-null   int64  \n",
      " 41  over_18                        2000 non-null   bool   \n",
      " 42  parent_whitelist_status        2000 non-null   object \n",
      " 43  permalink                      2000 non-null   object \n",
      " 44  pinned                         2000 non-null   bool   \n",
      " 45  post_hint                      1002 non-null   object \n",
      " 46  preview                        1002 non-null   object \n",
      " 47  pwls                           2000 non-null   int64  \n",
      " 48  retrieved_on                   2000 non-null   int64  \n",
      " 49  score                          2000 non-null   int64  \n",
      " 50  selftext                       931 non-null    object \n",
      " 51  send_replies                   2000 non-null   bool   \n",
      " 52  spoiler                        2000 non-null   bool   \n",
      " 53  stickied                       2000 non-null   bool   \n",
      " 54  subreddit                      2000 non-null   int64  \n",
      " 55  subreddit_id                   2000 non-null   object \n",
      " 56  subreddit_subscribers          2000 non-null   int64  \n",
      " 57  subreddit_type                 2000 non-null   object \n",
      " 58  suggested_sort                 1010 non-null   object \n",
      " 59  thumbnail                      2000 non-null   object \n",
      " 60  thumbnail_height               949 non-null    float64\n",
      " 61  thumbnail_width                949 non-null    float64\n",
      " 62  title                          2000 non-null   object \n",
      " 63  total_awards_received          2000 non-null   int64  \n",
      " 64  treatment_tags                 2000 non-null   object \n",
      " 65  upvote_ratio                   2000 non-null   float64\n",
      " 66  url                            2000 non-null   object \n",
      " 67  url_overridden_by_dest         985 non-null    object \n",
      " 68  whitelist_status               2000 non-null   object \n",
      " 69  wls                            2000 non-null   int64  \n",
      " 70  removed_by_category            495 non-null    object \n",
      " 71  crosspost_parent               95 non-null     object \n",
      " 72  crosspost_parent_list          95 non-null     object \n",
      " 73  poll_data                      40 non-null     object \n",
      " 74  media                          216 non-null    object \n",
      " 75  media_embed                    216 non-null    object \n",
      " 76  secure_media                   216 non-null    object \n",
      " 77  secure_media_embed             216 non-null    object \n",
      " 78  gallery_data                   64 non-null     object \n",
      " 79  is_gallery                     64 non-null     object \n",
      " 80  media_metadata                 64 non-null     object \n",
      " 81  link_flair_css_class           950 non-null    object \n",
      "dtypes: bool(22), float64(3), int64(10), object(47)\n",
      "memory usage: 980.6+ KB\n"
     ]
    }
   ],
   "source": [
    "df.info()"
   ]
  },
  {
   "cell_type": "markdown",
   "id": "a9720e47-f4f6-4780-ac0e-28c5e4776981",
   "metadata": {},
   "source": [
    "Let's deal with the title and the selftext to see if there is a difference between them in the 2 subreddits. We will start with title"
   ]
  },
  {
   "cell_type": "code",
   "execution_count": 185,
   "id": "e22233f8-1419-4993-918b-592c09196c20",
   "metadata": {
    "scrolled": true,
    "tags": []
   },
   "outputs": [
    {
     "data": {
      "text/plain": [
       "Do people in their twenties really determine pop music?                                                                                                                                                                                                                                               20\n",
       "Are You Tired Yet?                                                                                                                                                                                                                                                                                    15\n",
       "VHS Movies                                                                                                                                                                                                                                                                                            12\n",
       "Who had a Nick Magazine?                                                                                                                                                                                                                                                                              10\n",
       "If you had to pick your favorite nostalgic spot in this Nintendo Generational Timeline. What would it be?                                                                                                                                                                                             10\n",
       "1995 isn't gen Z anymore?                                                                                                                                                                                                                                                                             10\n",
       "On 1995 being recently removed, any people born 1995 here?                                                                                                                                                                                                                                            10\n",
       "Why is gen z so narcissistic?                                                                                                                                                                                                                                                                         10\n",
       "This dude is definitely joking 😂                                                                                                                                                                                                                                                                      10\n",
       "What does this remind you of?                                                                                                                                                                                                                                                                         10\n",
       "Honestly some of these teens out there be looking older than me and I’m 22 😂                                                                                                                                                                                                                          10\n",
       "17 year olds are more similar to 13 year olds than 18 year olds.                                                                                                                                                                                                                                      10\n",
       "First steps (November, 2001) -&gt; First mini marathon (May, 2008)                                                                                                                                                                                                                                    10\n",
       "what you guys think of the age of consent                                                                                                                                                                                                                                                             10\n",
       "does anyone else think this is fucking weird?                                                                                                                                                                                                                                                         10\n",
       "Late 2000s starterpack                                                                                                                                                                                                                                                                                10\n",
       "Black Ops 2 was an amazing part of my childhood.                                                                                                                                                                                                                                                      10\n",
       "If you could be 16 years old again, what would you do differently?                                                                                                                                                                                                                                    10\n",
       "For The Late-Millenials And Early Zoomers who grew up with \"Max And Ruby\", who did you often side with more?                                                                                                                                                                                          10\n",
       "Depressed about turning 20                                                                                                                                                                                                                                                                            10\n",
       "How integrated do you think trans women will become in western society?                                                                                                                                                                                                                               10\n",
       "👑79.city| Play Here, Win Here👑 Welcome to the Global Blockchain FREE 3 Spin Everyday Lottery Platform!🤑 Make ur deposit QUICK and SIMPLE💳 ®️REGISTER IT NOW®️ 79.city                                                                                                                                 10\n",
       "From the perspective of an older Gen-Zer contemplating building a family someday….                                                                                                                                                                                                                    10\n",
       "What does this remind you of? Round 2                                                                                                                                                                                                                                                                 10\n",
       "Does anyone else remember the yahoo jingle? 😭 hearing that brought back so much nostalgia                                                                                                                                                                                                             10\n",
       "Cant believe this movie is 12 years old. I was in theaters when I saw this and there were so many emotions. This was the year I got my woody doll with the hat and pull string. The year I dressed up as woody for Halloween. With signature hat, handkerchief, leather spur boots, belt, and gun.    10\n",
       "r/GenZ Weekly General Discussion Thread                                                                                                                                                                                                                                                               10\n",
       "Were you taking vacations without family as a 20-something?                                                                                                                                                                                                                                           10\n",
       "Today, Internet Explorer will retire after 27 years. Goodbye to our adolescence.                                                                                                                                                                                                                      10\n",
       "I’m GenZ (2005). ask me anything!                                                                                                                                                                                                                                                                     10\n",
       "Are there any millennial folks who play the game Friday Night Funkin'?                                                                                                                                                                                                                                10\n",
       "Mid 2010s starterpack                                                                                                                                                                                                                                                                                 10\n",
       "You Can Change the Future with Buying Decisions                                                                                                                                                                                                                                                       10\n",
       "What do you all think of this excerpt Pro-Life Louisiana Gov. John Bel Edwards (D) response to the overturning of Roe v. Wade?                                                                                                                                                                        10\n",
       "What are similarities and differences between first and last Gen Z's?                                                                                                                                                                                                                                 10\n",
       "Pretty much.                                                                                                                                                                                                                                                                                          10\n",
       "Looking for Gen-Zer's to take my survey about insurance                                                                                                                                                                                                                                               10\n",
       "Webkinz!                                                                                                                                                                                                                                                                                              10\n",
       "Anyone else miss when edgy and offensive jokes were still common and not so reviled?                                                                                                                                                                                                                  10\n",
       "This pic goes hard                                                                                                                                                                                                                                                                                    10\n",
       "Gen z changed their logo                                                                                                                                                                                                                                                                              10\n",
       "What is your opinion on Greta Thunberg?                                                                                                                                                                                                                                                               10\n",
       "What era of Cartoon Network did you grow up with? What was your favourite?                                                                                                                                                                                                                            10\n",
       "Okay, help me settle this once and for all.                                                                                                                                                                                                                                                           10\n",
       "What have you been reading this week?                                                                                                                                                                                                                                                                 10\n",
       "Energy consumption 2016 Renault ZOE                                                                                                                                                                                                                                                                   10\n",
       "What music have you been listening to this week?                                                                                                                                                                                                                                                      10\n",
       "Roblox Toonation - A big channel for Roblox Player!                                                                                                                                                                                                                                                   10\n",
       "25th June 2009: Where were you when you heard the news of Michael Jackson's death?                                                                                                                                                                                                                    10\n",
       "A variation I made of another post today, from an Older Z perspective                                                                                                                                                                                                                                 10\n",
       "Best Coming Of Age Movies for Gen Z?                                                                                                                                                                                                                                                                  10\n",
       "Do you?                                                                                                                                                                                                                                                                                               10\n",
       "Gen X, Gen Alpha, Gen Z -- respectively                                                                                                                                                                                                                                                               10\n",
       "Need some Gen Zs to test out an app idea I have                                                                                                                                                                                                                                                       10\n",
       "Should I delete reddit?                                                                                                                                                                                                                                                                               10\n",
       "Have you ever wish you were born before your birth year? ?                                                                                                                                                                                                                                            10\n",
       "Does KERS work on a electric scooter 🛴?                                                                                                                                                                                                                                                               10\n",
       "Does KERS work on the Xiaomi mi pro 2?                                                                                                                                                                                                                                                                10\n",
       "People always talk about the FNAF &amp; Undertale fan songs, but the legit OGs remember these                                                                                                                                                                                                         10\n",
       "US Hit With Nationwide Credit/Debit Card Outage                                                                                                                                                                                                                                                       10\n",
       "Crazy that these two are turning 18 years old this year. They look so futuristic and modern for 2004. Miss my PSP.                                                                                                                                                                                    10\n",
       "Boomers don't get an ASDF reference. Meanwhile I get lectured all the time for using /s                                                                                                                                                                                                               10\n",
       "Boomers don't get an ASDF reference. Meanwhile I get lectured for using /s                                                                                                                                                                                                                            10\n",
       "GenZ born after 2003 have you heard of or played the Metal Gear Solid video games?                                                                                                                                                                                                                    10\n",
       "It seems the days of dancing foxes, Gangnam Style, and other viral content are over. New studies suggest that Gen Z prefer to see specific, tailored content for them, rather than popular videos intended for all audiences.                                                                         10\n",
       "The 1985 ‘Running Up That Hill (A Deal With God)’ single by Kate Bush is currently top of the UK charts, nearly four decades on from its release. It demonstrates how the current social media age allows old songs to become recontextualised for a new audience.                                    10\n",
       "What movies/TV shows have you been watching this week?                                                                                                                                                                                                                                                10\n",
       "THE FIRST TOY STORY IS AMAZING                                                                                                                                                                                                                                                                        10\n",
       "how dreams look like:                                                                                                                                                                                                                                                                                 10\n",
       "Anyone here familiar with Islamic subs like r/islam r/izlam                                                                                                                                                                                                                                           10\n",
       "Whats your opinion on videos like these?                                                                                                                                                                                                                                                              10\n",
       "People born from 2003-2004, do you consider yourself more of a 2010s or 2020s teen?                                                                                                                                                                                                                   10\n",
       "After years of wearing only athleisure clothing, I’m attempting to become fashionable to be more comfortable with myself. Is this drip? Tips would be appreciated, cheers!                                                                                                                            10\n",
       "Anyone working a shitty job that you wish you could quit and move to something better?                                                                                                                                                                                                                10\n",
       "It’s so crazy how everyone younger than me grew up so fast! I know people are gonna grow up but just seeing people who were born yesterday be teens now is so crazy 😭 not to mention how out of touch I feel with everything and it’s making me feel “old” 😂                                          10\n",
       "Zillenials - a discussion                                                                                                                                                                                                                                                                             10\n",
       "Zoomers, how much and how do you use social media?                                                                                                                                                                                                                                                    10\n",
       "When did you watch Disney Channel?                                                                                                                                                                                                                                                                    10\n",
       "Definitely was one of my biggest fears as a kid.                                                                                                                                                                                                                                                      10\n",
       "Do we all think this?                                                                                                                                                                                                                                                                                 10\n",
       "\"2013\" - GTA-inspired pop/rock playlist - The sound of Obama-era High School [Spotify]                                                                                                                                                                                                                10\n",
       "LEARN ABOUT FINANCIAL LITERACY.                                                                                                                                                                                                                                                                       10\n",
       "What do you plan to accomplish this week?                                                                                                                                                                                                                                                             10\n",
       "is there anyone in this sub born past 2009?                                                                                                                                                                                                                                                           10\n",
       "A Quick Reflection On Gen Z                                                                                                                                                                                                                                                                           10\n",
       "Out of curiosity, what year will you guys be graduating (or have graduated) in this decade?                                                                                                                                                                                                           10\n",
       "Some animals are more Xtreme than others                                                                                                                                                                                                                                                              10\n",
       "Today I've met Hide the Pain Harold                                                                                                                                                                                                                                                                   10\n",
       "When were you born and what part of the decade do you most associate your childhood and teens with?                                                                                                                                                                                                   10\n",
       "A List of Differences I’ve Compiled With Older Gen Zers and Younger Gen Zers                                                                                                                                                                                                                          10\n",
       "I like LGBTQ now.                                                                                                                                                                                                                                                                                     10\n",
       "What late night talk shows are you watching?                                                                                                                                                                                                                                                          10\n",
       "Are there any other loser millennial folks who were unable to finish college?                                                                                                                                                                                                                         10\n",
       "As a gay man who was in middle school when Abercrombie hit hard, my tastes were strongly informed by that look. Lol                                                                                                                                                                                   10\n",
       "The First Toy Story Is Amazing                                                                                                                                                                                                                                                                        10\n",
       "Are we agreed                                                                                                                                                                                                                                                                                         10\n",
       "Steve-O says early years of Jackass were \"legitimately a bad influence\" on young viewers                                                                                                                                                                                                              10\n",
       "My 2000's Emo Playlist                                                                                                                                                                                                                                                                                10\n",
       "There's a feather in your cap....                                                                                                                                                                                                                                                                     10\n",
       "Fellow 1990 born in which part of the 90s did you enjoy most of your childhood!                                                                                                                                                                                                                       10\n",
       "Is it possible the ban on abortions was proposed by the top 1% because the birth rate is declining due to the increasingly difficult living conditions?                                                                                                                                               10\n",
       "I made playlist of hip-hop/r&amp;b for millennials. Any recommendations are welcome.                                                                                                                                                                                                                  10\n",
       "There's a huge difference between Millennials born between 1980 and 1988.                                                                                                                                                                                                                             10\n",
       "‘It’s almost unbelievable’: People are having their job offers rescinded days before they start                                                                                                                                                                                                       10\n",
       "Many people think Hey Arnold took place in NYC, but it actually took place in Washington State.                                                                                                                                                                                                       10\n",
       "The only reason to go to Burger King                                                                                                                                                                                                                                                                  10\n",
       "Not like getting older? This one neat trick could make you 10 years younger instantly!                                                                                                                                                                                                                10\n",
       "How 'Disney Adults' Became the Most Hated Group on the Internet                                                                                                                                                                                                                                       10\n",
       "Do you like ageist                                                                                                                                                                                                                                                                                    10\n",
       "Nuanced Review Of Alex Garland's Men | A24 Movie Review | Horror Film TikTok #shorts                                                                                                                                                                                                                  10\n",
       "When Did Phantom Menace Become Old? | Star Wars Prequels | Nostalgia &amp; Movies TikTok #shorts                                                                                                                                                                                                      10\n",
       "Best Movie Chase Scene Ever | E.T. The Extraterrestrial | Movies &amp; Film TikTok #shorts                                                                                                                                                                                                            10\n",
       "Adult Money Is Crazy | Still Buying Ewoks At 40 | Star Wars Toys | TikTok #shorts                                                                                                                                                                                                                     10\n",
       "More relevant today                                                                                                                                                                                                                                                                                   10\n",
       "Any of you have enough karma to post on r/finance or r/personalfinance?                                                                                                                                                                                                                               10\n",
       "just curious but who had an crush on him during high school...!                                                                                                                                                                                                                                       10\n",
       "Mods Making Me Work Hard On This One                                                                                                                                                                                                                                                                  10\n",
       "is this 2013 magazine cover cringe or what?                                                                                                                                                                                                                                                           10\n",
       "Understanding millennials and attention span                                                                                                                                                                                                                                                          10\n",
       "Who watched Teen Titans when they were younger? I remember when I tried to get my younger relatives to watch the original cause all they watched was teen titans go and they were like \"no\" it made me feel old. I tried to put them on to the better version.                                        10\n",
       "Did u guys take a foreign language in HS?                                                                                                                                                                                                                                                             10\n",
       "GENERAL STRIKE!!!!! We go on Strike for our women and the workers of America We go on General strike Monday. Use the weekend to organize and gather resources. You are directed to bring supplies on Monday to your local city hall.                                                                  10\n",
       "GUYS THERES A PROTEST RALLY HAPPENING OUTSIDE MY HOTEL ROOM IN DALLAS RN                                                                                                                                                                                                                              10\n",
       "Items I made any feedback                                                                                                                                                                                                                                                                             10\n",
       "\"What the fuck was I thinking?\" Stories of your adolescence...                                                                                                                                                                                                                                        10\n",
       "what are the rules you had as a kid that you hated, but you now appreciate?                                                                                                                                                                                                                           10\n",
       "Exclusive: Emma Watson Will Return To Harry Potter If JK Rowling Isn’t Involved                                                                                                                                                                                                                       10\n",
       "Millennials &amp; Gen Z Will Probably Be The Worst Generation of Parents In A Long Time                                                                                                                                                                                                               10\n",
       "EVER DREAM THIS MAN?                                                                                                                                                                                                                                                                                  10\n",
       "Have you left most social media sites? Do you regret it or not?                                                                                                                                                                                                                                       10\n",
       "When did you turn 18 and what did you do for that birthday?                                                                                                                                                                                                                                           10\n",
       "Best Coming Of Age Movies for Millenials??                                                                                                                                                                                                                                                            10\n",
       "Which year was the best year for you?                                                                                                                                                                                                                                                                 10\n",
       "What's wrong with millennials?                                                                                                                                                                                                                                                                        10\n",
       "When people keep asking you when are you going to have kids:                                                                                                                                                                                                                                          10\n",
       "Letter to the Millennials from a Gen Z:                                                                                                                                                                                                                                                               10\n",
       "I never watched it, but for some reason it lives in my memories. Please tell me someone remembers Bump in the Night                                                                                                                                                                                   10\n",
       "For the older Millennials                                                                                                                                                                                                                                                                             10\n",
       "Cell phone ringer on or silent?                                                                                                                                                                                                                                                                       10\n",
       "Summer of 1999 was my favorite and this is why, So enjoy.                                                                                                                                                                                                                                             10\n",
       "The world looked brighter somehow.                                                                                                                                                                                                                                                                    10\n",
       "Anyone else NOT relate to the stereotype about talking on the phone?                                                                                                                                                                                                                                  10\n",
       "who remembers this song? I thought to look it up and I'm enjoying the nostalgia                                                                                                                                                                                                                       10\n",
       "Its an Gundam!                                                                                                                                                                                                                                                                                        10\n",
       "Gen X making fun of Millennials in 2000 (by Tim Kreider)                                                                                                                                                                                                                                              10\n",
       "Does anybody know where I could watch Romeo! and Just Jordan?                                                                                                                                                                                                                                         10\n",
       "Prediction time: What BS are we going to have to endure when Gen X reaches Boomer levels of entitlement?                                                                                                                                                                                              10\n",
       "Response to The Atlantic's \"'Millennial lifestyle subsidy' ends\"                                                                                                                                                                                                                                      10\n",
       "For some of the old weebs                                                                                                                                                                                                                                                                             10\n",
       "Dream Travel Destination                                                                                                                                                                                                                                                                              10\n",
       "Check out JD's video! #TikTok                                                                                                                                                                                                                                                                         10\n",
       "How much do people change from their early 20s?                                                                                                                                                                                                                                                       10\n",
       "Does anybody else feel like the media is lost when it comes to Millennials now?                                                                                                                                                                                                                       10\n",
       "just watch this. dahm you selfish boomers!                                                                                                                                                                                                                                                            10\n",
       "Jurassic World Dominion Lost The Plot | Dinosaur Movie Makes Grown Woman Sad | Films TikTok #shorts                                                                                                                                                                                                   10\n",
       "Meesa Thinks JarJar Is a Master of Diplomacy | Star Wars Comedy | Natalie Portman TikTok #shorts                                                                                                                                                                                                      10\n",
       "Fairy Tales Are Better With Martinis &amp; Kate Bush | San Francisco Saturday | Fiction TikTok #shorts                                                                                                                                                                                                10\n",
       "Kylo Ren Could Never! | Annakin Returns &amp; Kenobi Is The GOAT | Disney &amp; Star Wars TikTok #shorts                                                                                                                                                                                              10\n",
       "Star Wars Prequels Got Me Appreciating Kenobi | Millennial Movie Moment | Disney TikTok #shorts                                                                                                                                                                                                       10\n",
       "Pride &amp; Prejudice &amp; Ewoks Oh My | Star Wars Toys Heal Depression | Adult Money TikTok #shorts                                                                                                                                                                                                 10\n",
       "Why was the dumb blond stereotype so popular in the 2000s?                                                                                                                                                                                                                                            10\n",
       "Top 10 Phrases Kids Today Don't Understand                                                                                                                                                                                                                                                            10\n",
       "10 Facts about Millennials - Gen-Z Asks a Millennial                                                                                                                                                                                                                                                  10\n",
       "The olds are at it again...                                                                                                                                                                                                                                                                           10\n",
       "It's killing me watching my boomer mom grow old                                                                                                                                                                                                                                                       10\n",
       "For us older millennials (80s babies) are we \"getting old\" yet?                                                                                                                                                                                                                                       10\n",
       "What did you millennials do when you were 18?                                                                                                                                                                                                                                                         10\n",
       "gen alpha now talk shit to millennials 💀                                                                                                                                                                                                                                                              10\n",
       "Favorite Teen Movie of 1999                                                                                                                                                                                                                                                                           10\n",
       "crazy taxi!                                                                                                                                                                                                                                                                                           10\n",
       "explaining the gen z maximalism trend                                                                                                                                                                                                                                                                 10\n",
       "Which of this option do you like to watch it again for one day!                                                                                                                                                                                                                                       10\n",
       "This made me laugh                                                                                                                                                                                                                                                                                    10\n",
       "You need to REALLY understand the current INFLATION in order to survive and thrive                                                                                                                                                                                                                    10\n",
       "Linkin Park - Somewhere I Belong                                                                                                                                                                                                                                                                      10\n",
       "'Lilo &amp; Stitch' at 20: Why Lilo Pelekai’s Complexities Make Her One of Disney’s Best Protagonists                                                                                                                                                                                                 10\n",
       "Millions of us will be homeless in our elderly years                                                                                                                                                                                                                                                  10\n",
       "INCREASE YOUR PAY BY CHANGING JOBS                                                                                                                                                                                                                                                                    10\n",
       "My favorite songs of 2014...                                                                                                                                                                                                                                                                          10\n",
       "The hold these three albums had on my friends and me. They’re synonymous with millennial teenage and college years for me.                                                                                                                                                                            10\n",
       "Who knew they even existed?                                                                                                                                                                                                                                                                           10\n",
       "Do you guys and girls think its stupid to metaphorically change my birthday to Jan 1st 2000 so that I can go along with the years. I think It'd be awesome to do it this way. (My birthday is June 16th 1999.) Whats your opinion on this?                                                            10\n",
       "Design Student testing out an app idea I have                                                                                                                                                                                                                                                          9\n",
       "How do you guys deal with your mental health?                                                                                                                                                                                                                                                          9\n",
       "Fuck Gen X                                                                                                                                                                                                                                                                                             9\n",
       "Do you like waffles 🧇?                                                                                                                                                                                                                                                                                 9\n",
       "Tf is a \"walkable city\" ??                                                                                                                                                                                                                                                                             8\n",
       "Class of 2022                                                                                                                                                                                                                                                                                          8\n",
       "My cousin remembers waiting for his SNES in the cold for Christmas.                                                                                                                                                                                                                                    8\n",
       "Anyone else feel old af when you get called sir or ma’am?                                                                                                                                                                                                                                              8\n",
       "Who's your favourite Gen Z celeb?                                                                                                                                                                                                                                                                      7\n",
       "The Rotten Roots of the IMF and the World Bank                                                                                                                                                                                                                                                         7\n",
       "Millenials please answer this questionnaire for an assignment!!!                                                                                                                                                                                                                                       7\n",
       "You'd think this show was Japanese with how bizarre it was...                                                                                                                                                                                                                                          7\n",
       "Who's your favourite Gen Z celeb based on their birth years?                                                                                                                                                                                                                                           6\n",
       "Is there a Gen Z counterpart for Hipsters?                                                                                                                                                                                                                                                             6\n",
       "Found this                                                                                                                                                                                                                                                                                             6\n",
       "If you won the lottery                                                                                                                                                                                                                                                                                 6\n",
       "Quarter-life crisis                                                                                                                                                                                                                                                                                    5\n",
       "Do millennials have the most unique generational experience in history?                                                                                                                                                                                                                                5\n",
       "PDAs in 2004                                                                                                                                                                                                                                                                                           4\n",
       "The world peaked in 2013                                                                                                                                                                                                                                                                               4\n",
       "Our lives have been so fucked and this only includes up until 2013                                                                                                                                                                                                                                     4\n",
       "How did gen Z become so sensitive?                                                                                                                                                                                                                                                                     3\n",
       "Most people only go by mainstream media's explanation of the cause and fix of the current inflation. They would be deceived...                                                                                                                                                                         3\n",
       "self sabotage                                                                                                                                                                                                                                                                                          3\n",
       "Love Megan Fox in the early 2000s                                                                                                                                                                                                                                                                      3\n",
       "90s kids did you love courage the cowardly dog or fosters home for imaginary friends more?                                                                                                                                                                                                             2\n",
       "Twin Peaks                                                                                                                                                                                                                                                                                             2\n",
       "anyone else opposed to the cultural norm of getting married and letting the rest of your life outside your job fall to the wayside                                                                                                                                                                     2\n",
       "Gen Z                                                                                                                                                                                                                                                                                                  1\n",
       "Millennials, what years do you consider your childhood and teens era?                                                                                                                                                                                                                                  1\n",
       "Shrek x Mr.Bean                                                                                                                                                                                                                                                                                        1\n",
       "Name: title, dtype: int64"
      ]
     },
     "execution_count": 185,
     "metadata": {},
     "output_type": "execute_result"
    }
   ],
   "source": [
    "df['title'].value_counts()"
   ]
  },
  {
   "cell_type": "markdown",
   "id": "59e84d61-a89c-41ed-9775-2ec9755d321e",
   "metadata": {},
   "source": [
    "We need it to be lower cased"
   ]
  },
  {
   "cell_type": "code",
   "execution_count": 186,
   "id": "6122457a-b372-46c8-b356-3a94a1003f5a",
   "metadata": {},
   "outputs": [],
   "source": [
    "df['title'] = df['title'].map(lambda x: x.lower())"
   ]
  },
  {
   "cell_type": "code",
   "execution_count": 187,
   "id": "ccc98007-0a70-4cb8-a0b7-b3560f097cc6",
   "metadata": {
    "scrolled": true,
    "tags": []
   },
   "outputs": [
    {
     "data": {
      "text/plain": [
       "Do people in their twenties really determine pop music?                                                                                                                                                                                                                                               20\n",
       "Are You Tired Yet?                                                                                                                                                                                                                                                                                    15\n",
       "VHS Movies                                                                                                                                                                                                                                                                                            12\n",
       "Anyone else miss when edgy and offensive jokes were still common and not so reviled?                                                                                                                                                                                                                  10\n",
       "r/GenZ Weekly General Discussion Thread                                                                                                                                                                                                                                                               10\n",
       "Black Ops 2 was an amazing part of my childhood.                                                                                                                                                                                                                                                      10\n",
       "If you could be 16 years old again, what would you do differently?                                                                                                                                                                                                                                    10\n",
       "For The Late-Millenials And Early Zoomers who grew up with \"Max And Ruby\", who did you often side with more?                                                                                                                                                                                          10\n",
       "Depressed about turning 20                                                                                                                                                                                                                                                                            10\n",
       "How integrated do you think trans women will become in western society?                                                                                                                                                                                                                               10\n",
       "👑79.city| Play Here, Win Here👑 Welcome to the Global Blockchain FREE 3 Spin Everyday Lottery Platform!🤑 Make ur deposit QUICK and SIMPLE💳 ®️REGISTER IT NOW®️ 79.city                                                                                                                                 10\n",
       "From the perspective of an older Gen-Zer contemplating building a family someday….                                                                                                                                                                                                                    10\n",
       "What music have you been listening to this week?                                                                                                                                                                                                                                                      10\n",
       "Roblox Toonation - A big channel for Roblox Player!                                                                                                                                                                                                                                                   10\n",
       "does anyone else think this is fucking weird?                                                                                                                                                                                                                                                         10\n",
       "A variation I made of another post today, from an Older Z perspective                                                                                                                                                                                                                                 10\n",
       "Anyone working a shitty job that you wish you could quit and move to something better?                                                                                                                                                                                                                10\n",
       "It’s so crazy how everyone younger than me grew up so fast! I know people are gonna grow up but just seeing people who were born yesterday be teens now is so crazy 😭 not to mention how out of touch I feel with everything and it’s making me feel “old” 😂                                          10\n",
       "Zillenials - a discussion                                                                                                                                                                                                                                                                             10\n",
       "Zoomers, how much and how do you use social media?                                                                                                                                                                                                                                                    10\n",
       "When did you watch Disney Channel?                                                                                                                                                                                                                                                                    10\n",
       "Definitely was one of my biggest fears as a kid.                                                                                                                                                                                                                                                      10\n",
       "Do we all think this?                                                                                                                                                                                                                                                                                 10\n",
       "Late 2000s starterpack                                                                                                                                                                                                                                                                                10\n",
       "If you had to pick your favorite nostalgic spot in this Nintendo Generational Timeline. What would it be?                                                                                                                                                                                             10\n",
       "First steps (November, 2001) -&gt; First mini marathon (May, 2008)                                                                                                                                                                                                                                    10\n",
       "After years of wearing only athleisure clothing, I’m attempting to become fashionable to be more comfortable with myself. Is this drip? Tips would be appreciated, cheers!                                                                                                                            10\n",
       "Are there any millennial folks who play the game Friday Night Funkin'?                                                                                                                                                                                                                                10\n",
       "Who watched Teen Titans when they were younger? I remember when I tried to get my younger relatives to watch the original cause all they watched was teen titans go and they were like \"no\" it made me feel old. I tried to put them on to the better version.                                        10\n",
       "Webkinz!                                                                                                                                                                                                                                                                                              10\n",
       "Who had a Nick Magazine?                                                                                                                                                                                                                                                                              10\n",
       "Looking for Gen-Zer's to take my survey about insurance                                                                                                                                                                                                                                               10\n",
       "Okay, help me settle this once and for all.                                                                                                                                                                                                                                                           10\n",
       "What have you been reading this week?                                                                                                                                                                                                                                                                 10\n",
       "Energy consumption 2016 Renault ZOE                                                                                                                                                                                                                                                                   10\n",
       "Does anyone else remember the yahoo jingle? 😭 hearing that brought back so much nostalgia                                                                                                                                                                                                             10\n",
       "Cant believe this movie is 12 years old. I was in theaters when I saw this and there were so many emotions. This was the year I got my woody doll with the hat and pull string. The year I dressed up as woody for Halloween. With signature hat, handkerchief, leather spur boots, belt, and gun.    10\n",
       "what you guys think of the age of consent                                                                                                                                                                                                                                                             10\n",
       "What does this remind you of? Round 2                                                                                                                                                                                                                                                                 10\n",
       "1995 isn't gen Z anymore?                                                                                                                                                                                                                                                                             10\n",
       "On 1995 being recently removed, any people born 1995 here?                                                                                                                                                                                                                                            10\n",
       "Why is gen z so narcissistic?                                                                                                                                                                                                                                                                         10\n",
       "This dude is definitely joking 😂                                                                                                                                                                                                                                                                      10\n",
       "What does this remind you of?                                                                                                                                                                                                                                                                         10\n",
       "Honestly some of these teens out there be looking older than me and I’m 22 😂                                                                                                                                                                                                                          10\n",
       "17 year olds are more similar to 13 year olds than 18 year olds.                                                                                                                                                                                                                                      10\n",
       "\"2013\" - GTA-inspired pop/rock playlist - The sound of Obama-era High School [Spotify]                                                                                                                                                                                                                10\n",
       "is there anyone in this sub born past 2009?                                                                                                                                                                                                                                                           10\n",
       "LEARN ABOUT FINANCIAL LITERACY.                                                                                                                                                                                                                                                                       10\n",
       "Crazy that these two are turning 18 years old this year. They look so futuristic and modern for 2004. Miss my PSP.                                                                                                                                                                                    10\n",
       "Boomers don't get an ASDF reference. Meanwhile I get lectured for using /s                                                                                                                                                                                                                            10\n",
       "GenZ born after 2003 have you heard of or played the Metal Gear Solid video games?                                                                                                                                                                                                                    10\n",
       "It seems the days of dancing foxes, Gangnam Style, and other viral content are over. New studies suggest that Gen Z prefer to see specific, tailored content for them, rather than popular videos intended for all audiences.                                                                         10\n",
       "The 1985 ‘Running Up That Hill (A Deal With God)’ single by Kate Bush is currently top of the UK charts, nearly four decades on from its release. It demonstrates how the current social media age allows old songs to become recontextualised for a new audience.                                    10\n",
       "What movies/TV shows have you been watching this week?                                                                                                                                                                                                                                                10\n",
       "THE FIRST TOY STORY IS AMAZING                                                                                                                                                                                                                                                                        10\n",
       "how dreams look like:                                                                                                                                                                                                                                                                                 10\n",
       "Do you guys and girls think its stupid to metaphorically change my birthday to Jan 1st 2000 so that I can go along with the years. I think It'd be awesome to do it this way. (My birthday is June 16th 1999.) Whats your opinion on this?                                                            10\n",
       "25th June 2009: Where were you when you heard the news of Michael Jackson's death?                                                                                                                                                                                                                    10\n",
       "What era of Cartoon Network did you grow up with? What was your favourite?                                                                                                                                                                                                                            10\n",
       "What is your opinion on Greta Thunberg?                                                                                                                                                                                                                                                               10\n",
       "Gen z changed their logo                                                                                                                                                                                                                                                                              10\n",
       "Pretty much.                                                                                                                                                                                                                                                                                          10\n",
       "What are similarities and differences between first and last Gen Z's?                                                                                                                                                                                                                                 10\n",
       "What do you all think of this excerpt Pro-Life Louisiana Gov. John Bel Edwards (D) response to the overturning of Roe v. Wade?                                                                                                                                                                        10\n",
       "You Can Change the Future with Buying Decisions                                                                                                                                                                                                                                                       10\n",
       "Items I made any feedback                                                                                                                                                                                                                                                                             10\n",
       "GUYS THERES A PROTEST RALLY HAPPENING OUTSIDE MY HOTEL ROOM IN DALLAS RN                                                                                                                                                                                                                              10\n",
       "GENERAL STRIKE!!!!! We go on Strike for our women and the workers of America We go on General strike Monday. Use the weekend to organize and gather resources. You are directed to bring supplies on Monday to your local city hall.                                                                  10\n",
       "Boomers don't get an ASDF reference. Meanwhile I get lectured all the time for using /s                                                                                                                                                                                                               10\n",
       "US Hit With Nationwide Credit/Debit Card Outage                                                                                                                                                                                                                                                       10\n",
       "Today, Internet Explorer will retire after 27 years. Goodbye to our adolescence.                                                                                                                                                                                                                      10\n",
       "People always talk about the FNAF &amp; Undertale fan songs, but the legit OGs remember these                                                                                                                                                                                                         10\n",
       "A Quick Reflection On Gen Z                                                                                                                                                                                                                                                                           10\n",
       "Out of curiosity, what year will you guys be graduating (or have graduated) in this decade?                                                                                                                                                                                                           10\n",
       "Some animals are more Xtreme than others                                                                                                                                                                                                                                                              10\n",
       "Today I've met Hide the Pain Harold                                                                                                                                                                                                                                                                   10\n",
       "When were you born and what part of the decade do you most associate your childhood and teens with?                                                                                                                                                                                                   10\n",
       "A List of Differences I’ve Compiled With Older Gen Zers and Younger Gen Zers                                                                                                                                                                                                                          10\n",
       "I like LGBTQ now.                                                                                                                                                                                                                                                                                     10\n",
       "What do you plan to accomplish this week?                                                                                                                                                                                                                                                             10\n",
       "People born from 2003-2004, do you consider yourself more of a 2010s or 2020s teen?                                                                                                                                                                                                                   10\n",
       "Whats your opinion on videos like these?                                                                                                                                                                                                                                                              10\n",
       "Anyone here familiar with Islamic subs like r/islam r/izlam                                                                                                                                                                                                                                           10\n",
       "Best Coming Of Age Movies for Gen Z?                                                                                                                                                                                                                                                                  10\n",
       "Do you?                                                                                                                                                                                                                                                                                               10\n",
       "Gen X, Gen Alpha, Gen Z -- respectively                                                                                                                                                                                                                                                               10\n",
       "Need some Gen Zs to test out an app idea I have                                                                                                                                                                                                                                                       10\n",
       "Should I delete reddit?                                                                                                                                                                                                                                                                               10\n",
       "Have you ever wish you were born before your birth year? ?                                                                                                                                                                                                                                            10\n",
       "Does KERS work on a electric scooter 🛴?                                                                                                                                                                                                                                                               10\n",
       "Does KERS work on the Xiaomi mi pro 2?                                                                                                                                                                                                                                                                10\n",
       "I’m GenZ (2005). ask me anything!                                                                                                                                                                                                                                                                     10\n",
       "Did u guys take a foreign language in HS?                                                                                                                                                                                                                                                             10\n",
       "Were you taking vacations without family as a 20-something?                                                                                                                                                                                                                                           10\n",
       "gen alpha now talk shit to millennials 💀                                                                                                                                                                                                                                                              10\n",
       "Is it possible the ban on abortions was proposed by the top 1% because the birth rate is declining due to the increasingly difficult living conditions?                                                                                                                                               10\n",
       "I made playlist of hip-hop/r&amp;b for millennials. Any recommendations are welcome.                                                                                                                                                                                                                  10\n",
       "There's a huge difference between Millennials born between 1980 and 1988.                                                                                                                                                                                                                             10\n",
       "‘It’s almost unbelievable’: People are having their job offers rescinded days before they start                                                                                                                                                                                                       10\n",
       "The First Toy Story Is Amazing                                                                                                                                                                                                                                                                        10\n",
       "Many people think Hey Arnold took place in NYC, but it actually took place in Washington State.                                                                                                                                                                                                       10\n",
       "Not like getting older? This one neat trick could make you 10 years younger instantly!                                                                                                                                                                                                                10\n",
       "How 'Disney Adults' Became the Most Hated Group on the Internet                                                                                                                                                                                                                                       10\n",
       "Do you like ageist                                                                                                                                                                                                                                                                                    10\n",
       "Nuanced Review Of Alex Garland's Men | A24 Movie Review | Horror Film TikTok #shorts                                                                                                                                                                                                                  10\n",
       "When Did Phantom Menace Become Old? | Star Wars Prequels | Nostalgia &amp; Movies TikTok #shorts                                                                                                                                                                                                      10\n",
       "Best Movie Chase Scene Ever | E.T. The Extraterrestrial | Movies &amp; Film TikTok #shorts                                                                                                                                                                                                            10\n",
       "Adult Money Is Crazy | Still Buying Ewoks At 40 | Star Wars Toys | TikTok #shorts                                                                                                                                                                                                                     10\n",
       "More relevant today                                                                                                                                                                                                                                                                                   10\n",
       "Any of you have enough karma to post on r/finance or r/personalfinance?                                                                                                                                                                                                                               10\n",
       "Cell phone ringer on or silent?                                                                                                                                                                                                                                                                       10\n",
       "Summer of 1999 was my favorite and this is why, So enjoy.                                                                                                                                                                                                                                             10\n",
       "The world looked brighter somehow.                                                                                                                                                                                                                                                                    10\n",
       "who remembers this song? I thought to look it up and I'm enjoying the nostalgia                                                                                                                                                                                                                       10\n",
       "It's killing me watching my boomer mom grow old                                                                                                                                                                                                                                                       10\n",
       "For us older millennials (80s babies) are we \"getting old\" yet?                                                                                                                                                                                                                                       10\n",
       "Fellow 1990 born in which part of the 90s did you enjoy most of your childhood!                                                                                                                                                                                                                       10\n",
       "There's a feather in your cap....                                                                                                                                                                                                                                                                     10\n",
       "My 2000's Emo Playlist                                                                                                                                                                                                                                                                                10\n",
       "Best Coming Of Age Movies for Millenials??                                                                                                                                                                                                                                                            10\n",
       "This pic goes hard                                                                                                                                                                                                                                                                                    10\n",
       "Mid 2010s starterpack                                                                                                                                                                                                                                                                                 10\n",
       "\"What the fuck was I thinking?\" Stories of your adolescence...                                                                                                                                                                                                                                        10\n",
       "what are the rules you had as a kid that you hated, but you now appreciate?                                                                                                                                                                                                                           10\n",
       "Exclusive: Emma Watson Will Return To Harry Potter If JK Rowling Isn’t Involved                                                                                                                                                                                                                       10\n",
       "Millennials &amp; Gen Z Will Probably Be The Worst Generation of Parents In A Long Time                                                                                                                                                                                                               10\n",
       "EVER DREAM THIS MAN?                                                                                                                                                                                                                                                                                  10\n",
       "Have you left most social media sites? Do you regret it or not?                                                                                                                                                                                                                                       10\n",
       "When did you turn 18 and what did you do for that birthday?                                                                                                                                                                                                                                           10\n",
       "Which year was the best year for you?                                                                                                                                                                                                                                                                 10\n",
       "Are we agreed                                                                                                                                                                                                                                                                                         10\n",
       "What's wrong with millennials?                                                                                                                                                                                                                                                                        10\n",
       "When people keep asking you when are you going to have kids:                                                                                                                                                                                                                                          10\n",
       "Letter to the Millennials from a Gen Z:                                                                                                                                                                                                                                                               10\n",
       "I never watched it, but for some reason it lives in my memories. Please tell me someone remembers Bump in the Night                                                                                                                                                                                   10\n",
       "For the older Millennials                                                                                                                                                                                                                                                                             10\n",
       "Understanding millennials and attention span                                                                                                                                                                                                                                                          10\n",
       "is this 2013 magazine cover cringe or what?                                                                                                                                                                                                                                                           10\n",
       "Mods Making Me Work Hard On This One                                                                                                                                                                                                                                                                  10\n",
       "just curious but who had an crush on him during high school...!                                                                                                                                                                                                                                       10\n",
       "What late night talk shows are you watching?                                                                                                                                                                                                                                                          10\n",
       "What did you millennials do when you were 18?                                                                                                                                                                                                                                                         10\n",
       "Favorite Teen Movie of 1999                                                                                                                                                                                                                                                                           10\n",
       "Prediction time: What BS are we going to have to endure when Gen X reaches Boomer levels of entitlement?                                                                                                                                                                                              10\n",
       "For some of the old weebs                                                                                                                                                                                                                                                                             10\n",
       "Dream Travel Destination                                                                                                                                                                                                                                                                              10\n",
       "Anyone else NOT relate to the stereotype about talking on the phone?                                                                                                                                                                                                                                  10\n",
       "Check out JD's video! #TikTok                                                                                                                                                                                                                                                                         10\n",
       "Does anybody else feel like the media is lost when it comes to Millennials now?                                                                                                                                                                                                                       10\n",
       "crazy taxi!                                                                                                                                                                                                                                                                                           10\n",
       "Jurassic World Dominion Lost The Plot | Dinosaur Movie Makes Grown Woman Sad | Films TikTok #shorts                                                                                                                                                                                                   10\n",
       "Meesa Thinks JarJar Is a Master of Diplomacy | Star Wars Comedy | Natalie Portman TikTok #shorts                                                                                                                                                                                                      10\n",
       "Fairy Tales Are Better With Martinis &amp; Kate Bush | San Francisco Saturday | Fiction TikTok #shorts                                                                                                                                                                                                10\n",
       "Kylo Ren Could Never! | Annakin Returns &amp; Kenobi Is The GOAT | Disney &amp; Star Wars TikTok #shorts                                                                                                                                                                                              10\n",
       "Star Wars Prequels Got Me Appreciating Kenobi | Millennial Movie Moment | Disney TikTok #shorts                                                                                                                                                                                                       10\n",
       "Pride &amp; Prejudice &amp; Ewoks Oh My | Star Wars Toys Heal Depression | Adult Money TikTok #shorts                                                                                                                                                                                                 10\n",
       "The only reason to go to Burger King                                                                                                                                                                                                                                                                  10\n",
       "As a gay man who was in middle school when Abercrombie hit hard, my tastes were strongly informed by that look. Lol                                                                                                                                                                                   10\n",
       "Are there any other loser millennial folks who were unable to finish college?                                                                                                                                                                                                                         10\n",
       "Response to The Atlantic's \"'Millennial lifestyle subsidy' ends\"                                                                                                                                                                                                                                      10\n",
       "just watch this. dahm you selfish boomers!                                                                                                                                                                                                                                                            10\n",
       "Does anybody know where I could watch Romeo! and Just Jordan?                                                                                                                                                                                                                                         10\n",
       "My favorite songs of 2014...                                                                                                                                                                                                                                                                          10\n",
       "explaining the gen z maximalism trend                                                                                                                                                                                                                                                                 10\n",
       "Which of this option do you like to watch it again for one day!                                                                                                                                                                                                                                       10\n",
       "This made me laugh                                                                                                                                                                                                                                                                                    10\n",
       "You need to REALLY understand the current INFLATION in order to survive and thrive                                                                                                                                                                                                                    10\n",
       "Gen X making fun of Millennials in 2000 (by Tim Kreider)                                                                                                                                                                                                                                              10\n",
       "Millions of us will be homeless in our elderly years                                                                                                                                                                                                                                                  10\n",
       "INCREASE YOUR PAY BY CHANGING JOBS                                                                                                                                                                                                                                                                    10\n",
       "Linkin Park - Somewhere I Belong                                                                                                                                                                                                                                                                      10\n",
       "The hold these three albums had on my friends and me. They’re synonymous with millennial teenage and college years for me.                                                                                                                                                                            10\n",
       "How much do people change from their early 20s?                                                                                                                                                                                                                                                       10\n",
       "Its an Gundam!                                                                                                                                                                                                                                                                                        10\n",
       "The olds are at it again...                                                                                                                                                                                                                                                                           10\n",
       "10 Facts about Millennials - Gen-Z Asks a Millennial                                                                                                                                                                                                                                                  10\n",
       "Why was the dumb blond stereotype so popular in the 2000s?                                                                                                                                                                                                                                            10\n",
       "Who knew they even existed?                                                                                                                                                                                                                                                                           10\n",
       "Do you like waffles 🧇?                                                                                                                                                                                                                                                                                 9\n",
       "Fuck Gen X                                                                                                                                                                                                                                                                                             9\n",
       "Design Student testing out an app idea I have                                                                                                                                                                                                                                                          9\n",
       "How do you guys deal with your mental health?                                                                                                                                                                                                                                                          9\n",
       "My cousin remembers waiting for his SNES in the cold for Christmas.                                                                                                                                                                                                                                    8\n",
       "Tf is a \"walkable city\" ??                                                                                                                                                                                                                                                                             8\n",
       "Anyone else feel old af when you get called sir or ma’am?                                                                                                                                                                                                                                              8\n",
       "Class of 2022                                                                                                                                                                                                                                                                                          8\n",
       "You'd think this show was Japanese with how bizarre it was...                                                                                                                                                                                                                                          7\n",
       "The Rotten Roots of the IMF and the World Bank                                                                                                                                                                                                                                                         7\n",
       "Millenials please answer this questionnaire for an assignment!!!                                                                                                                                                                                                                                       7\n",
       "Who's your favourite Gen Z celeb?                                                                                                                                                                                                                                                                      7\n",
       "Found this                                                                                                                                                                                                                                                                                             6\n",
       "Who's your favourite Gen Z celeb based on their birth years?                                                                                                                                                                                                                                           6\n",
       "If you won the lottery                                                                                                                                                                                                                                                                                 6\n",
       "Is there a Gen Z counterpart for Hipsters?                                                                                                                                                                                                                                                             6\n",
       "Quarter-life crisis                                                                                                                                                                                                                                                                                    5\n",
       "Do millennials have the most unique generational experience in history?                                                                                                                                                                                                                                5\n",
       "PDAs in 2004                                                                                                                                                                                                                                                                                           4\n",
       "Our lives have been so fucked and this only includes up until 2013                                                                                                                                                                                                                                     4\n",
       "The world peaked in 2013                                                                                                                                                                                                                                                                               4\n",
       "Love Megan Fox in the early 2000s                                                                                                                                                                                                                                                                      3\n",
       "Most people only go by mainstream media's explanation of the cause and fix of the current inflation. They would be deceived...                                                                                                                                                                         3\n",
       "How did gen Z become so sensitive?                                                                                                                                                                                                                                                                     3\n",
       "self sabotage                                                                                                                                                                                                                                                                                          3\n",
       "anyone else opposed to the cultural norm of getting married and letting the rest of your life outside your job fall to the wayside                                                                                                                                                                     2\n",
       "90s kids did you love courage the cowardly dog or fosters home for imaginary friends more?                                                                                                                                                                                                             2\n",
       "Twin Peaks                                                                                                                                                                                                                                                                                             2\n",
       "Gen Z                                                                                                                                                                                                                                                                                                  1\n",
       "Millennials, what years do you consider your childhood and teens era?                                                                                                                                                                                                                                  1\n",
       "Shrek x Mr.Bean                                                                                                                                                                                                                                                                                        1\n",
       "Name: title, dtype: int64"
      ]
     },
     "execution_count": 187,
     "metadata": {},
     "output_type": "execute_result"
    }
   ],
   "source": [
    "df_chopped['title'].value_counts()"
   ]
  },
  {
   "cell_type": "code",
   "execution_count": 188,
   "id": "613eff4c-e6f5-455c-b17f-ebf831a720b9",
   "metadata": {},
   "outputs": [],
   "source": [
    "#From lesson 5.05\n",
    "#word tokenizer\n",
    "#words = []\n",
    "#for i in df_chopped['title']:\n",
    "#    words = words + word_tokenize(i.lower())\n",
    "#words\n",
    "#X = df_chopped[['title', 'selftext', 'num_comments']]\n",
    "X = df['title']\n",
    "y = df['subreddit']"
   ]
  },
  {
   "cell_type": "code",
   "execution_count": 189,
   "id": "cd29c765-3806-44fc-85ef-3c5ae425c215",
   "metadata": {},
   "outputs": [
    {
     "data": {
      "text/plain": [
       "1    0.5\n",
       "0    0.5\n",
       "Name: subreddit, dtype: float64"
      ]
     },
     "execution_count": 189,
     "metadata": {},
     "output_type": "execute_result"
    }
   ],
   "source": [
    "# Check what we need to check in a classification problem.\n",
    "y.value_counts(normalize=True)"
   ]
  },
  {
   "cell_type": "markdown",
   "id": "86fa518a-fa6a-4c83-bd3b-9f9da8094830",
   "metadata": {},
   "source": [
    "It is no surprise, but we can see that the baseline is 50%"
   ]
  },
  {
   "cell_type": "code",
   "execution_count": 190,
   "id": "b47549b0-df13-49ae-ae97-76a8b81e7cd3",
   "metadata": {},
   "outputs": [],
   "source": [
    "# Split the data into the training and testing sets.\n",
    "X_train, X_test, y_train, y_test = train_test_split(X,\n",
    "                                                    y,\n",
    "                                                    test_size=0.33,\n",
    "                                                    stratify=y,\n",
    "                                                    random_state=42)"
   ]
  },
  {
   "cell_type": "code",
   "execution_count": 191,
   "id": "e5ed09ec-705e-417b-98b8-b7d37a6faf15",
   "metadata": {},
   "outputs": [],
   "source": [
    "# Instantiate a CountVectorizer.\n",
    "cvec = CountVectorizer()"
   ]
  },
  {
   "cell_type": "code",
   "execution_count": 192,
   "id": "91d6415a-2e93-457f-a897-12a742f721ef",
   "metadata": {},
   "outputs": [],
   "source": [
    "# Instantiate the transformer.\n",
    "tvec = TfidfVectorizer()"
   ]
  },
  {
   "cell_type": "code",
   "execution_count": 193,
   "id": "39a8589c-1b8d-4024-9c5e-1482f5e4bcc5",
   "metadata": {},
   "outputs": [
    {
     "data": {
      "text/plain": [
       "CountVectorizer()"
      ]
     },
     "execution_count": 193,
     "metadata": {},
     "output_type": "execute_result"
    }
   ],
   "source": [
    "# Fit the vectorizer on our corpus.\n",
    "cvec.fit(X_train)"
   ]
  },
  {
   "cell_type": "code",
   "execution_count": 194,
   "id": "ba8d8f6f-ac53-4b7e-abee-35b14e7a9ed4",
   "metadata": {},
   "outputs": [],
   "source": [
    "# Transform the corpus.\n",
    "X_train = cvec.transform(X_train)"
   ]
  },
  {
   "cell_type": "code",
   "execution_count": 195,
   "id": "07c12f39-116f-45e6-96e2-1336acceb4ba",
   "metadata": {},
   "outputs": [
    {
     "data": {
      "text/plain": [
       "(1340, 917)"
      ]
     },
     "execution_count": 195,
     "metadata": {},
     "output_type": "execute_result"
    }
   ],
   "source": [
    "X_train.shape"
   ]
  },
  {
   "cell_type": "code",
   "execution_count": 196,
   "id": "d80a2f26-bb2c-496b-b895-99a3af6adff8",
   "metadata": {},
   "outputs": [
    {
     "data": {
      "text/plain": [
       "matrix([[0, 0, 0, ..., 0, 0, 0],\n",
       "        [0, 0, 0, ..., 0, 0, 0],\n",
       "        [0, 0, 0, ..., 0, 1, 0],\n",
       "        ...,\n",
       "        [1, 0, 0, ..., 0, 0, 0],\n",
       "        [0, 0, 0, ..., 0, 0, 0],\n",
       "        [0, 0, 0, ..., 0, 0, 0]], dtype=int64)"
      ]
     },
     "execution_count": 196,
     "metadata": {},
     "output_type": "execute_result"
    }
   ],
   "source": [
    "X_train.todense()"
   ]
  },
  {
   "cell_type": "code",
   "execution_count": 197,
   "id": "1e4d1714-79a2-462e-b755-1187aa805a9a",
   "metadata": {},
   "outputs": [],
   "source": [
    "X_test = cvec.transform(X_test)"
   ]
  },
  {
   "cell_type": "code",
   "execution_count": 198,
   "id": "8d17049f-88ed-499f-ba41-e39ca968d0dc",
   "metadata": {},
   "outputs": [
    {
     "data": {
      "text/html": [
       "<div>\n",
       "<style scoped>\n",
       "    .dataframe tbody tr th:only-of-type {\n",
       "        vertical-align: middle;\n",
       "    }\n",
       "\n",
       "    .dataframe tbody tr th {\n",
       "        vertical-align: top;\n",
       "    }\n",
       "\n",
       "    .dataframe thead th {\n",
       "        text-align: right;\n",
       "    }\n",
       "</style>\n",
       "<table border=\"1\" class=\"dataframe\">\n",
       "  <thead>\n",
       "    <tr style=\"text-align: right;\">\n",
       "      <th></th>\n",
       "      <th>10</th>\n",
       "      <th>12</th>\n",
       "      <th>13</th>\n",
       "      <th>16</th>\n",
       "      <th>16th</th>\n",
       "      <th>17</th>\n",
       "      <th>18</th>\n",
       "      <th>1980</th>\n",
       "      <th>1985</th>\n",
       "      <th>1988</th>\n",
       "      <th>...</th>\n",
       "      <th>young</th>\n",
       "      <th>younger</th>\n",
       "      <th>your</th>\n",
       "      <th>yourself</th>\n",
       "      <th>zer</th>\n",
       "      <th>zers</th>\n",
       "      <th>zillenials</th>\n",
       "      <th>zoe</th>\n",
       "      <th>zoomers</th>\n",
       "      <th>zs</th>\n",
       "    </tr>\n",
       "  </thead>\n",
       "  <tbody>\n",
       "    <tr>\n",
       "      <th>0</th>\n",
       "      <td>0</td>\n",
       "      <td>0</td>\n",
       "      <td>0</td>\n",
       "      <td>0</td>\n",
       "      <td>0</td>\n",
       "      <td>0</td>\n",
       "      <td>0</td>\n",
       "      <td>0</td>\n",
       "      <td>0</td>\n",
       "      <td>0</td>\n",
       "      <td>...</td>\n",
       "      <td>0</td>\n",
       "      <td>0</td>\n",
       "      <td>0</td>\n",
       "      <td>0</td>\n",
       "      <td>0</td>\n",
       "      <td>0</td>\n",
       "      <td>0</td>\n",
       "      <td>0</td>\n",
       "      <td>0</td>\n",
       "      <td>0</td>\n",
       "    </tr>\n",
       "    <tr>\n",
       "      <th>1</th>\n",
       "      <td>0</td>\n",
       "      <td>0</td>\n",
       "      <td>0</td>\n",
       "      <td>0</td>\n",
       "      <td>0</td>\n",
       "      <td>0</td>\n",
       "      <td>0</td>\n",
       "      <td>0</td>\n",
       "      <td>0</td>\n",
       "      <td>0</td>\n",
       "      <td>...</td>\n",
       "      <td>0</td>\n",
       "      <td>0</td>\n",
       "      <td>0</td>\n",
       "      <td>0</td>\n",
       "      <td>0</td>\n",
       "      <td>0</td>\n",
       "      <td>0</td>\n",
       "      <td>0</td>\n",
       "      <td>0</td>\n",
       "      <td>0</td>\n",
       "    </tr>\n",
       "    <tr>\n",
       "      <th>2</th>\n",
       "      <td>0</td>\n",
       "      <td>0</td>\n",
       "      <td>0</td>\n",
       "      <td>0</td>\n",
       "      <td>0</td>\n",
       "      <td>0</td>\n",
       "      <td>0</td>\n",
       "      <td>0</td>\n",
       "      <td>0</td>\n",
       "      <td>0</td>\n",
       "      <td>...</td>\n",
       "      <td>0</td>\n",
       "      <td>0</td>\n",
       "      <td>0</td>\n",
       "      <td>0</td>\n",
       "      <td>0</td>\n",
       "      <td>0</td>\n",
       "      <td>0</td>\n",
       "      <td>0</td>\n",
       "      <td>1</td>\n",
       "      <td>0</td>\n",
       "    </tr>\n",
       "    <tr>\n",
       "      <th>3</th>\n",
       "      <td>0</td>\n",
       "      <td>0</td>\n",
       "      <td>0</td>\n",
       "      <td>0</td>\n",
       "      <td>0</td>\n",
       "      <td>0</td>\n",
       "      <td>0</td>\n",
       "      <td>0</td>\n",
       "      <td>0</td>\n",
       "      <td>0</td>\n",
       "      <td>...</td>\n",
       "      <td>0</td>\n",
       "      <td>0</td>\n",
       "      <td>0</td>\n",
       "      <td>0</td>\n",
       "      <td>0</td>\n",
       "      <td>0</td>\n",
       "      <td>0</td>\n",
       "      <td>0</td>\n",
       "      <td>0</td>\n",
       "      <td>0</td>\n",
       "    </tr>\n",
       "    <tr>\n",
       "      <th>4</th>\n",
       "      <td>0</td>\n",
       "      <td>0</td>\n",
       "      <td>0</td>\n",
       "      <td>0</td>\n",
       "      <td>0</td>\n",
       "      <td>0</td>\n",
       "      <td>0</td>\n",
       "      <td>0</td>\n",
       "      <td>0</td>\n",
       "      <td>0</td>\n",
       "      <td>...</td>\n",
       "      <td>0</td>\n",
       "      <td>0</td>\n",
       "      <td>0</td>\n",
       "      <td>0</td>\n",
       "      <td>0</td>\n",
       "      <td>0</td>\n",
       "      <td>0</td>\n",
       "      <td>0</td>\n",
       "      <td>0</td>\n",
       "      <td>0</td>\n",
       "    </tr>\n",
       "  </tbody>\n",
       "</table>\n",
       "<p>5 rows × 917 columns</p>\n",
       "</div>"
      ],
      "text/plain": [
       "   10  12  13  16  16th  17  18  1980  1985  1988  ...  young  younger  your  \\\n",
       "0   0   0   0   0     0   0   0     0     0     0  ...      0        0     0   \n",
       "1   0   0   0   0     0   0   0     0     0     0  ...      0        0     0   \n",
       "2   0   0   0   0     0   0   0     0     0     0  ...      0        0     0   \n",
       "3   0   0   0   0     0   0   0     0     0     0  ...      0        0     0   \n",
       "4   0   0   0   0     0   0   0     0     0     0  ...      0        0     0   \n",
       "\n",
       "   yourself  zer  zers  zillenials  zoe  zoomers  zs  \n",
       "0         0    0     0           0    0        0   0  \n",
       "1         0    0     0           0    0        0   0  \n",
       "2         0    0     0           0    0        1   0  \n",
       "3         0    0     0           0    0        0   0  \n",
       "4         0    0     0           0    0        0   0  \n",
       "\n",
       "[5 rows x 917 columns]"
      ]
     },
     "execution_count": 198,
     "metadata": {},
     "output_type": "execute_result"
    }
   ],
   "source": [
    "train_df = pd.DataFrame(X_train.todense(), columns = cvec.get_feature_names())\n",
    "\n",
    "train_df.head()"
   ]
  },
  {
   "cell_type": "code",
   "execution_count": 199,
   "id": "21a57439-9fb6-42ba-95ae-2e97e6afe7ca",
   "metadata": {},
   "outputs": [],
   "source": [
    "train_df['title'] = y_train.values"
   ]
  },
  {
   "cell_type": "code",
   "execution_count": 200,
   "id": "86477102-58ed-42cf-9dba-e7e609c65d69",
   "metadata": {},
   "outputs": [
    {
     "data": {
      "text/plain": [
       "<AxesSubplot:>"
      ]
     },
     "execution_count": 200,
     "metadata": {},
     "output_type": "execute_result"
    },
    {
     "data": {
      "image/png": "[encoded data removed]",
      "text/plain": [
       "<Figure size 432x288 with 1 Axes>"
      ]
     },
     "metadata": {
      "needs_background": "light"
     },
     "output_type": "display_data"
    }
   ],
   "source": [
    "train_df.groupby('title').sum().T.sort_values(1, ascending = True).tail(20).plot.barh()"
   ]
  },
  {
   "cell_type": "markdown",
   "id": "68ad276e-734d-47a7-988b-1241fbd425af",
   "metadata": {},
   "source": [
    "We see the words milennials, tiktok, shorts and amp favor the milennial subreddit and gen favors the GenZ subreddit.\n"
   ]
  },
  {
   "cell_type": "code",
   "execution_count": 201,
   "id": "c7a83020-4f2e-4e45-8e11-72ce305f611b",
   "metadata": {},
   "outputs": [],
   "source": [
    "#from this url https://stackoverflow.com/questions/33605946/attributeerror-lower-not-found-using-a-pipeline-with-a-countvectorizer-in-scik\n",
    "def my_tokenizer(X):\n",
    "    newlist = []\n",
    "    for alist in X:\n",
    "        newlist.append(alist[0].split(' '))\n",
    "    return newlist"
   ]
  },
  {
   "cell_type": "code",
   "execution_count": 202,
   "id": "5e24a7ba-3e9a-407d-adce-ea391e0edae5",
   "metadata": {},
   "outputs": [],
   "source": [
    "X_train, X_test, y_train, y_test = train_test_split(X,\n",
    "                                                    y,\n",
    "                                                    test_size=0.33,\n",
    "                                                    stratify=y,\n",
    "                                                    random_state=42)"
   ]
  },
  {
   "cell_type": "code",
   "execution_count": 203,
   "id": "316d354e-ad61-4e52-8621-e2a6589559cf",
   "metadata": {},
   "outputs": [],
   "source": [
    "from sklearn.feature_extraction.text import TfidfVectorizer"
   ]
  },
  {
   "cell_type": "code",
   "execution_count": 204,
   "id": "d30c7e91-f939-4d3a-8da1-c5cd03260639",
   "metadata": {},
   "outputs": [],
   "source": [
    "#Taken from 5.06\n",
    "pipe = Pipeline([\n",
    "    #('cvec', CountVectorizer(tokenizer=my_tokenizer)),\n",
    "    ('tvec', TfidfVectorizer()),\n",
    "    ('nb', MultinomialNB())\n",
    "])"
   ]
  },
  {
   "cell_type": "code",
   "execution_count": 205,
   "id": "92f9e5bf-3241-4da5-8280-ba8d8fc1834e",
   "metadata": {},
   "outputs": [
    {
     "data": {
      "text/plain": [
       "(1340,)"
      ]
     },
     "execution_count": 205,
     "metadata": {},
     "output_type": "execute_result"
    }
   ],
   "source": [
    "X_train.shape"
   ]
  },
  {
   "cell_type": "code",
   "execution_count": 206,
   "id": "861cbbfe-e24e-4eb9-9be8-85fe6fec07b2",
   "metadata": {},
   "outputs": [
    {
     "data": {
      "text/plain": [
       "Pipeline(steps=[('tvec', TfidfVectorizer()), ('nb', MultinomialNB())])"
      ]
     },
     "execution_count": 206,
     "metadata": {},
     "output_type": "execute_result"
    }
   ],
   "source": [
    "pipe.fit(X_train, y_train)"
   ]
  },
  {
   "cell_type": "code",
   "execution_count": 207,
   "id": "accf6c68-37ed-41b6-a29a-3ffaa2071df0",
   "metadata": {},
   "outputs": [
    {
     "name": "stdout",
     "output_type": "stream",
     "text": [
      "Train: 0.9828358208955223\n",
      "Test: 0.9742424242424242\n"
     ]
    }
   ],
   "source": [
    "print('Train:', pipe.score(X_train, y_train))\n",
    "print('Test:', pipe.score(X_test, y_test))"
   ]
  },
  {
   "cell_type": "markdown",
   "id": "e838cb56-ad92-4fd6-b3e2-f6bfea9689f2",
   "metadata": {},
   "source": [
    "This indicates that out model is 97.4% accurate in predicting whether a title is in the millenial subreddit or the GenZ one.\n"
   ]
  },
  {
   "cell_type": "code",
   "execution_count": 208,
   "id": "086a3483-6308-4649-8650-94e28f7f5a4c",
   "metadata": {},
   "outputs": [
    {
     "data": {
      "text/plain": [
       "<sklearn.metrics._plot.confusion_matrix.ConfusionMatrixDisplay at 0x24d94b72fa0>"
      ]
     },
     "execution_count": 208,
     "metadata": {},
     "output_type": "execute_result"
    },
    {
     "data": {
      "image/png": "[encoded data removed]",
      "text/plain": [
       "<Figure size 432x288 with 2 Axes>"
      ]
     },
     "metadata": {
      "needs_background": "light"
     },
     "output_type": "display_data"
    }
   ],
   "source": [
    "# Confusion matrix\n",
    "plot_confusion_matrix(pipe, X_test, y_test, cmap='Greens')"
   ]
  },
  {
   "cell_type": "markdown",
   "id": "599b8848-e6b2-4aa0-9853-6ec1093ce4ad",
   "metadata": {},
   "source": [
    "It seems that out of 660 testing data, the model only predicted 17 entries incorrectly. Now that we did that for title, we will do it for selftext"
   ]
  },
  {
   "cell_type": "code",
   "execution_count": 223,
   "id": "1d33cae4-2c60-40f2-93f8-22e3252bfdd4",
   "metadata": {},
   "outputs": [],
   "source": [
    "df_selftext = df[['subreddit', 'selftext']].dropna()\n",
    "X = df_selftext['selftext']\n",
    "y = df_selftext['subreddit']"
   ]
  },
  {
   "cell_type": "code",
   "execution_count": 224,
   "id": "264535ba-fa5e-4258-947b-d8396be94812",
   "metadata": {},
   "outputs": [
    {
     "data": {
      "text/plain": [
       "subreddit    0\n",
       "selftext     0\n",
       "dtype: int64"
      ]
     },
     "execution_count": 224,
     "metadata": {},
     "output_type": "execute_result"
    }
   ],
   "source": [
    "df_selftext.isnull().sum()"
   ]
  },
  {
   "cell_type": "code",
   "execution_count": 225,
   "id": "e642083d-3def-40d6-88c3-eef5dc3b4f27",
   "metadata": {},
   "outputs": [
    {
     "data": {
      "text/plain": [
       "(931, 2)"
      ]
     },
     "execution_count": 225,
     "metadata": {},
     "output_type": "execute_result"
    }
   ],
   "source": [
    "df_selftext.shape"
   ]
  },
  {
   "cell_type": "code",
   "execution_count": 226,
   "id": "5b2bfe28-8f6a-4188-a3de-4a7fc79e6beb",
   "metadata": {},
   "outputs": [
    {
     "data": {
      "text/plain": [
       "0    0.526316\n",
       "1    0.473684\n",
       "Name: subreddit, dtype: float64"
      ]
     },
     "execution_count": 226,
     "metadata": {},
     "output_type": "execute_result"
    }
   ],
   "source": [
    "# Check what we need to check in a classification problem.\n",
    "y.value_counts(normalize=True)"
   ]
  },
  {
   "cell_type": "markdown",
   "id": "7240d925-6d26-4f60-bcd5-51cfd43fd0be",
   "metadata": {},
   "source": [
    "The baseline is 52%"
   ]
  },
  {
   "cell_type": "code",
   "execution_count": 227,
   "id": "de1ba227-22e5-4d90-b07c-f6d112aec137",
   "metadata": {},
   "outputs": [],
   "source": [
    "# Split the data into the training and testing sets.\n",
    "X_train, X_test, y_train, y_test = train_test_split(X,\n",
    "                                                    y,\n",
    "                                                    test_size=0.33,\n",
    "                                                    stratify=y,\n",
    "                                                    random_state=42)"
   ]
  },
  {
   "cell_type": "code",
   "execution_count": 228,
   "id": "36c9e2a7-9ccc-4c7d-ab6e-e71515f7c19c",
   "metadata": {},
   "outputs": [],
   "source": [
    "# Instantiate a CountVectorizer.\n",
    "cvec = CountVectorizer()"
   ]
  },
  {
   "cell_type": "code",
   "execution_count": 229,
   "id": "82219086-8df7-46c8-ab52-a32d5f14d245",
   "metadata": {},
   "outputs": [],
   "source": [
    "# Instantiate the transformer.\n",
    "tvec = TfidfVectorizer()"
   ]
  },
  {
   "cell_type": "code",
   "execution_count": 230,
   "id": "f12bec0e-4294-40e4-b568-4d5369c1eae6",
   "metadata": {},
   "outputs": [
    {
     "data": {
      "text/plain": [
       "CountVectorizer()"
      ]
     },
     "execution_count": 230,
     "metadata": {},
     "output_type": "execute_result"
    }
   ],
   "source": [
    "# Fit the vectorizer on our corpus.\n",
    "cvec.fit(X_train)"
   ]
  },
  {
   "cell_type": "code",
   "execution_count": 231,
   "id": "5481125d-cacf-4f60-957d-723cb05e67ae",
   "metadata": {},
   "outputs": [],
   "source": [
    "# Transform the corpus.\n",
    "X_train = cvec.transform(X_train)"
   ]
  },
  {
   "cell_type": "code",
   "execution_count": 232,
   "id": "3e802b2e-eeb7-4cab-a6c2-c52f89c9084b",
   "metadata": {},
   "outputs": [
    {
     "data": {
      "text/plain": [
       "(623, 1439)"
      ]
     },
     "execution_count": 232,
     "metadata": {},
     "output_type": "execute_result"
    }
   ],
   "source": [
    "X_train.shape"
   ]
  },
  {
   "cell_type": "code",
   "execution_count": 233,
   "id": "863bd46f-f038-491a-b254-8e48472657cd",
   "metadata": {},
   "outputs": [
    {
     "data": {
      "text/plain": [
       "matrix([[0, 0, 0, ..., 0, 0, 0],\n",
       "        [0, 0, 0, ..., 0, 0, 0],\n",
       "        [0, 0, 1, ..., 0, 0, 0],\n",
       "        ...,\n",
       "        [0, 0, 0, ..., 0, 0, 0],\n",
       "        [0, 0, 0, ..., 0, 0, 0],\n",
       "        [0, 0, 0, ..., 0, 0, 0]], dtype=int64)"
      ]
     },
     "execution_count": 233,
     "metadata": {},
     "output_type": "execute_result"
    }
   ],
   "source": [
    "X_train.todense()"
   ]
  },
  {
   "cell_type": "code",
   "execution_count": 234,
   "id": "d42230c1-9f64-49d4-a124-f793b4c82f16",
   "metadata": {},
   "outputs": [],
   "source": [
    "X_test = cvec.transform(X_test)"
   ]
  },
  {
   "cell_type": "code",
   "execution_count": 235,
   "id": "2b5bbff2-1de3-4862-b87c-b2d4bfbfb9fa",
   "metadata": {},
   "outputs": [
    {
     "data": {
      "text/html": [
       "<div>\n",
       "<style scoped>\n",
       "    .dataframe tbody tr th:only-of-type {\n",
       "        vertical-align: middle;\n",
       "    }\n",
       "\n",
       "    .dataframe tbody tr th {\n",
       "        vertical-align: top;\n",
       "    }\n",
       "\n",
       "    .dataframe thead th {\n",
       "        text-align: right;\n",
       "    }\n",
       "</style>\n",
       "<table border=\"1\" class=\"dataframe\">\n",
       "  <thead>\n",
       "    <tr style=\"text-align: right;\">\n",
       "      <th></th>\n",
       "      <th>000</th>\n",
       "      <th>06</th>\n",
       "      <th>10</th>\n",
       "      <th>100</th>\n",
       "      <th>11</th>\n",
       "      <th>12</th>\n",
       "      <th>13</th>\n",
       "      <th>14</th>\n",
       "      <th>15</th>\n",
       "      <th>16</th>\n",
       "      <th>...</th>\n",
       "      <th>your</th>\n",
       "      <th>yourself</th>\n",
       "      <th>youth</th>\n",
       "      <th>youtu</th>\n",
       "      <th>youtube</th>\n",
       "      <th>yr</th>\n",
       "      <th>z4mbxaa3xl8</th>\n",
       "      <th>zendaya</th>\n",
       "      <th>zillenials</th>\n",
       "      <th>zpomyri0w</th>\n",
       "    </tr>\n",
       "  </thead>\n",
       "  <tbody>\n",
       "    <tr>\n",
       "      <th>0</th>\n",
       "      <td>0</td>\n",
       "      <td>0</td>\n",
       "      <td>0</td>\n",
       "      <td>0</td>\n",
       "      <td>0</td>\n",
       "      <td>0</td>\n",
       "      <td>0</td>\n",
       "      <td>0</td>\n",
       "      <td>0</td>\n",
       "      <td>0</td>\n",
       "      <td>...</td>\n",
       "      <td>0</td>\n",
       "      <td>0</td>\n",
       "      <td>0</td>\n",
       "      <td>0</td>\n",
       "      <td>0</td>\n",
       "      <td>0</td>\n",
       "      <td>0</td>\n",
       "      <td>0</td>\n",
       "      <td>0</td>\n",
       "      <td>0</td>\n",
       "    </tr>\n",
       "    <tr>\n",
       "      <th>1</th>\n",
       "      <td>0</td>\n",
       "      <td>0</td>\n",
       "      <td>0</td>\n",
       "      <td>0</td>\n",
       "      <td>0</td>\n",
       "      <td>0</td>\n",
       "      <td>0</td>\n",
       "      <td>0</td>\n",
       "      <td>0</td>\n",
       "      <td>0</td>\n",
       "      <td>...</td>\n",
       "      <td>0</td>\n",
       "      <td>0</td>\n",
       "      <td>0</td>\n",
       "      <td>0</td>\n",
       "      <td>0</td>\n",
       "      <td>0</td>\n",
       "      <td>0</td>\n",
       "      <td>0</td>\n",
       "      <td>0</td>\n",
       "      <td>0</td>\n",
       "    </tr>\n",
       "    <tr>\n",
       "      <th>2</th>\n",
       "      <td>0</td>\n",
       "      <td>0</td>\n",
       "      <td>1</td>\n",
       "      <td>0</td>\n",
       "      <td>0</td>\n",
       "      <td>0</td>\n",
       "      <td>0</td>\n",
       "      <td>0</td>\n",
       "      <td>0</td>\n",
       "      <td>0</td>\n",
       "      <td>...</td>\n",
       "      <td>2</td>\n",
       "      <td>0</td>\n",
       "      <td>0</td>\n",
       "      <td>0</td>\n",
       "      <td>0</td>\n",
       "      <td>0</td>\n",
       "      <td>0</td>\n",
       "      <td>0</td>\n",
       "      <td>0</td>\n",
       "      <td>0</td>\n",
       "    </tr>\n",
       "    <tr>\n",
       "      <th>3</th>\n",
       "      <td>0</td>\n",
       "      <td>0</td>\n",
       "      <td>0</td>\n",
       "      <td>0</td>\n",
       "      <td>0</td>\n",
       "      <td>0</td>\n",
       "      <td>0</td>\n",
       "      <td>0</td>\n",
       "      <td>0</td>\n",
       "      <td>0</td>\n",
       "      <td>...</td>\n",
       "      <td>0</td>\n",
       "      <td>0</td>\n",
       "      <td>0</td>\n",
       "      <td>0</td>\n",
       "      <td>0</td>\n",
       "      <td>0</td>\n",
       "      <td>0</td>\n",
       "      <td>0</td>\n",
       "      <td>0</td>\n",
       "      <td>0</td>\n",
       "    </tr>\n",
       "    <tr>\n",
       "      <th>4</th>\n",
       "      <td>0</td>\n",
       "      <td>0</td>\n",
       "      <td>0</td>\n",
       "      <td>0</td>\n",
       "      <td>0</td>\n",
       "      <td>0</td>\n",
       "      <td>0</td>\n",
       "      <td>0</td>\n",
       "      <td>0</td>\n",
       "      <td>0</td>\n",
       "      <td>...</td>\n",
       "      <td>0</td>\n",
       "      <td>0</td>\n",
       "      <td>0</td>\n",
       "      <td>0</td>\n",
       "      <td>0</td>\n",
       "      <td>0</td>\n",
       "      <td>0</td>\n",
       "      <td>0</td>\n",
       "      <td>0</td>\n",
       "      <td>0</td>\n",
       "    </tr>\n",
       "  </tbody>\n",
       "</table>\n",
       "<p>5 rows × 1439 columns</p>\n",
       "</div>"
      ],
      "text/plain": [
       "   000  06  10  100  11  12  13  14  15  16  ...  your  yourself  youth  \\\n",
       "0    0   0   0    0   0   0   0   0   0   0  ...     0         0      0   \n",
       "1    0   0   0    0   0   0   0   0   0   0  ...     0         0      0   \n",
       "2    0   0   1    0   0   0   0   0   0   0  ...     2         0      0   \n",
       "3    0   0   0    0   0   0   0   0   0   0  ...     0         0      0   \n",
       "4    0   0   0    0   0   0   0   0   0   0  ...     0         0      0   \n",
       "\n",
       "   youtu  youtube  yr  z4mbxaa3xl8  zendaya  zillenials  zpomyri0w  \n",
       "0      0        0   0            0        0           0          0  \n",
       "1      0        0   0            0        0           0          0  \n",
       "2      0        0   0            0        0           0          0  \n",
       "3      0        0   0            0        0           0          0  \n",
       "4      0        0   0            0        0           0          0  \n",
       "\n",
       "[5 rows x 1439 columns]"
      ]
     },
     "execution_count": 235,
     "metadata": {},
     "output_type": "execute_result"
    }
   ],
   "source": [
    "train_df = pd.DataFrame(X_train.todense(), columns = cvec.get_feature_names())\n",
    "\n",
    "train_df.head()"
   ]
  },
  {
   "cell_type": "code",
   "execution_count": 236,
   "id": "4a2559a2-53b6-4f56-a07f-87d145c61f26",
   "metadata": {},
   "outputs": [],
   "source": [
    "train_df['title'] = y_train.values"
   ]
  },
  {
   "cell_type": "code",
   "execution_count": 237,
   "id": "12724148-8d14-4f9d-8341-e70211e87821",
   "metadata": {},
   "outputs": [
    {
     "data": {
      "text/plain": [
       "<AxesSubplot:>"
      ]
     },
     "execution_count": 237,
     "metadata": {},
     "output_type": "execute_result"
    },
    {
     "data": {
      "image/png": "[encoded data removed]",
      "text/plain": [
       "<Figure size 432x288 with 1 Axes>"
      ]
     },
     "metadata": {
      "needs_background": "light"
     },
     "output_type": "display_data"
    }
   ],
   "source": [
    "train_df.groupby('title').sum().T.sort_values(1, ascending = True).tail(20).plot.barh()"
   ]
  },
  {
   "cell_type": "markdown",
   "id": "e478978d-5e3b-453e-8605-54675fbec625",
   "metadata": {},
   "source": [
    "We see in the subtext that the words https, com, www, and watch are all more correlated with millenial than with GenZ. This indicates to me that people in the millenial subreddit are more likely to post links than in the GenZ subreddit."
   ]
  },
  {
   "cell_type": "code",
   "execution_count": 238,
   "id": "71912efa-f940-4d72-b8a8-8b926ff30b74",
   "metadata": {},
   "outputs": [],
   "source": [
    "X_train, X_test, y_train, y_test = train_test_split(X,\n",
    "                                                    y,\n",
    "                                                    test_size=0.33,\n",
    "                                                    stratify=y,\n",
    "                                                    random_state=42)"
   ]
  },
  {
   "cell_type": "code",
   "execution_count": 239,
   "id": "f58f87c1-0279-446e-a2c5-be506286d9a7",
   "metadata": {},
   "outputs": [],
   "source": [
    "from sklearn.feature_extraction.text import TfidfVectorizer"
   ]
  },
  {
   "cell_type": "code",
   "execution_count": 240,
   "id": "999bc5d3-41e6-4665-8bfc-3c5a262fcce5",
   "metadata": {},
   "outputs": [],
   "source": [
    "#Taken from 5.06\n",
    "pipe = Pipeline([\n",
    "    #('cvec', CountVectorizer(tokenizer=my_tokenizer)),\n",
    "    ('tvec', TfidfVectorizer()),\n",
    "    ('nb', MultinomialNB())\n",
    "])"
   ]
  },
  {
   "cell_type": "code",
   "execution_count": 241,
   "id": "52fbff50-5a8a-4bba-b6a7-c64de03b9ff8",
   "metadata": {},
   "outputs": [
    {
     "data": {
      "text/plain": [
       "(623,)"
      ]
     },
     "execution_count": 241,
     "metadata": {},
     "output_type": "execute_result"
    }
   ],
   "source": [
    "X_train.shape"
   ]
  },
  {
   "cell_type": "code",
   "execution_count": 242,
   "id": "a27100e1-d4e1-49d1-b280-7c5819f10eb6",
   "metadata": {},
   "outputs": [
    {
     "data": {
      "text/plain": [
       "Pipeline(steps=[('tvec', TfidfVectorizer()), ('nb', MultinomialNB())])"
      ]
     },
     "execution_count": 242,
     "metadata": {},
     "output_type": "execute_result"
    }
   ],
   "source": [
    "pipe.fit(X_train, y_train)"
   ]
  },
  {
   "cell_type": "code",
   "execution_count": 243,
   "id": "fcd7e73d-bf29-46ae-97e8-f38860a7f995",
   "metadata": {},
   "outputs": [
    {
     "name": "stdout",
     "output_type": "stream",
     "text": [
      "Train: 0.8057784911717496\n",
      "Test: 0.7792207792207793\n"
     ]
    }
   ],
   "source": [
    "print('Train:', pipe.score(X_train, y_train))\n",
    "print('Test:', pipe.score(X_test, y_test))"
   ]
  },
  {
   "cell_type": "markdown",
   "id": "e1386161-12c6-411b-9637-b70f364a0ef0",
   "metadata": {},
   "source": [
    "This shows that the model is 77.9% accurate in predicting the subreddit given subtext. It is slightly overfit. "
   ]
  },
  {
   "cell_type": "code",
   "execution_count": 244,
   "id": "2335d5ca-f4cb-48f9-a7e6-19c0dbb4e2e8",
   "metadata": {},
   "outputs": [
    {
     "data": {
      "text/plain": [
       "<sklearn.metrics._plot.confusion_matrix.ConfusionMatrixDisplay at 0x24d954e8850>"
      ]
     },
     "execution_count": 244,
     "metadata": {},
     "output_type": "execute_result"
    },
    {
     "data": {
      "image/png": "[encoded data removed]",
      "text/plain": [
       "<Figure size 432x288 with 2 Axes>"
      ]
     },
     "metadata": {
      "needs_background": "light"
     },
     "output_type": "display_data"
    }
   ],
   "source": [
    "# Confusion matrix\n",
    "plot_confusion_matrix(pipe, X_test, y_test, cmap='Greens')"
   ]
  },
  {
   "cell_type": "markdown",
   "id": "d93f70f6-7352-41b2-964f-e2898a0f8ba3",
   "metadata": {},
   "source": [
    "This shows most of the problem comes when the model predicts for the GenZ subreddit and it is really in the millenial subreddit."
   ]
  },
  {
   "cell_type": "markdown",
   "id": "41aa90da-d860-4b57-ad0b-bbae7c524f8f",
   "metadata": {},
   "source": [
    "Now that we did this, let's look at a random forest and extra tree classifier for both the title column and the subtext column"
   ]
  },
  {
   "cell_type": "code",
   "execution_count": 275,
   "id": "bd4e45c4-c865-458b-ba65-491cae30f153",
   "metadata": {},
   "outputs": [],
   "source": [
    "X = df['title']\n",
    "y = df['subreddit']"
   ]
  },
  {
   "cell_type": "code",
   "execution_count": 276,
   "id": "6286aea5-e0cd-427e-bb77-7fab7dcfbfa4",
   "metadata": {},
   "outputs": [],
   "source": [
    "X_train, X_test, y_train, y_test = train_test_split(X,\n",
    "                                                    y,\n",
    "                                                    test_size=0.33,\n",
    "                                                    stratify=y,\n",
    "                                                    random_state=42)"
   ]
  },
  {
   "cell_type": "code",
   "execution_count": 277,
   "id": "c1e7cfab-165e-442a-9d19-58ab8da29a58",
   "metadata": {},
   "outputs": [
    {
     "data": {
      "text/plain": [
       "RandomForestClassifier()"
      ]
     },
     "execution_count": 277,
     "metadata": {},
     "output_type": "execute_result"
    }
   ],
   "source": [
    "#take from https://stackoverflow.com/questions/40913104/how-to-use-randomforestclassifier-with-string-data\n",
    "vec = CountVectorizer()\n",
    "X_train = vec.fit_transform(X_train)\n",
    "clf = RandomForestClassifier()  \n",
    "clf.fit(X_train, y_train) "
   ]
  },
  {
   "cell_type": "code",
   "execution_count": 278,
   "id": "dae2d906-b133-4b21-affe-ef97a2f00503",
   "metadata": {},
   "outputs": [
    {
     "data": {
      "text/plain": [
       "0.9858208955223879"
      ]
     },
     "execution_count": 278,
     "metadata": {},
     "output_type": "execute_result"
    }
   ],
   "source": [
    "cross_val_score(clf, X_train, y_train, cv = 5).mean()"
   ]
  },
  {
   "cell_type": "markdown",
   "id": "9f3b59b3-ecd1-445a-8084-8a91cc475e0c",
   "metadata": {},
   "source": [
    "The random forest classifier gives us an accuracy rate of 98.6% in determining if a title is in the millenial subreddit or the GenZ subreddit."
   ]
  },
  {
   "cell_type": "code",
   "execution_count": 279,
   "id": "5766fb7c-1a9d-424a-8f8c-4065193afaa9",
   "metadata": {},
   "outputs": [],
   "source": [
    "X_train, X_test, y_train, y_test = train_test_split(X,\n",
    "                                                    y,\n",
    "                                                    test_size=0.33,\n",
    "                                                    stratify=y,\n",
    "                                                    random_state=42)"
   ]
  },
  {
   "cell_type": "code",
   "execution_count": 280,
   "id": "b1bc4f5b-83bd-4dfa-b290-426e05538469",
   "metadata": {},
   "outputs": [
    {
     "data": {
      "text/plain": [
       "ExtraTreesClassifier()"
      ]
     },
     "execution_count": 280,
     "metadata": {},
     "output_type": "execute_result"
    }
   ],
   "source": [
    "vec = CountVectorizer()\n",
    "X_train = vec.fit_transform(X_train)\n",
    "et = ExtraTreesClassifier()  \n",
    "et.fit(X_train, y_train) "
   ]
  },
  {
   "cell_type": "code",
   "execution_count": 281,
   "id": "76d91876-790f-4644-98c1-51534395e9ac",
   "metadata": {},
   "outputs": [
    {
     "data": {
      "text/plain": [
       "0.9858208955223879"
      ]
     },
     "execution_count": 281,
     "metadata": {},
     "output_type": "execute_result"
    }
   ],
   "source": [
    "cross_val_score(et, X_train, y_train, cv = 5).mean()"
   ]
  },
  {
   "cell_type": "markdown",
   "id": "06d10e17-57f6-4583-996b-dd629e158d63",
   "metadata": {},
   "source": [
    "The extra trees classifier gives us an accuracy rate of 98.6% in determining if a title is in the millenial subreddit or the GenZ subreddit."
   ]
  },
  {
   "cell_type": "markdown",
   "id": "32ba695b-a5d8-4d62-a184-4f44b4e84edd",
   "metadata": {},
   "source": [
    "Now let's try the same thing but with selftext"
   ]
  },
  {
   "cell_type": "code",
   "execution_count": 282,
   "id": "9fe42f8c-4fe5-4836-b234-11ad9c5fff01",
   "metadata": {},
   "outputs": [],
   "source": [
    "X = df_selftext['selftext']\n",
    "y = df_selftext['subreddit']"
   ]
  },
  {
   "cell_type": "code",
   "execution_count": 283,
   "id": "1b9185b5-8a9a-4fa3-8e4b-068c9ffc38a3",
   "metadata": {},
   "outputs": [],
   "source": [
    "X_train, X_test, y_train, y_test = train_test_split(X,\n",
    "                                                    y,\n",
    "                                                    test_size=0.33,\n",
    "                                                    stratify=y,\n",
    "                                                    random_state=42)"
   ]
  },
  {
   "cell_type": "code",
   "execution_count": 284,
   "id": "d4e75bbe-90aa-4955-8e5f-07271107c64e",
   "metadata": {},
   "outputs": [
    {
     "data": {
      "text/plain": [
       "RandomForestClassifier()"
      ]
     },
     "execution_count": 284,
     "metadata": {},
     "output_type": "execute_result"
    }
   ],
   "source": [
    "#take from https://stackoverflow.com/questions/40913104/how-to-use-randomforestclassifier-with-string-data\n",
    "vec = CountVectorizer()\n",
    "X_train = vec.fit_transform(X_train)\n",
    "clf = RandomForestClassifier()  \n",
    "clf.fit(X_train, y_train) "
   ]
  },
  {
   "cell_type": "code",
   "execution_count": 285,
   "id": "898478b9-94e2-44aa-a9d8-fb957ca5b394",
   "metadata": {},
   "outputs": [
    {
     "data": {
      "text/plain": [
       "0.8089548387096773"
      ]
     },
     "execution_count": 285,
     "metadata": {},
     "output_type": "execute_result"
    }
   ],
   "source": [
    "cross_val_score(clf, X_train, y_train, cv = 5).mean()"
   ]
  },
  {
   "cell_type": "markdown",
   "id": "c95151b1-c9b1-4eb9-86fd-8ebcbf2d2f4b",
   "metadata": {},
   "source": [
    "The random forest classifier gives us an accuracy rate of 81% in determining if a title is in the millenial subreddit or the GenZ subreddit."
   ]
  },
  {
   "cell_type": "code",
   "execution_count": 287,
   "id": "2e2f8178-2829-4ef1-a181-f725ca5496ea",
   "metadata": {},
   "outputs": [],
   "source": [
    "X_train, X_test, y_train, y_test = train_test_split(X,\n",
    "                                                    y,\n",
    "                                                    test_size=0.33,\n",
    "                                                    stratify=y,\n",
    "                                                    random_state=42)"
   ]
  },
  {
   "cell_type": "code",
   "execution_count": 288,
   "id": "284b4ba9-bac2-411f-ba36-04be643ac6d8",
   "metadata": {},
   "outputs": [
    {
     "data": {
      "text/plain": [
       "ExtraTreesClassifier()"
      ]
     },
     "execution_count": 288,
     "metadata": {},
     "output_type": "execute_result"
    }
   ],
   "source": [
    "vec = CountVectorizer()\n",
    "X_train = vec.fit_transform(X_train)\n",
    "et = ExtraTreesClassifier()  \n",
    "et.fit(X_train, y_train) "
   ]
  },
  {
   "cell_type": "code",
   "execution_count": 289,
   "id": "7687b19d-6723-49ad-96e4-4ada8932d73b",
   "metadata": {},
   "outputs": [
    {
     "data": {
      "text/plain": [
       "0.8089548387096773"
      ]
     },
     "execution_count": 289,
     "metadata": {},
     "output_type": "execute_result"
    }
   ],
   "source": [
    "cross_val_score(et, X_train, y_train, cv = 5).mean()"
   ]
  },
  {
   "cell_type": "markdown",
   "id": "dbc4b406-04e5-4d6b-9262-e7cca3f2f38c",
   "metadata": {},
   "source": [
    "The random forest classifier gives us an accuracy rate of 81% in determining if a title is in the millenial subreddit or the GenZ subreddit."
   ]
  },
  {
   "cell_type": "markdown",
   "id": "760d93f9-f91f-43db-87fc-f5c4b7b0047f",
   "metadata": {},
   "source": [
    "Conclusion: Given a title, it is easy to create a model that can determine if the title is from the millenial subreddit or the GenZ subreddit. If given selftext, I recommend either the RandomForestClassifier or the ExtraTreesClassifier."
   ]
  },
  {
   "cell_type": "markdown",
   "id": "e74abf3b-f798-4ab7-8b03-cca5163443f6",
   "metadata": {},
   "source": [
    "___"
   ]
  },
  {
   "cell_type": "code",
   "execution_count": null,
   "id": "06a571f5-6542-4a9e-ab0c-57166930c5c2",
   "metadata": {},
   "outputs": [],
   "source": []
  }
 ],
 "metadata": {
  "kernelspec": {
   "display_name": "Python 3 (ipykernel)",
   "language": "python",
   "name": "python3"
  },
  "language_info": {
   "codemirror_mode": {
    "name": "ipython",
    "version": 3
   },
   "file_extension": ".py",
   "mimetype": "text/x-python",
   "name": "python",
   "nbconvert_exporter": "python",
   "pygments_lexer": "ipython3",
   "version": "3.9.7"
  }
 },
 "nbformat": 4,
 "nbformat_minor": 5
}
