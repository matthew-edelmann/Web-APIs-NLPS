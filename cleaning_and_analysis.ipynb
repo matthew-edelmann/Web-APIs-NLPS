{
 "cells": [
  {
   "cell_type": "code",
   "execution_count": 1,
   "id": "f68ddba6-e5de-4c9b-93fd-46da2a06f46c",
   "metadata": {},
   "outputs": [],
   "source": [
    "#Imports\n",
    "import pandas as pd\n",
    "import numpy as np\n",
    "import seaborn as sns\n",
    "import matplotlib.pyplot as plt\n",
    "from sklearn.model_selection import cross_val_score, train_test_split, GridSearchCV\n",
    "from sklearn.ensemble import RandomForestClassifier, ExtraTreesClassifier\n",
    "from sklearn.feature_extraction.text import CountVectorizer, TfidfVectorizer\n",
    "from sklearn.metrics import confusion_matrix, plot_confusion_matrix\n",
    "from sklearn.pipeline import Pipeline\n",
    "from sklearn.naive_bayes import MultinomialNB"
   ]
  },
  {
   "cell_type": "code",
   "execution_count": 2,
   "id": "e1c44689-741c-450c-ad48-e870ed39634e",
   "metadata": {},
   "outputs": [],
   "source": [
    "df = pd.read_csv('reddit.csv')"
   ]
  },
  {
   "cell_type": "code",
   "execution_count": 3,
   "id": "05480f5c-b159-4551-93b0-73d11861cb0c",
   "metadata": {},
   "outputs": [
    {
     "data": {
      "text/html": [
       "<div>\n",
       "<style scoped>\n",
       "    .dataframe tbody tr th:only-of-type {\n",
       "        vertical-align: middle;\n",
       "    }\n",
       "\n",
       "    .dataframe tbody tr th {\n",
       "        vertical-align: top;\n",
       "    }\n",
       "\n",
       "    .dataframe thead th {\n",
       "        text-align: right;\n",
       "    }\n",
       "</style>\n",
       "<table border=\"1\" class=\"dataframe\">\n",
       "  <thead>\n",
       "    <tr style=\"text-align: right;\">\n",
       "      <th></th>\n",
       "      <th>Unnamed: 0</th>\n",
       "      <th>all_awardings</th>\n",
       "      <th>allow_live_comments</th>\n",
       "      <th>author</th>\n",
       "      <th>author_flair_background_color</th>\n",
       "      <th>author_flair_css_class</th>\n",
       "      <th>author_flair_richtext</th>\n",
       "      <th>author_flair_template_id</th>\n",
       "      <th>author_flair_text</th>\n",
       "      <th>author_flair_text_color</th>\n",
       "      <th>...</th>\n",
       "      <th>crosspost_parent_list</th>\n",
       "      <th>poll_data</th>\n",
       "      <th>media</th>\n",
       "      <th>media_embed</th>\n",
       "      <th>secure_media</th>\n",
       "      <th>secure_media_embed</th>\n",
       "      <th>gallery_data</th>\n",
       "      <th>is_gallery</th>\n",
       "      <th>media_metadata</th>\n",
       "      <th>link_flair_css_class</th>\n",
       "    </tr>\n",
       "  </thead>\n",
       "  <tbody>\n",
       "    <tr>\n",
       "      <th>0</th>\n",
       "      <td>0</td>\n",
       "      <td>[]</td>\n",
       "      <td>False</td>\n",
       "      <td>IllustriousNovel7841</td>\n",
       "      <td>#f7accf</td>\n",
       "      <td>millennial</td>\n",
       "      <td>[]</td>\n",
       "      <td>65c72e52-ea27-11e9-a5e5-0e427099dabc</td>\n",
       "      <td>Millennial</td>\n",
       "      <td>light</td>\n",
       "      <td>...</td>\n",
       "      <td>NaN</td>\n",
       "      <td>NaN</td>\n",
       "      <td>NaN</td>\n",
       "      <td>NaN</td>\n",
       "      <td>NaN</td>\n",
       "      <td>NaN</td>\n",
       "      <td>NaN</td>\n",
       "      <td>NaN</td>\n",
       "      <td>NaN</td>\n",
       "      <td>NaN</td>\n",
       "    </tr>\n",
       "    <tr>\n",
       "      <th>1</th>\n",
       "      <td>1</td>\n",
       "      <td>[]</td>\n",
       "      <td>False</td>\n",
       "      <td>IllustriousNovel7841</td>\n",
       "      <td>#f7accf</td>\n",
       "      <td>millennial</td>\n",
       "      <td>[]</td>\n",
       "      <td>65c72e52-ea27-11e9-a5e5-0e427099dabc</td>\n",
       "      <td>Millennial</td>\n",
       "      <td>light</td>\n",
       "      <td>...</td>\n",
       "      <td>NaN</td>\n",
       "      <td>NaN</td>\n",
       "      <td>NaN</td>\n",
       "      <td>NaN</td>\n",
       "      <td>NaN</td>\n",
       "      <td>NaN</td>\n",
       "      <td>NaN</td>\n",
       "      <td>NaN</td>\n",
       "      <td>NaN</td>\n",
       "      <td>NaN</td>\n",
       "    </tr>\n",
       "    <tr>\n",
       "      <th>2</th>\n",
       "      <td>2</td>\n",
       "      <td>[]</td>\n",
       "      <td>False</td>\n",
       "      <td>RedPillPopper888</td>\n",
       "      <td>NaN</td>\n",
       "      <td>NaN</td>\n",
       "      <td>[]</td>\n",
       "      <td>NaN</td>\n",
       "      <td>NaN</td>\n",
       "      <td>NaN</td>\n",
       "      <td>...</td>\n",
       "      <td>NaN</td>\n",
       "      <td>NaN</td>\n",
       "      <td>NaN</td>\n",
       "      <td>NaN</td>\n",
       "      <td>NaN</td>\n",
       "      <td>NaN</td>\n",
       "      <td>NaN</td>\n",
       "      <td>NaN</td>\n",
       "      <td>NaN</td>\n",
       "      <td>NaN</td>\n",
       "    </tr>\n",
       "    <tr>\n",
       "      <th>3</th>\n",
       "      <td>3</td>\n",
       "      <td>[]</td>\n",
       "      <td>False</td>\n",
       "      <td>Fwindowserver</td>\n",
       "      <td>NaN</td>\n",
       "      <td>NaN</td>\n",
       "      <td>[]</td>\n",
       "      <td>NaN</td>\n",
       "      <td>NaN</td>\n",
       "      <td>NaN</td>\n",
       "      <td>...</td>\n",
       "      <td>NaN</td>\n",
       "      <td>NaN</td>\n",
       "      <td>NaN</td>\n",
       "      <td>NaN</td>\n",
       "      <td>NaN</td>\n",
       "      <td>NaN</td>\n",
       "      <td>NaN</td>\n",
       "      <td>NaN</td>\n",
       "      <td>NaN</td>\n",
       "      <td>NaN</td>\n",
       "    </tr>\n",
       "    <tr>\n",
       "      <th>4</th>\n",
       "      <td>4</td>\n",
       "      <td>[]</td>\n",
       "      <td>False</td>\n",
       "      <td>Ok_Conversation_6733</td>\n",
       "      <td>NaN</td>\n",
       "      <td>NaN</td>\n",
       "      <td>[]</td>\n",
       "      <td>NaN</td>\n",
       "      <td>NaN</td>\n",
       "      <td>NaN</td>\n",
       "      <td>...</td>\n",
       "      <td>NaN</td>\n",
       "      <td>NaN</td>\n",
       "      <td>NaN</td>\n",
       "      <td>NaN</td>\n",
       "      <td>NaN</td>\n",
       "      <td>NaN</td>\n",
       "      <td>NaN</td>\n",
       "      <td>NaN</td>\n",
       "      <td>NaN</td>\n",
       "      <td>NaN</td>\n",
       "    </tr>\n",
       "  </tbody>\n",
       "</table>\n",
       "<p>5 rows × 83 columns</p>\n",
       "</div>"
      ],
      "text/plain": [
       "   Unnamed: 0 all_awardings  allow_live_comments                author  \\\n",
       "0           0            []                False  IllustriousNovel7841   \n",
       "1           1            []                False  IllustriousNovel7841   \n",
       "2           2            []                False      RedPillPopper888   \n",
       "3           3            []                False         Fwindowserver   \n",
       "4           4            []                False  Ok_Conversation_6733   \n",
       "\n",
       "  author_flair_background_color author_flair_css_class author_flair_richtext  \\\n",
       "0                       #f7accf             millennial                    []   \n",
       "1                       #f7accf             millennial                    []   \n",
       "2                           NaN                    NaN                    []   \n",
       "3                           NaN                    NaN                    []   \n",
       "4                           NaN                    NaN                    []   \n",
       "\n",
       "               author_flair_template_id author_flair_text  \\\n",
       "0  65c72e52-ea27-11e9-a5e5-0e427099dabc        Millennial   \n",
       "1  65c72e52-ea27-11e9-a5e5-0e427099dabc        Millennial   \n",
       "2                                   NaN               NaN   \n",
       "3                                   NaN               NaN   \n",
       "4                                   NaN               NaN   \n",
       "\n",
       "  author_flair_text_color  ... crosspost_parent_list poll_data  media  \\\n",
       "0                   light  ...                   NaN       NaN    NaN   \n",
       "1                   light  ...                   NaN       NaN    NaN   \n",
       "2                     NaN  ...                   NaN       NaN    NaN   \n",
       "3                     NaN  ...                   NaN       NaN    NaN   \n",
       "4                     NaN  ...                   NaN       NaN    NaN   \n",
       "\n",
       "   media_embed  secure_media secure_media_embed  gallery_data  is_gallery  \\\n",
       "0          NaN           NaN                NaN           NaN         NaN   \n",
       "1          NaN           NaN                NaN           NaN         NaN   \n",
       "2          NaN           NaN                NaN           NaN         NaN   \n",
       "3          NaN           NaN                NaN           NaN         NaN   \n",
       "4          NaN           NaN                NaN           NaN         NaN   \n",
       "\n",
       "   media_metadata link_flair_css_class  \n",
       "0             NaN                  NaN  \n",
       "1             NaN                  NaN  \n",
       "2             NaN                  NaN  \n",
       "3             NaN                  NaN  \n",
       "4             NaN                  NaN  \n",
       "\n",
       "[5 rows x 83 columns]"
      ]
     },
     "execution_count": 3,
     "metadata": {},
     "output_type": "execute_result"
    }
   ],
   "source": [
    "df.head()"
   ]
  },
  {
   "cell_type": "code",
   "execution_count": 4,
   "id": "4e12faa0-0c0e-4771-9717-7733223196c1",
   "metadata": {},
   "outputs": [
    {
     "data": {
      "text/html": [
       "<div>\n",
       "<style scoped>\n",
       "    .dataframe tbody tr th:only-of-type {\n",
       "        vertical-align: middle;\n",
       "    }\n",
       "\n",
       "    .dataframe tbody tr th {\n",
       "        vertical-align: top;\n",
       "    }\n",
       "\n",
       "    .dataframe thead th {\n",
       "        text-align: right;\n",
       "    }\n",
       "</style>\n",
       "<table border=\"1\" class=\"dataframe\">\n",
       "  <thead>\n",
       "    <tr style=\"text-align: right;\">\n",
       "      <th></th>\n",
       "      <th>all_awardings</th>\n",
       "      <th>allow_live_comments</th>\n",
       "      <th>author</th>\n",
       "      <th>author_flair_background_color</th>\n",
       "      <th>author_flair_css_class</th>\n",
       "      <th>author_flair_richtext</th>\n",
       "      <th>author_flair_template_id</th>\n",
       "      <th>author_flair_text</th>\n",
       "      <th>author_flair_text_color</th>\n",
       "      <th>author_flair_type</th>\n",
       "      <th>...</th>\n",
       "      <th>crosspost_parent_list</th>\n",
       "      <th>poll_data</th>\n",
       "      <th>media</th>\n",
       "      <th>media_embed</th>\n",
       "      <th>secure_media</th>\n",
       "      <th>secure_media_embed</th>\n",
       "      <th>gallery_data</th>\n",
       "      <th>is_gallery</th>\n",
       "      <th>media_metadata</th>\n",
       "      <th>link_flair_css_class</th>\n",
       "    </tr>\n",
       "  </thead>\n",
       "  <tbody>\n",
       "    <tr>\n",
       "      <th>0</th>\n",
       "      <td>[]</td>\n",
       "      <td>False</td>\n",
       "      <td>IllustriousNovel7841</td>\n",
       "      <td>#f7accf</td>\n",
       "      <td>millennial</td>\n",
       "      <td>[]</td>\n",
       "      <td>65c72e52-ea27-11e9-a5e5-0e427099dabc</td>\n",
       "      <td>Millennial</td>\n",
       "      <td>light</td>\n",
       "      <td>text</td>\n",
       "      <td>...</td>\n",
       "      <td>NaN</td>\n",
       "      <td>NaN</td>\n",
       "      <td>NaN</td>\n",
       "      <td>NaN</td>\n",
       "      <td>NaN</td>\n",
       "      <td>NaN</td>\n",
       "      <td>NaN</td>\n",
       "      <td>NaN</td>\n",
       "      <td>NaN</td>\n",
       "      <td>NaN</td>\n",
       "    </tr>\n",
       "    <tr>\n",
       "      <th>1</th>\n",
       "      <td>[]</td>\n",
       "      <td>False</td>\n",
       "      <td>IllustriousNovel7841</td>\n",
       "      <td>#f7accf</td>\n",
       "      <td>millennial</td>\n",
       "      <td>[]</td>\n",
       "      <td>65c72e52-ea27-11e9-a5e5-0e427099dabc</td>\n",
       "      <td>Millennial</td>\n",
       "      <td>light</td>\n",
       "      <td>text</td>\n",
       "      <td>...</td>\n",
       "      <td>NaN</td>\n",
       "      <td>NaN</td>\n",
       "      <td>NaN</td>\n",
       "      <td>NaN</td>\n",
       "      <td>NaN</td>\n",
       "      <td>NaN</td>\n",
       "      <td>NaN</td>\n",
       "      <td>NaN</td>\n",
       "      <td>NaN</td>\n",
       "      <td>NaN</td>\n",
       "    </tr>\n",
       "    <tr>\n",
       "      <th>2</th>\n",
       "      <td>[]</td>\n",
       "      <td>False</td>\n",
       "      <td>RedPillPopper888</td>\n",
       "      <td>NaN</td>\n",
       "      <td>NaN</td>\n",
       "      <td>[]</td>\n",
       "      <td>NaN</td>\n",
       "      <td>NaN</td>\n",
       "      <td>NaN</td>\n",
       "      <td>text</td>\n",
       "      <td>...</td>\n",
       "      <td>NaN</td>\n",
       "      <td>NaN</td>\n",
       "      <td>NaN</td>\n",
       "      <td>NaN</td>\n",
       "      <td>NaN</td>\n",
       "      <td>NaN</td>\n",
       "      <td>NaN</td>\n",
       "      <td>NaN</td>\n",
       "      <td>NaN</td>\n",
       "      <td>NaN</td>\n",
       "    </tr>\n",
       "    <tr>\n",
       "      <th>3</th>\n",
       "      <td>[]</td>\n",
       "      <td>False</td>\n",
       "      <td>Fwindowserver</td>\n",
       "      <td>NaN</td>\n",
       "      <td>NaN</td>\n",
       "      <td>[]</td>\n",
       "      <td>NaN</td>\n",
       "      <td>NaN</td>\n",
       "      <td>NaN</td>\n",
       "      <td>text</td>\n",
       "      <td>...</td>\n",
       "      <td>NaN</td>\n",
       "      <td>NaN</td>\n",
       "      <td>NaN</td>\n",
       "      <td>NaN</td>\n",
       "      <td>NaN</td>\n",
       "      <td>NaN</td>\n",
       "      <td>NaN</td>\n",
       "      <td>NaN</td>\n",
       "      <td>NaN</td>\n",
       "      <td>NaN</td>\n",
       "    </tr>\n",
       "    <tr>\n",
       "      <th>4</th>\n",
       "      <td>[]</td>\n",
       "      <td>False</td>\n",
       "      <td>Ok_Conversation_6733</td>\n",
       "      <td>NaN</td>\n",
       "      <td>NaN</td>\n",
       "      <td>[]</td>\n",
       "      <td>NaN</td>\n",
       "      <td>NaN</td>\n",
       "      <td>NaN</td>\n",
       "      <td>text</td>\n",
       "      <td>...</td>\n",
       "      <td>NaN</td>\n",
       "      <td>NaN</td>\n",
       "      <td>NaN</td>\n",
       "      <td>NaN</td>\n",
       "      <td>NaN</td>\n",
       "      <td>NaN</td>\n",
       "      <td>NaN</td>\n",
       "      <td>NaN</td>\n",
       "      <td>NaN</td>\n",
       "      <td>NaN</td>\n",
       "    </tr>\n",
       "  </tbody>\n",
       "</table>\n",
       "<p>5 rows × 82 columns</p>\n",
       "</div>"
      ],
      "text/plain": [
       "  all_awardings  allow_live_comments                author  \\\n",
       "0            []                False  IllustriousNovel7841   \n",
       "1            []                False  IllustriousNovel7841   \n",
       "2            []                False      RedPillPopper888   \n",
       "3            []                False         Fwindowserver   \n",
       "4            []                False  Ok_Conversation_6733   \n",
       "\n",
       "  author_flair_background_color author_flair_css_class author_flair_richtext  \\\n",
       "0                       #f7accf             millennial                    []   \n",
       "1                       #f7accf             millennial                    []   \n",
       "2                           NaN                    NaN                    []   \n",
       "3                           NaN                    NaN                    []   \n",
       "4                           NaN                    NaN                    []   \n",
       "\n",
       "               author_flair_template_id author_flair_text  \\\n",
       "0  65c72e52-ea27-11e9-a5e5-0e427099dabc        Millennial   \n",
       "1  65c72e52-ea27-11e9-a5e5-0e427099dabc        Millennial   \n",
       "2                                   NaN               NaN   \n",
       "3                                   NaN               NaN   \n",
       "4                                   NaN               NaN   \n",
       "\n",
       "  author_flair_text_color author_flair_type  ... crosspost_parent_list  \\\n",
       "0                   light              text  ...                   NaN   \n",
       "1                   light              text  ...                   NaN   \n",
       "2                     NaN              text  ...                   NaN   \n",
       "3                     NaN              text  ...                   NaN   \n",
       "4                     NaN              text  ...                   NaN   \n",
       "\n",
       "   poll_data  media  media_embed secure_media  secure_media_embed  \\\n",
       "0        NaN    NaN          NaN          NaN                 NaN   \n",
       "1        NaN    NaN          NaN          NaN                 NaN   \n",
       "2        NaN    NaN          NaN          NaN                 NaN   \n",
       "3        NaN    NaN          NaN          NaN                 NaN   \n",
       "4        NaN    NaN          NaN          NaN                 NaN   \n",
       "\n",
       "   gallery_data  is_gallery media_metadata link_flair_css_class  \n",
       "0           NaN         NaN            NaN                  NaN  \n",
       "1           NaN         NaN            NaN                  NaN  \n",
       "2           NaN         NaN            NaN                  NaN  \n",
       "3           NaN         NaN            NaN                  NaN  \n",
       "4           NaN         NaN            NaN                  NaN  \n",
       "\n",
       "[5 rows x 82 columns]"
      ]
     },
     "execution_count": 4,
     "metadata": {},
     "output_type": "execute_result"
    }
   ],
   "source": [
    "df = df.drop(columns='Unnamed: 0')\n",
    "df.head()"
   ]
  },
  {
   "cell_type": "code",
   "execution_count": 5,
   "id": "7a91be80-e376-4ee0-a680-a318315bc99e",
   "metadata": {},
   "outputs": [
    {
     "data": {
      "text/plain": [
       "Millennials    1000\n",
       "GenZ           1000\n",
       "Name: subreddit, dtype: int64"
      ]
     },
     "execution_count": 5,
     "metadata": {},
     "output_type": "execute_result"
    }
   ],
   "source": [
    "df['subreddit'].value_counts()"
   ]
  },
  {
   "cell_type": "code",
   "execution_count": 6,
   "id": "3abfa5f2-df34-4d26-a451-b6ec55181567",
   "metadata": {},
   "outputs": [
    {
     "data": {
      "text/plain": [
       "1    1000\n",
       "0    1000\n",
       "Name: subreddit, dtype: int64"
      ]
     },
     "execution_count": 6,
     "metadata": {},
     "output_type": "execute_result"
    }
   ],
   "source": [
    "df['subreddit'] = df['subreddit'].map(lambda x: 1 if x == 'Millennials' else 0)\n",
    "df['subreddit'].value_counts()"
   ]
  },
  {
   "cell_type": "code",
   "execution_count": 7,
   "id": "e207bb64-1a40-4d2e-a478-47c2bd4f6a8e",
   "metadata": {},
   "outputs": [],
   "source": [
    "pd.set_option('display.max_rows', None)"
   ]
  },
  {
   "cell_type": "code",
   "execution_count": 8,
   "id": "58bdc54e-0bc9-4938-9a35-7dda2432e272",
   "metadata": {
    "scrolled": true,
    "tags": []
   },
   "outputs": [
    {
     "data": {
      "text/plain": [
       "all_awardings                       0\n",
       "allow_live_comments                 0\n",
       "author                              0\n",
       "author_flair_background_color    1790\n",
       "author_flair_css_class           1810\n",
       "author_flair_richtext               0\n",
       "author_flair_template_id         1200\n",
       "author_flair_text                1200\n",
       "author_flair_text_color          1200\n",
       "author_flair_type                   0\n",
       "author_fullname                     0\n",
       "author_is_blocked                   0\n",
       "author_patreon_flair                0\n",
       "author_premium                      0\n",
       "awarders                            0\n",
       "can_mod_post                        0\n",
       "contest_mode                        0\n",
       "created_utc                         0\n",
       "domain                              0\n",
       "full_link                           0\n",
       "gildings                            0\n",
       "id                                  0\n",
       "is_created_from_ads_ui              0\n",
       "is_crosspostable                    0\n",
       "is_meta                             0\n",
       "is_original_content                 0\n",
       "is_reddit_media_domain              0\n",
       "is_robot_indexable                  0\n",
       "is_self                             0\n",
       "is_video                            0\n",
       "link_flair_background_color        30\n",
       "link_flair_richtext                 0\n",
       "link_flair_template_id             30\n",
       "link_flair_text                    30\n",
       "link_flair_text_color               0\n",
       "link_flair_type                     0\n",
       "locked                              0\n",
       "media_only                          0\n",
       "no_follow                           0\n",
       "num_comments                        0\n",
       "num_crossposts                      0\n",
       "over_18                             0\n",
       "parent_whitelist_status             0\n",
       "permalink                           0\n",
       "pinned                              0\n",
       "post_hint                        1020\n",
       "preview                          1020\n",
       "pwls                                0\n",
       "retrieved_on                        0\n",
       "score                               0\n",
       "selftext                         1050\n",
       "send_replies                        0\n",
       "spoiler                             0\n",
       "stickied                            0\n",
       "subreddit                           0\n",
       "subreddit_id                        0\n",
       "subreddit_subscribers               0\n",
       "subreddit_type                      0\n",
       "suggested_sort                    990\n",
       "thumbnail                           0\n",
       "thumbnail_height                 1050\n",
       "thumbnail_width                  1050\n",
       "title                               0\n",
       "total_awards_received               0\n",
       "treatment_tags                      0\n",
       "upvote_ratio                        0\n",
       "url                                 0\n",
       "url_overridden_by_dest           1020\n",
       "whitelist_status                    0\n",
       "wls                                 0\n",
       "removed_by_category              1500\n",
       "crosspost_parent                 1910\n",
       "crosspost_parent_list            1910\n",
       "poll_data                        1960\n",
       "media                            1790\n",
       "media_embed                      1790\n",
       "secure_media                     1790\n",
       "secure_media_embed               1790\n",
       "gallery_data                     1930\n",
       "is_gallery                       1930\n",
       "media_metadata                   1930\n",
       "link_flair_css_class             1050\n",
       "dtype: int64"
      ]
     },
     "execution_count": 8,
     "metadata": {},
     "output_type": "execute_result"
    }
   ],
   "source": [
    "df.isnull().sum()"
   ]
  },
  {
   "cell_type": "code",
   "execution_count": 9,
   "id": "1a6eced0-743a-4468-b33f-c9526360fe5d",
   "metadata": {
    "scrolled": true,
    "tags": []
   },
   "outputs": [
    {
     "name": "stdout",
     "output_type": "stream",
     "text": [
      "<class 'pandas.core.frame.DataFrame'>\n",
      "RangeIndex: 2000 entries, 0 to 1999\n",
      "Data columns (total 82 columns):\n",
      " #   Column                         Non-Null Count  Dtype  \n",
      "---  ------                         --------------  -----  \n",
      " 0   all_awardings                  2000 non-null   object \n",
      " 1   allow_live_comments            2000 non-null   bool   \n",
      " 2   author                         2000 non-null   object \n",
      " 3   author_flair_background_color  210 non-null    object \n",
      " 4   author_flair_css_class         190 non-null    object \n",
      " 5   author_flair_richtext          2000 non-null   object \n",
      " 6   author_flair_template_id       800 non-null    object \n",
      " 7   author_flair_text              800 non-null    object \n",
      " 8   author_flair_text_color        800 non-null    object \n",
      " 9   author_flair_type              2000 non-null   object \n",
      " 10  author_fullname                2000 non-null   object \n",
      " 11  author_is_blocked              2000 non-null   bool   \n",
      " 12  author_patreon_flair           2000 non-null   bool   \n",
      " 13  author_premium                 2000 non-null   bool   \n",
      " 14  awarders                       2000 non-null   object \n",
      " 15  can_mod_post                   2000 non-null   bool   \n",
      " 16  contest_mode                   2000 non-null   bool   \n",
      " 17  created_utc                    2000 non-null   int64  \n",
      " 18  domain                         2000 non-null   object \n",
      " 19  full_link                      2000 non-null   object \n",
      " 20  gildings                       2000 non-null   object \n",
      " 21  id                             2000 non-null   object \n",
      " 22  is_created_from_ads_ui         2000 non-null   bool   \n",
      " 23  is_crosspostable               2000 non-null   bool   \n",
      " 24  is_meta                        2000 non-null   bool   \n",
      " 25  is_original_content            2000 non-null   bool   \n",
      " 26  is_reddit_media_domain         2000 non-null   bool   \n",
      " 27  is_robot_indexable             2000 non-null   bool   \n",
      " 28  is_self                        2000 non-null   bool   \n",
      " 29  is_video                       2000 non-null   bool   \n",
      " 30  link_flair_background_color    1970 non-null   object \n",
      " 31  link_flair_richtext            2000 non-null   object \n",
      " 32  link_flair_template_id         1970 non-null   object \n",
      " 33  link_flair_text                1970 non-null   object \n",
      " 34  link_flair_text_color          2000 non-null   object \n",
      " 35  link_flair_type                2000 non-null   object \n",
      " 36  locked                         2000 non-null   bool   \n",
      " 37  media_only                     2000 non-null   bool   \n",
      " 38  no_follow                      2000 non-null   bool   \n",
      " 39  num_comments                   2000 non-null   int64  \n",
      " 40  num_crossposts                 2000 non-null   int64  \n",
      " 41  over_18                        2000 non-null   bool   \n",
      " 42  parent_whitelist_status        2000 non-null   object \n",
      " 43  permalink                      2000 non-null   object \n",
      " 44  pinned                         2000 non-null   bool   \n",
      " 45  post_hint                      980 non-null    object \n",
      " 46  preview                        980 non-null    object \n",
      " 47  pwls                           2000 non-null   int64  \n",
      " 48  retrieved_on                   2000 non-null   int64  \n",
      " 49  score                          2000 non-null   int64  \n",
      " 50  selftext                       950 non-null    object \n",
      " 51  send_replies                   2000 non-null   bool   \n",
      " 52  spoiler                        2000 non-null   bool   \n",
      " 53  stickied                       2000 non-null   bool   \n",
      " 54  subreddit                      2000 non-null   int64  \n",
      " 55  subreddit_id                   2000 non-null   object \n",
      " 56  subreddit_subscribers          2000 non-null   int64  \n",
      " 57  subreddit_type                 2000 non-null   object \n",
      " 58  suggested_sort                 1010 non-null   object \n",
      " 59  thumbnail                      2000 non-null   object \n",
      " 60  thumbnail_height               950 non-null    float64\n",
      " 61  thumbnail_width                950 non-null    float64\n",
      " 62  title                          2000 non-null   object \n",
      " 63  total_awards_received          2000 non-null   int64  \n",
      " 64  treatment_tags                 2000 non-null   object \n",
      " 65  upvote_ratio                   2000 non-null   float64\n",
      " 66  url                            2000 non-null   object \n",
      " 67  url_overridden_by_dest         980 non-null    object \n",
      " 68  whitelist_status               2000 non-null   object \n",
      " 69  wls                            2000 non-null   int64  \n",
      " 70  removed_by_category            500 non-null    object \n",
      " 71  crosspost_parent               90 non-null     object \n",
      " 72  crosspost_parent_list          90 non-null     object \n",
      " 73  poll_data                      40 non-null     object \n",
      " 74  media                          210 non-null    object \n",
      " 75  media_embed                    210 non-null    object \n",
      " 76  secure_media                   210 non-null    object \n",
      " 77  secure_media_embed             210 non-null    object \n",
      " 78  gallery_data                   70 non-null     object \n",
      " 79  is_gallery                     70 non-null     object \n",
      " 80  media_metadata                 70 non-null     object \n",
      " 81  link_flair_css_class           950 non-null    object \n",
      "dtypes: bool(22), float64(3), int64(10), object(47)\n",
      "memory usage: 980.6+ KB\n"
     ]
    }
   ],
   "source": [
    "df.info()"
   ]
  },
  {
   "cell_type": "markdown",
   "id": "c1e93f6f-3277-4adf-8314-479bb4811aea",
   "metadata": {},
   "source": [
    "I need to fill in the blanks for missing data. A couple of columns only have 30 missing data. Anything above that we will drop the columns\n"
   ]
  },
  {
   "cell_type": "code",
   "execution_count": 10,
   "id": "fb655a35-28e0-480f-bf57-e97223c1dcc6",
   "metadata": {
    "scrolled": true,
    "tags": []
   },
   "outputs": [
    {
     "data": {
      "text/plain": [
       "['all_awardings',\n",
       " 'allow_live_comments',\n",
       " 'author',\n",
       " 'author_flair_background_color',\n",
       " 'author_flair_css_class',\n",
       " 'author_flair_richtext',\n",
       " 'author_flair_template_id',\n",
       " 'author_flair_text',\n",
       " 'author_flair_text_color',\n",
       " 'author_flair_type',\n",
       " 'author_fullname',\n",
       " 'author_is_blocked',\n",
       " 'author_patreon_flair',\n",
       " 'author_premium',\n",
       " 'awarders',\n",
       " 'can_mod_post',\n",
       " 'contest_mode',\n",
       " 'created_utc',\n",
       " 'domain',\n",
       " 'full_link',\n",
       " 'gildings',\n",
       " 'id',\n",
       " 'is_created_from_ads_ui',\n",
       " 'is_crosspostable',\n",
       " 'is_meta',\n",
       " 'is_original_content',\n",
       " 'is_reddit_media_domain',\n",
       " 'is_robot_indexable',\n",
       " 'is_self',\n",
       " 'is_video',\n",
       " 'link_flair_background_color',\n",
       " 'link_flair_richtext',\n",
       " 'link_flair_template_id',\n",
       " 'link_flair_text',\n",
       " 'link_flair_text_color',\n",
       " 'link_flair_type',\n",
       " 'locked',\n",
       " 'media_only',\n",
       " 'no_follow',\n",
       " 'num_comments',\n",
       " 'num_crossposts',\n",
       " 'over_18',\n",
       " 'parent_whitelist_status',\n",
       " 'permalink',\n",
       " 'pinned',\n",
       " 'post_hint',\n",
       " 'preview',\n",
       " 'pwls',\n",
       " 'retrieved_on',\n",
       " 'score',\n",
       " 'selftext',\n",
       " 'send_replies',\n",
       " 'spoiler',\n",
       " 'stickied',\n",
       " 'subreddit',\n",
       " 'subreddit_id',\n",
       " 'subreddit_subscribers',\n",
       " 'subreddit_type',\n",
       " 'suggested_sort',\n",
       " 'thumbnail',\n",
       " 'thumbnail_height',\n",
       " 'thumbnail_width',\n",
       " 'title',\n",
       " 'total_awards_received',\n",
       " 'treatment_tags',\n",
       " 'upvote_ratio',\n",
       " 'url',\n",
       " 'url_overridden_by_dest',\n",
       " 'whitelist_status',\n",
       " 'wls',\n",
       " 'removed_by_category',\n",
       " 'crosspost_parent',\n",
       " 'crosspost_parent_list',\n",
       " 'poll_data',\n",
       " 'media',\n",
       " 'media_embed',\n",
       " 'secure_media',\n",
       " 'secure_media_embed',\n",
       " 'gallery_data',\n",
       " 'is_gallery',\n",
       " 'media_metadata',\n",
       " 'link_flair_css_class']"
      ]
     },
     "execution_count": 10,
     "metadata": {},
     "output_type": "execute_result"
    }
   ],
   "source": [
    "df_cols = [n for n in df.columns]\n",
    "df_cols"
   ]
  },
  {
   "cell_type": "code",
   "execution_count": 11,
   "id": "2e2517ca-b230-4309-b224-4a7f125e9f20",
   "metadata": {},
   "outputs": [
    {
     "data": {
      "text/plain": [
       "['author_flair_background_color',\n",
       " 'author_flair_css_class',\n",
       " 'author_flair_template_id',\n",
       " 'author_flair_text',\n",
       " 'author_flair_text_color',\n",
       " 'post_hint',\n",
       " 'preview',\n",
       " 'selftext',\n",
       " 'suggested_sort',\n",
       " 'thumbnail_height',\n",
       " 'thumbnail_width',\n",
       " 'url_overridden_by_dest',\n",
       " 'removed_by_category',\n",
       " 'crosspost_parent',\n",
       " 'crosspost_parent_list',\n",
       " 'poll_data',\n",
       " 'media',\n",
       " 'media_embed',\n",
       " 'secure_media',\n",
       " 'secure_media_embed',\n",
       " 'gallery_data',\n",
       " 'is_gallery',\n",
       " 'media_metadata',\n",
       " 'link_flair_css_class']"
      ]
     },
     "execution_count": 11,
     "metadata": {},
     "output_type": "execute_result"
    }
   ],
   "source": [
    "#drop every column where null values are more than 50\n",
    "c = 0\n",
    "df_del = []\n",
    "for i in df.isnull().sum():\n",
    "    if i > 30:\n",
    "        df_del.append(df_cols[c])\n",
    "    c += 1\n",
    "df_del"
   ]
  },
  {
   "cell_type": "code",
   "execution_count": 12,
   "id": "b11cd9b7-fe20-47cd-b632-5d45c440db44",
   "metadata": {},
   "outputs": [],
   "source": [
    "df_chopped = df.drop(columns = df_del)\n",
    "df_chopped.dropna(inplace=True)"
   ]
  },
  {
   "cell_type": "code",
   "execution_count": 13,
   "id": "535399a9-3a79-4217-a78c-e0c8d1b07c1c",
   "metadata": {},
   "outputs": [
    {
     "data": {
      "text/plain": [
       "0    1000\n",
       "1     970\n",
       "Name: subreddit, dtype: int64"
      ]
     },
     "execution_count": 13,
     "metadata": {},
     "output_type": "execute_result"
    }
   ],
   "source": [
    "df_chopped['subreddit'].value_counts()"
   ]
  },
  {
   "cell_type": "markdown",
   "id": "0f173497-1127-4eb5-a0c4-95140d950059",
   "metadata": {},
   "source": [
    "Let's look for correlation. We only need to look at integer values for now\n"
   ]
  },
  {
   "cell_type": "code",
   "execution_count": 14,
   "id": "fd852764-3866-4ef9-8e33-e8caf5e796bf",
   "metadata": {},
   "outputs": [
    {
     "name": "stdout",
     "output_type": "stream",
     "text": [
      "<class 'pandas.core.frame.DataFrame'>\n",
      "Int64Index: 1970 entries, 0 to 1999\n",
      "Data columns (total 58 columns):\n",
      " #   Column                       Non-Null Count  Dtype  \n",
      "---  ------                       --------------  -----  \n",
      " 0   all_awardings                1970 non-null   object \n",
      " 1   allow_live_comments          1970 non-null   bool   \n",
      " 2   author                       1970 non-null   object \n",
      " 3   author_flair_richtext        1970 non-null   object \n",
      " 4   author_flair_type            1970 non-null   object \n",
      " 5   author_fullname              1970 non-null   object \n",
      " 6   author_is_blocked            1970 non-null   bool   \n",
      " 7   author_patreon_flair         1970 non-null   bool   \n",
      " 8   author_premium               1970 non-null   bool   \n",
      " 9   awarders                     1970 non-null   object \n",
      " 10  can_mod_post                 1970 non-null   bool   \n",
      " 11  contest_mode                 1970 non-null   bool   \n",
      " 12  created_utc                  1970 non-null   int64  \n",
      " 13  domain                       1970 non-null   object \n",
      " 14  full_link                    1970 non-null   object \n",
      " 15  gildings                     1970 non-null   object \n",
      " 16  id                           1970 non-null   object \n",
      " 17  is_created_from_ads_ui       1970 non-null   bool   \n",
      " 18  is_crosspostable             1970 non-null   bool   \n",
      " 19  is_meta                      1970 non-null   bool   \n",
      " 20  is_original_content          1970 non-null   bool   \n",
      " 21  is_reddit_media_domain       1970 non-null   bool   \n",
      " 22  is_robot_indexable           1970 non-null   bool   \n",
      " 23  is_self                      1970 non-null   bool   \n",
      " 24  is_video                     1970 non-null   bool   \n",
      " 25  link_flair_background_color  1970 non-null   object \n",
      " 26  link_flair_richtext          1970 non-null   object \n",
      " 27  link_flair_template_id       1970 non-null   object \n",
      " 28  link_flair_text              1970 non-null   object \n",
      " 29  link_flair_text_color        1970 non-null   object \n",
      " 30  link_flair_type              1970 non-null   object \n",
      " 31  locked                       1970 non-null   bool   \n",
      " 32  media_only                   1970 non-null   bool   \n",
      " 33  no_follow                    1970 non-null   bool   \n",
      " 34  num_comments                 1970 non-null   int64  \n",
      " 35  num_crossposts               1970 non-null   int64  \n",
      " 36  over_18                      1970 non-null   bool   \n",
      " 37  parent_whitelist_status      1970 non-null   object \n",
      " 38  permalink                    1970 non-null   object \n",
      " 39  pinned                       1970 non-null   bool   \n",
      " 40  pwls                         1970 non-null   int64  \n",
      " 41  retrieved_on                 1970 non-null   int64  \n",
      " 42  score                        1970 non-null   int64  \n",
      " 43  send_replies                 1970 non-null   bool   \n",
      " 44  spoiler                      1970 non-null   bool   \n",
      " 45  stickied                     1970 non-null   bool   \n",
      " 46  subreddit                    1970 non-null   int64  \n",
      " 47  subreddit_id                 1970 non-null   object \n",
      " 48  subreddit_subscribers        1970 non-null   int64  \n",
      " 49  subreddit_type               1970 non-null   object \n",
      " 50  thumbnail                    1970 non-null   object \n",
      " 51  title                        1970 non-null   object \n",
      " 52  total_awards_received        1970 non-null   int64  \n",
      " 53  treatment_tags               1970 non-null   object \n",
      " 54  upvote_ratio                 1970 non-null   float64\n",
      " 55  url                          1970 non-null   object \n",
      " 56  whitelist_status             1970 non-null   object \n",
      " 57  wls                          1970 non-null   int64  \n",
      "dtypes: bool(22), float64(1), int64(10), object(25)\n",
      "memory usage: 611.8+ KB\n"
     ]
    }
   ],
   "source": [
    "df_chopped.info()"
   ]
  },
  {
   "cell_type": "code",
   "execution_count": 15,
   "id": "14eb8494-dcab-4831-abee-5b778e5283c5",
   "metadata": {},
   "outputs": [
    {
     "data": {
      "text/plain": [
       "Index(['all_awardings', 'allow_live_comments', 'author',\n",
       "       'author_flair_richtext', 'author_flair_type', 'author_fullname',\n",
       "       'author_is_blocked', 'author_patreon_flair', 'author_premium',\n",
       "       'awarders', 'can_mod_post', 'contest_mode', 'created_utc', 'domain',\n",
       "       'full_link', 'gildings', 'id', 'is_created_from_ads_ui',\n",
       "       'is_crosspostable', 'is_meta', 'is_original_content',\n",
       "       'is_reddit_media_domain', 'is_robot_indexable', 'is_self', 'is_video',\n",
       "       'link_flair_background_color', 'link_flair_richtext',\n",
       "       'link_flair_template_id', 'link_flair_text', 'link_flair_text_color',\n",
       "       'link_flair_type', 'locked', 'media_only', 'no_follow', 'num_comments',\n",
       "       'num_crossposts', 'over_18', 'parent_whitelist_status', 'permalink',\n",
       "       'pinned', 'pwls', 'retrieved_on', 'score', 'send_replies', 'spoiler',\n",
       "       'stickied', 'subreddit', 'subreddit_id', 'subreddit_subscribers',\n",
       "       'subreddit_type', 'thumbnail', 'title', 'total_awards_received',\n",
       "       'treatment_tags', 'upvote_ratio', 'url', 'whitelist_status', 'wls'],\n",
       "      dtype='object')"
      ]
     },
     "execution_count": 15,
     "metadata": {},
     "output_type": "execute_result"
    }
   ],
   "source": [
    "df_chopped.columns"
   ]
  },
  {
   "cell_type": "code",
   "execution_count": 16,
   "id": "c76aa2cd-1116-48f3-ba2f-33f930ca0a48",
   "metadata": {
    "scrolled": true,
    "tags": []
   },
   "outputs": [
    {
     "data": {
      "text/plain": [
       "all_awardings                   object\n",
       "allow_live_comments               bool\n",
       "author                          object\n",
       "author_flair_richtext           object\n",
       "author_flair_type               object\n",
       "author_fullname                 object\n",
       "author_is_blocked                 bool\n",
       "author_patreon_flair              bool\n",
       "author_premium                    bool\n",
       "awarders                        object\n",
       "can_mod_post                      bool\n",
       "contest_mode                      bool\n",
       "created_utc                      int64\n",
       "domain                          object\n",
       "full_link                       object\n",
       "gildings                        object\n",
       "id                              object\n",
       "is_created_from_ads_ui            bool\n",
       "is_crosspostable                  bool\n",
       "is_meta                           bool\n",
       "is_original_content               bool\n",
       "is_reddit_media_domain            bool\n",
       "is_robot_indexable                bool\n",
       "is_self                           bool\n",
       "is_video                          bool\n",
       "link_flair_background_color     object\n",
       "link_flair_richtext             object\n",
       "link_flair_template_id          object\n",
       "link_flair_text                 object\n",
       "link_flair_text_color           object\n",
       "link_flair_type                 object\n",
       "locked                            bool\n",
       "media_only                        bool\n",
       "no_follow                         bool\n",
       "num_comments                     int64\n",
       "num_crossposts                   int64\n",
       "over_18                           bool\n",
       "parent_whitelist_status         object\n",
       "permalink                       object\n",
       "pinned                            bool\n",
       "pwls                             int64\n",
       "retrieved_on                     int64\n",
       "score                            int64\n",
       "send_replies                      bool\n",
       "spoiler                           bool\n",
       "stickied                          bool\n",
       "subreddit                        int64\n",
       "subreddit_id                    object\n",
       "subreddit_subscribers            int64\n",
       "subreddit_type                  object\n",
       "thumbnail                       object\n",
       "title                           object\n",
       "total_awards_received            int64\n",
       "treatment_tags                  object\n",
       "upvote_ratio                   float64\n",
       "url                             object\n",
       "whitelist_status                object\n",
       "wls                              int64\n",
       "dtype: object"
      ]
     },
     "execution_count": 16,
     "metadata": {},
     "output_type": "execute_result"
    }
   ],
   "source": [
    "df_chopped.dtypes"
   ]
  },
  {
   "cell_type": "code",
   "execution_count": 17,
   "id": "53196b9f-8cc0-4d2d-97c8-203653799a50",
   "metadata": {},
   "outputs": [],
   "source": [
    "nums = ['subreddit', 'over_18', 'is_video', 'is_crosspostable', 'is_robot_indexable', 'upvote_ratio', 'no_follow', 'is_reddit_media_domain', 'send_replies', 'author_premium', 'wls', 'is_self', 'contest_mode', 'stickied', 'created_utc', 'retrieved_on', 'num_comments', 'subreddit_subscribers']"
   ]
  },
  {
   "cell_type": "code",
   "execution_count": 18,
   "id": "b88e5833-5e5a-41c8-a51c-0e2491be70a3",
   "metadata": {},
   "outputs": [],
   "source": [
    "df_nums = df_chopped[nums]"
   ]
  },
  {
   "cell_type": "code",
   "execution_count": 19,
   "id": "50b76a40-78fa-4752-bac7-18ce6c522e73",
   "metadata": {},
   "outputs": [
    {
     "data": {
      "image/png": "[encoded data removed]",
      "text/plain": [
       "<Figure size 720x576 with 2 Axes>"
      ]
     },
     "metadata": {
      "needs_background": "light"
     },
     "output_type": "display_data"
    }
   ],
   "source": [
    "#Let's see the heat map without making dummies to see if we can reduce this further\n",
    "#Based on Breakfast hour Thursday the 9th\n",
    "plt.figure(figsize=(10,8))\n",
    "sns.heatmap(df_nums.corr()[['subreddit']].sort_values(by='subreddit',ascending=False),\n",
    "            annot = True,\n",
    "            vmin = -1,\n",
    "            vmax = 1,\n",
    "            cmap = 'coolwarm');"
   ]
  },
  {
   "cell_type": "markdown",
   "id": "701a487b-dc9f-427c-8167-07eb3998560d",
   "metadata": {},
   "source": [
    "Interestingly we see a negative correlation between num of comments and subreddit."
   ]
  },
  {
   "cell_type": "markdown",
   "id": "6094b239-a7f2-49ad-9824-06956e78ce41",
   "metadata": {},
   "source": [
    "This indicates that the more comments there are, the more likely it is to be in the GenZ subreddit\n"
   ]
  },
  {
   "cell_type": "code",
   "execution_count": 20,
   "id": "b869899a-a279-4a67-9bb1-4e5f31484659",
   "metadata": {
    "scrolled": true,
    "tags": []
   },
   "outputs": [
    {
     "name": "stdout",
     "output_type": "stream",
     "text": [
      "<class 'pandas.core.frame.DataFrame'>\n",
      "RangeIndex: 2000 entries, 0 to 1999\n",
      "Data columns (total 82 columns):\n",
      " #   Column                         Non-Null Count  Dtype  \n",
      "---  ------                         --------------  -----  \n",
      " 0   all_awardings                  2000 non-null   object \n",
      " 1   allow_live_comments            2000 non-null   bool   \n",
      " 2   author                         2000 non-null   object \n",
      " 3   author_flair_background_color  210 non-null    object \n",
      " 4   author_flair_css_class         190 non-null    object \n",
      " 5   author_flair_richtext          2000 non-null   object \n",
      " 6   author_flair_template_id       800 non-null    object \n",
      " 7   author_flair_text              800 non-null    object \n",
      " 8   author_flair_text_color        800 non-null    object \n",
      " 9   author_flair_type              2000 non-null   object \n",
      " 10  author_fullname                2000 non-null   object \n",
      " 11  author_is_blocked              2000 non-null   bool   \n",
      " 12  author_patreon_flair           2000 non-null   bool   \n",
      " 13  author_premium                 2000 non-null   bool   \n",
      " 14  awarders                       2000 non-null   object \n",
      " 15  can_mod_post                   2000 non-null   bool   \n",
      " 16  contest_mode                   2000 non-null   bool   \n",
      " 17  created_utc                    2000 non-null   int64  \n",
      " 18  domain                         2000 non-null   object \n",
      " 19  full_link                      2000 non-null   object \n",
      " 20  gildings                       2000 non-null   object \n",
      " 21  id                             2000 non-null   object \n",
      " 22  is_created_from_ads_ui         2000 non-null   bool   \n",
      " 23  is_crosspostable               2000 non-null   bool   \n",
      " 24  is_meta                        2000 non-null   bool   \n",
      " 25  is_original_content            2000 non-null   bool   \n",
      " 26  is_reddit_media_domain         2000 non-null   bool   \n",
      " 27  is_robot_indexable             2000 non-null   bool   \n",
      " 28  is_self                        2000 non-null   bool   \n",
      " 29  is_video                       2000 non-null   bool   \n",
      " 30  link_flair_background_color    1970 non-null   object \n",
      " 31  link_flair_richtext            2000 non-null   object \n",
      " 32  link_flair_template_id         1970 non-null   object \n",
      " 33  link_flair_text                1970 non-null   object \n",
      " 34  link_flair_text_color          2000 non-null   object \n",
      " 35  link_flair_type                2000 non-null   object \n",
      " 36  locked                         2000 non-null   bool   \n",
      " 37  media_only                     2000 non-null   bool   \n",
      " 38  no_follow                      2000 non-null   bool   \n",
      " 39  num_comments                   2000 non-null   int64  \n",
      " 40  num_crossposts                 2000 non-null   int64  \n",
      " 41  over_18                        2000 non-null   bool   \n",
      " 42  parent_whitelist_status        2000 non-null   object \n",
      " 43  permalink                      2000 non-null   object \n",
      " 44  pinned                         2000 non-null   bool   \n",
      " 45  post_hint                      980 non-null    object \n",
      " 46  preview                        980 non-null    object \n",
      " 47  pwls                           2000 non-null   int64  \n",
      " 48  retrieved_on                   2000 non-null   int64  \n",
      " 49  score                          2000 non-null   int64  \n",
      " 50  selftext                       950 non-null    object \n",
      " 51  send_replies                   2000 non-null   bool   \n",
      " 52  spoiler                        2000 non-null   bool   \n",
      " 53  stickied                       2000 non-null   bool   \n",
      " 54  subreddit                      2000 non-null   int64  \n",
      " 55  subreddit_id                   2000 non-null   object \n",
      " 56  subreddit_subscribers          2000 non-null   int64  \n",
      " 57  subreddit_type                 2000 non-null   object \n",
      " 58  suggested_sort                 1010 non-null   object \n",
      " 59  thumbnail                      2000 non-null   object \n",
      " 60  thumbnail_height               950 non-null    float64\n",
      " 61  thumbnail_width                950 non-null    float64\n",
      " 62  title                          2000 non-null   object \n",
      " 63  total_awards_received          2000 non-null   int64  \n",
      " 64  treatment_tags                 2000 non-null   object \n",
      " 65  upvote_ratio                   2000 non-null   float64\n",
      " 66  url                            2000 non-null   object \n",
      " 67  url_overridden_by_dest         980 non-null    object \n",
      " 68  whitelist_status               2000 non-null   object \n",
      " 69  wls                            2000 non-null   int64  \n",
      " 70  removed_by_category            500 non-null    object \n",
      " 71  crosspost_parent               90 non-null     object \n",
      " 72  crosspost_parent_list          90 non-null     object \n",
      " 73  poll_data                      40 non-null     object \n",
      " 74  media                          210 non-null    object \n",
      " 75  media_embed                    210 non-null    object \n",
      " 76  secure_media                   210 non-null    object \n",
      " 77  secure_media_embed             210 non-null    object \n",
      " 78  gallery_data                   70 non-null     object \n",
      " 79  is_gallery                     70 non-null     object \n",
      " 80  media_metadata                 70 non-null     object \n",
      " 81  link_flair_css_class           950 non-null    object \n",
      "dtypes: bool(22), float64(3), int64(10), object(47)\n",
      "memory usage: 980.6+ KB\n"
     ]
    }
   ],
   "source": [
    "df.info()"
   ]
  },
  {
   "cell_type": "markdown",
   "id": "a9720e47-f4f6-4780-ac0e-28c5e4776981",
   "metadata": {},
   "source": [
    "Let's deal with the title and the selftext to see if there is a difference between them in the 2 subreddits. We will start with title"
   ]
  },
  {
   "cell_type": "markdown",
   "id": "59e84d61-a89c-41ed-9775-2ec9755d321e",
   "metadata": {},
   "source": [
    "We need it to be lower cased"
   ]
  },
  {
   "cell_type": "code",
   "execution_count": 21,
   "id": "6122457a-b372-46c8-b356-3a94a1003f5a",
   "metadata": {},
   "outputs": [],
   "source": [
    "df['title'] = df['title'].map(lambda x: x.lower())"
   ]
  },
  {
   "cell_type": "code",
   "execution_count": 22,
   "id": "613eff4c-e6f5-455c-b17f-ebf831a720b9",
   "metadata": {},
   "outputs": [],
   "source": [
    "X = df['title']\n",
    "y = df['subreddit']"
   ]
  },
  {
   "cell_type": "code",
   "execution_count": 23,
   "id": "cd29c765-3806-44fc-85ef-3c5ae425c215",
   "metadata": {},
   "outputs": [
    {
     "data": {
      "text/plain": [
       "1    0.5\n",
       "0    0.5\n",
       "Name: subreddit, dtype: float64"
      ]
     },
     "execution_count": 23,
     "metadata": {},
     "output_type": "execute_result"
    }
   ],
   "source": [
    "# Check what we need to check in a classification problem.\n",
    "y.value_counts(normalize=True)"
   ]
  },
  {
   "cell_type": "markdown",
   "id": "86fa518a-fa6a-4c83-bd3b-9f9da8094830",
   "metadata": {},
   "source": [
    "It is no surprise, but we can see that the baseline is 50%"
   ]
  },
  {
   "cell_type": "code",
   "execution_count": 24,
   "id": "b47549b0-df13-49ae-ae97-76a8b81e7cd3",
   "metadata": {},
   "outputs": [],
   "source": [
    "# Split the data into the training and testing sets.\n",
    "X_train, X_test, y_train, y_test = train_test_split(X,\n",
    "                                                    y,\n",
    "                                                    test_size=0.33,\n",
    "                                                    stratify=y,\n",
    "                                                    random_state=42)"
   ]
  },
  {
   "cell_type": "code",
   "execution_count": 25,
   "id": "e5ed09ec-705e-417b-98b8-b7d37a6faf15",
   "metadata": {},
   "outputs": [],
   "source": [
    "# Instantiate a CountVectorizer.\n",
    "cvec = CountVectorizer()"
   ]
  },
  {
   "cell_type": "code",
   "execution_count": 26,
   "id": "91d6415a-2e93-457f-a897-12a742f721ef",
   "metadata": {},
   "outputs": [],
   "source": [
    "# Instantiate the transformer.\n",
    "tvec = TfidfVectorizer()"
   ]
  },
  {
   "cell_type": "code",
   "execution_count": 27,
   "id": "39a8589c-1b8d-4024-9c5e-1482f5e4bcc5",
   "metadata": {},
   "outputs": [
    {
     "data": {
      "text/plain": [
       "CountVectorizer()"
      ]
     },
     "execution_count": 27,
     "metadata": {},
     "output_type": "execute_result"
    }
   ],
   "source": [
    "# Fit the vectorizer on our corpus.\n",
    "cvec.fit(X_train)"
   ]
  },
  {
   "cell_type": "code",
   "execution_count": 28,
   "id": "ba8d8f6f-ac53-4b7e-abee-35b14e7a9ed4",
   "metadata": {},
   "outputs": [],
   "source": [
    "# Transform the corpus.\n",
    "X_train = cvec.transform(X_train)"
   ]
  },
  {
   "cell_type": "code",
   "execution_count": 29,
   "id": "07c12f39-116f-45e6-96e2-1336acceb4ba",
   "metadata": {},
   "outputs": [
    {
     "data": {
      "text/plain": [
       "(1340, 879)"
      ]
     },
     "execution_count": 29,
     "metadata": {},
     "output_type": "execute_result"
    }
   ],
   "source": [
    "X_train.shape"
   ]
  },
  {
   "cell_type": "code",
   "execution_count": 30,
   "id": "d80a2f26-bb2c-496b-b895-99a3af6adff8",
   "metadata": {},
   "outputs": [
    {
     "data": {
      "text/plain": [
       "matrix([[0, 0, 0, ..., 0, 0, 0],\n",
       "        [0, 0, 0, ..., 0, 1, 0],\n",
       "        [0, 0, 0, ..., 0, 0, 0],\n",
       "        ...,\n",
       "        [0, 0, 0, ..., 0, 0, 0],\n",
       "        [0, 0, 0, ..., 0, 0, 0],\n",
       "        [0, 0, 0, ..., 0, 0, 0]], dtype=int64)"
      ]
     },
     "execution_count": 30,
     "metadata": {},
     "output_type": "execute_result"
    }
   ],
   "source": [
    "X_train.todense()"
   ]
  },
  {
   "cell_type": "code",
   "execution_count": 31,
   "id": "1e4d1714-79a2-462e-b755-1187aa805a9a",
   "metadata": {},
   "outputs": [],
   "source": [
    "X_test = cvec.transform(X_test)"
   ]
  },
  {
   "cell_type": "code",
   "execution_count": 32,
   "id": "8d17049f-88ed-499f-ba41-e39ca968d0dc",
   "metadata": {},
   "outputs": [
    {
     "data": {
      "text/html": [
       "<div>\n",
       "<style scoped>\n",
       "    .dataframe tbody tr th:only-of-type {\n",
       "        vertical-align: middle;\n",
       "    }\n",
       "\n",
       "    .dataframe tbody tr th {\n",
       "        vertical-align: top;\n",
       "    }\n",
       "\n",
       "    .dataframe thead th {\n",
       "        text-align: right;\n",
       "    }\n",
       "</style>\n",
       "<table border=\"1\" class=\"dataframe\">\n",
       "  <thead>\n",
       "    <tr style=\"text-align: right;\">\n",
       "      <th></th>\n",
       "      <th>10</th>\n",
       "      <th>12</th>\n",
       "      <th>13</th>\n",
       "      <th>16</th>\n",
       "      <th>16th</th>\n",
       "      <th>17</th>\n",
       "      <th>18</th>\n",
       "      <th>1980</th>\n",
       "      <th>1985</th>\n",
       "      <th>1988</th>\n",
       "      <th>...</th>\n",
       "      <th>young</th>\n",
       "      <th>younger</th>\n",
       "      <th>your</th>\n",
       "      <th>yourself</th>\n",
       "      <th>zer</th>\n",
       "      <th>zers</th>\n",
       "      <th>zillenials</th>\n",
       "      <th>zoe</th>\n",
       "      <th>zoomers</th>\n",
       "      <th>zs</th>\n",
       "    </tr>\n",
       "  </thead>\n",
       "  <tbody>\n",
       "    <tr>\n",
       "      <th>0</th>\n",
       "      <td>0</td>\n",
       "      <td>0</td>\n",
       "      <td>0</td>\n",
       "      <td>0</td>\n",
       "      <td>0</td>\n",
       "      <td>0</td>\n",
       "      <td>0</td>\n",
       "      <td>0</td>\n",
       "      <td>0</td>\n",
       "      <td>0</td>\n",
       "      <td>...</td>\n",
       "      <td>0</td>\n",
       "      <td>0</td>\n",
       "      <td>0</td>\n",
       "      <td>0</td>\n",
       "      <td>0</td>\n",
       "      <td>0</td>\n",
       "      <td>0</td>\n",
       "      <td>0</td>\n",
       "      <td>0</td>\n",
       "      <td>0</td>\n",
       "    </tr>\n",
       "    <tr>\n",
       "      <th>1</th>\n",
       "      <td>0</td>\n",
       "      <td>0</td>\n",
       "      <td>0</td>\n",
       "      <td>0</td>\n",
       "      <td>0</td>\n",
       "      <td>0</td>\n",
       "      <td>0</td>\n",
       "      <td>0</td>\n",
       "      <td>0</td>\n",
       "      <td>0</td>\n",
       "      <td>...</td>\n",
       "      <td>0</td>\n",
       "      <td>0</td>\n",
       "      <td>0</td>\n",
       "      <td>0</td>\n",
       "      <td>0</td>\n",
       "      <td>0</td>\n",
       "      <td>0</td>\n",
       "      <td>0</td>\n",
       "      <td>1</td>\n",
       "      <td>0</td>\n",
       "    </tr>\n",
       "    <tr>\n",
       "      <th>2</th>\n",
       "      <td>0</td>\n",
       "      <td>0</td>\n",
       "      <td>0</td>\n",
       "      <td>0</td>\n",
       "      <td>0</td>\n",
       "      <td>0</td>\n",
       "      <td>0</td>\n",
       "      <td>0</td>\n",
       "      <td>0</td>\n",
       "      <td>0</td>\n",
       "      <td>...</td>\n",
       "      <td>0</td>\n",
       "      <td>0</td>\n",
       "      <td>0</td>\n",
       "      <td>0</td>\n",
       "      <td>0</td>\n",
       "      <td>0</td>\n",
       "      <td>0</td>\n",
       "      <td>0</td>\n",
       "      <td>0</td>\n",
       "      <td>0</td>\n",
       "    </tr>\n",
       "    <tr>\n",
       "      <th>3</th>\n",
       "      <td>0</td>\n",
       "      <td>0</td>\n",
       "      <td>0</td>\n",
       "      <td>0</td>\n",
       "      <td>0</td>\n",
       "      <td>0</td>\n",
       "      <td>0</td>\n",
       "      <td>0</td>\n",
       "      <td>0</td>\n",
       "      <td>0</td>\n",
       "      <td>...</td>\n",
       "      <td>0</td>\n",
       "      <td>0</td>\n",
       "      <td>0</td>\n",
       "      <td>0</td>\n",
       "      <td>0</td>\n",
       "      <td>0</td>\n",
       "      <td>0</td>\n",
       "      <td>0</td>\n",
       "      <td>0</td>\n",
       "      <td>0</td>\n",
       "    </tr>\n",
       "    <tr>\n",
       "      <th>4</th>\n",
       "      <td>0</td>\n",
       "      <td>0</td>\n",
       "      <td>0</td>\n",
       "      <td>0</td>\n",
       "      <td>0</td>\n",
       "      <td>0</td>\n",
       "      <td>0</td>\n",
       "      <td>0</td>\n",
       "      <td>0</td>\n",
       "      <td>0</td>\n",
       "      <td>...</td>\n",
       "      <td>0</td>\n",
       "      <td>0</td>\n",
       "      <td>0</td>\n",
       "      <td>0</td>\n",
       "      <td>0</td>\n",
       "      <td>0</td>\n",
       "      <td>0</td>\n",
       "      <td>0</td>\n",
       "      <td>0</td>\n",
       "      <td>0</td>\n",
       "    </tr>\n",
       "  </tbody>\n",
       "</table>\n",
       "<p>5 rows × 879 columns</p>\n",
       "</div>"
      ],
      "text/plain": [
       "   10  12  13  16  16th  17  18  1980  1985  1988  ...  young  younger  your  \\\n",
       "0   0   0   0   0     0   0   0     0     0     0  ...      0        0     0   \n",
       "1   0   0   0   0     0   0   0     0     0     0  ...      0        0     0   \n",
       "2   0   0   0   0     0   0   0     0     0     0  ...      0        0     0   \n",
       "3   0   0   0   0     0   0   0     0     0     0  ...      0        0     0   \n",
       "4   0   0   0   0     0   0   0     0     0     0  ...      0        0     0   \n",
       "\n",
       "   yourself  zer  zers  zillenials  zoe  zoomers  zs  \n",
       "0         0    0     0           0    0        0   0  \n",
       "1         0    0     0           0    0        1   0  \n",
       "2         0    0     0           0    0        0   0  \n",
       "3         0    0     0           0    0        0   0  \n",
       "4         0    0     0           0    0        0   0  \n",
       "\n",
       "[5 rows x 879 columns]"
      ]
     },
     "execution_count": 32,
     "metadata": {},
     "output_type": "execute_result"
    }
   ],
   "source": [
    "train_df = pd.DataFrame(X_train.todense(), columns = cvec.get_feature_names())\n",
    "\n",
    "train_df.head()"
   ]
  },
  {
   "cell_type": "code",
   "execution_count": 33,
   "id": "21a57439-9fb6-42ba-95ae-2e97e6afe7ca",
   "metadata": {},
   "outputs": [],
   "source": [
    "train_df['title'] = y_train.values"
   ]
  },
  {
   "cell_type": "code",
   "execution_count": 34,
   "id": "86477102-58ed-42cf-9dba-e7e609c65d69",
   "metadata": {},
   "outputs": [
    {
     "data": {
      "text/plain": [
       "<AxesSubplot:>"
      ]
     },
     "execution_count": 34,
     "metadata": {},
     "output_type": "execute_result"
    },
    {
     "data": {
      "image/png": "[encoded data removed]",
      "text/plain": [
       "<Figure size 432x288 with 1 Axes>"
      ]
     },
     "metadata": {
      "needs_background": "light"
     },
     "output_type": "display_data"
    }
   ],
   "source": [
    "train_df.groupby('title').sum().T.sort_values(1, ascending = True).tail(20).plot.barh()"
   ]
  },
  {
   "cell_type": "markdown",
   "id": "68ad276e-734d-47a7-988b-1241fbd425af",
   "metadata": {},
   "source": [
    "We see the words milennials, tiktok, shorts and amp favor the milennial subreddit.\n"
   ]
  },
  {
   "cell_type": "code",
   "execution_count": 35,
   "id": "c7a83020-4f2e-4e45-8e11-72ce305f611b",
   "metadata": {},
   "outputs": [],
   "source": [
    "#from this url https://stackoverflow.com/questions/33605946/attributeerror-lower-not-found-using-a-pipeline-with-a-countvectorizer-in-scik\n",
    "def my_tokenizer(X):\n",
    "    newlist = []\n",
    "    for alist in X:\n",
    "        newlist.append(alist[0].split(' '))\n",
    "    return newlist"
   ]
  },
  {
   "cell_type": "code",
   "execution_count": 36,
   "id": "5e24a7ba-3e9a-407d-adce-ea391e0edae5",
   "metadata": {},
   "outputs": [],
   "source": [
    "X_train, X_test, y_train, y_test = train_test_split(X,\n",
    "                                                    y,\n",
    "                                                    test_size=0.33,\n",
    "                                                    stratify=y,\n",
    "                                                    random_state=42)"
   ]
  },
  {
   "cell_type": "code",
   "execution_count": 37,
   "id": "d30c7e91-f939-4d3a-8da1-c5cd03260639",
   "metadata": {},
   "outputs": [],
   "source": [
    "#Taken from 5.06\n",
    "pipe = Pipeline([\n",
    "    #('cvec', CountVectorizer(tokenizer=my_tokenizer)),\n",
    "    ('tvec', TfidfVectorizer()),\n",
    "    ('nb', MultinomialNB())\n",
    "])"
   ]
  },
  {
   "cell_type": "code",
   "execution_count": 38,
   "id": "92f9e5bf-3241-4da5-8280-ba8d8fc1834e",
   "metadata": {},
   "outputs": [
    {
     "data": {
      "text/plain": [
       "(1340,)"
      ]
     },
     "execution_count": 38,
     "metadata": {},
     "output_type": "execute_result"
    }
   ],
   "source": [
    "X_train.shape"
   ]
  },
  {
   "cell_type": "code",
   "execution_count": 39,
   "id": "861cbbfe-e24e-4eb9-9be8-85fe6fec07b2",
   "metadata": {},
   "outputs": [
    {
     "data": {
      "text/plain": [
       "Pipeline(steps=[('tvec', TfidfVectorizer()), ('nb', MultinomialNB())])"
      ]
     },
     "execution_count": 39,
     "metadata": {},
     "output_type": "execute_result"
    }
   ],
   "source": [
    "pipe.fit(X_train, y_train)"
   ]
  },
  {
   "cell_type": "code",
   "execution_count": 40,
   "id": "accf6c68-37ed-41b6-a29a-3ffaa2071df0",
   "metadata": {},
   "outputs": [
    {
     "name": "stdout",
     "output_type": "stream",
     "text": [
      "Train: 0.9828358208955223\n",
      "Test: 0.9742424242424242\n"
     ]
    }
   ],
   "source": [
    "print('Train:', pipe.score(X_train, y_train))\n",
    "print('Test:', pipe.score(X_test, y_test))"
   ]
  },
  {
   "cell_type": "markdown",
   "id": "e838cb56-ad92-4fd6-b3e2-f6bfea9689f2",
   "metadata": {},
   "source": [
    "This indicates that out model is 97.4% accurate in predicting whether a title is in the millenial subreddit or the GenZ one.\n"
   ]
  },
  {
   "cell_type": "code",
   "execution_count": 41,
   "id": "086a3483-6308-4649-8650-94e28f7f5a4c",
   "metadata": {},
   "outputs": [
    {
     "data": {
      "text/plain": [
       "<sklearn.metrics._plot.confusion_matrix.ConfusionMatrixDisplay at 0x128480f1eb0>"
      ]
     },
     "execution_count": 41,
     "metadata": {},
     "output_type": "execute_result"
    },
    {
     "data": {
      "image/png": "[encoded data removed]",
      "text/plain": [
       "<Figure size 432x288 with 2 Axes>"
      ]
     },
     "metadata": {
      "needs_background": "light"
     },
     "output_type": "display_data"
    }
   ],
   "source": [
    "# Confusion matrix\n",
    "plot_confusion_matrix(pipe, X_test, y_test, cmap='Greens')"
   ]
  },
  {
   "cell_type": "markdown",
   "id": "599b8848-e6b2-4aa0-9853-6ec1093ce4ad",
   "metadata": {},
   "source": [
    "It seems that out of 660 testing data, the model only predicted 17 entries incorrectly. Now that we did that for title, we will do it for selftext"
   ]
  },
  {
   "cell_type": "code",
   "execution_count": 42,
   "id": "1d33cae4-2c60-40f2-93f8-22e3252bfdd4",
   "metadata": {},
   "outputs": [],
   "source": [
    "df_selftext = df[['subreddit', 'selftext']].dropna()\n",
    "X = df_selftext['selftext']\n",
    "y = df_selftext['subreddit']"
   ]
  },
  {
   "cell_type": "code",
   "execution_count": 43,
   "id": "264535ba-fa5e-4258-947b-d8396be94812",
   "metadata": {},
   "outputs": [
    {
     "data": {
      "text/plain": [
       "subreddit    0\n",
       "selftext     0\n",
       "dtype: int64"
      ]
     },
     "execution_count": 43,
     "metadata": {},
     "output_type": "execute_result"
    }
   ],
   "source": [
    "df_selftext.isnull().sum()"
   ]
  },
  {
   "cell_type": "code",
   "execution_count": 44,
   "id": "e642083d-3def-40d6-88c3-eef5dc3b4f27",
   "metadata": {},
   "outputs": [
    {
     "data": {
      "text/plain": [
       "(950, 2)"
      ]
     },
     "execution_count": 44,
     "metadata": {},
     "output_type": "execute_result"
    }
   ],
   "source": [
    "df_selftext.shape"
   ]
  },
  {
   "cell_type": "code",
   "execution_count": 45,
   "id": "5b2bfe28-8f6a-4188-a3de-4a7fc79e6beb",
   "metadata": {},
   "outputs": [
    {
     "data": {
      "text/plain": [
       "0    0.536842\n",
       "1    0.463158\n",
       "Name: subreddit, dtype: float64"
      ]
     },
     "execution_count": 45,
     "metadata": {},
     "output_type": "execute_result"
    }
   ],
   "source": [
    "# Check what we need to check in a classification problem.\n",
    "y.value_counts(normalize=True)"
   ]
  },
  {
   "cell_type": "markdown",
   "id": "7240d925-6d26-4f60-bcd5-51cfd43fd0be",
   "metadata": {},
   "source": [
    "The baseline is 53.7%"
   ]
  },
  {
   "cell_type": "code",
   "execution_count": 46,
   "id": "de1ba227-22e5-4d90-b07c-f6d112aec137",
   "metadata": {},
   "outputs": [],
   "source": [
    "# Split the data into the training and testing sets.\n",
    "X_train, X_test, y_train, y_test = train_test_split(X,\n",
    "                                                    y,\n",
    "                                                    test_size=0.33,\n",
    "                                                    stratify=y,\n",
    "                                                    random_state=42)"
   ]
  },
  {
   "cell_type": "code",
   "execution_count": 47,
   "id": "36c9e2a7-9ccc-4c7d-ab6e-e71515f7c19c",
   "metadata": {},
   "outputs": [],
   "source": [
    "# Instantiate a CountVectorizer.\n",
    "cvec = CountVectorizer()"
   ]
  },
  {
   "cell_type": "code",
   "execution_count": 48,
   "id": "82219086-8df7-46c8-ab52-a32d5f14d245",
   "metadata": {},
   "outputs": [],
   "source": [
    "# Instantiate the transformer.\n",
    "tvec = TfidfVectorizer()"
   ]
  },
  {
   "cell_type": "code",
   "execution_count": 49,
   "id": "f12bec0e-4294-40e4-b568-4d5369c1eae6",
   "metadata": {},
   "outputs": [
    {
     "data": {
      "text/plain": [
       "CountVectorizer()"
      ]
     },
     "execution_count": 49,
     "metadata": {},
     "output_type": "execute_result"
    }
   ],
   "source": [
    "# Fit the vectorizer on our corpus.\n",
    "cvec.fit(X_train)"
   ]
  },
  {
   "cell_type": "code",
   "execution_count": 50,
   "id": "5481125d-cacf-4f60-957d-723cb05e67ae",
   "metadata": {},
   "outputs": [],
   "source": [
    "# Transform the corpus.\n",
    "X_train = cvec.transform(X_train)"
   ]
  },
  {
   "cell_type": "code",
   "execution_count": 51,
   "id": "3e802b2e-eeb7-4cab-a6c2-c52f89c9084b",
   "metadata": {},
   "outputs": [
    {
     "data": {
      "text/plain": [
       "(636, 1479)"
      ]
     },
     "execution_count": 51,
     "metadata": {},
     "output_type": "execute_result"
    }
   ],
   "source": [
    "X_train.shape"
   ]
  },
  {
   "cell_type": "code",
   "execution_count": 52,
   "id": "863bd46f-f038-491a-b254-8e48472657cd",
   "metadata": {},
   "outputs": [
    {
     "data": {
      "text/plain": [
       "matrix([[0, 0, 0, ..., 0, 0, 0],\n",
       "        [0, 0, 0, ..., 0, 0, 0],\n",
       "        [0, 0, 0, ..., 0, 0, 0],\n",
       "        ...,\n",
       "        [0, 0, 0, ..., 0, 0, 0],\n",
       "        [0, 0, 0, ..., 0, 0, 0],\n",
       "        [0, 0, 0, ..., 0, 0, 0]], dtype=int64)"
      ]
     },
     "execution_count": 52,
     "metadata": {},
     "output_type": "execute_result"
    }
   ],
   "source": [
    "X_train.todense()"
   ]
  },
  {
   "cell_type": "code",
   "execution_count": 53,
   "id": "d42230c1-9f64-49d4-a124-f793b4c82f16",
   "metadata": {},
   "outputs": [],
   "source": [
    "X_test = cvec.transform(X_test)"
   ]
  },
  {
   "cell_type": "code",
   "execution_count": 54,
   "id": "2b5bbff2-1de3-4862-b87c-b2d4bfbfb9fa",
   "metadata": {},
   "outputs": [
    {
     "data": {
      "text/html": [
       "<div>\n",
       "<style scoped>\n",
       "    .dataframe tbody tr th:only-of-type {\n",
       "        vertical-align: middle;\n",
       "    }\n",
       "\n",
       "    .dataframe tbody tr th {\n",
       "        vertical-align: top;\n",
       "    }\n",
       "\n",
       "    .dataframe thead th {\n",
       "        text-align: right;\n",
       "    }\n",
       "</style>\n",
       "<table border=\"1\" class=\"dataframe\">\n",
       "  <thead>\n",
       "    <tr style=\"text-align: right;\">\n",
       "      <th></th>\n",
       "      <th>000</th>\n",
       "      <th>06</th>\n",
       "      <th>10</th>\n",
       "      <th>100</th>\n",
       "      <th>11</th>\n",
       "      <th>12</th>\n",
       "      <th>13</th>\n",
       "      <th>14</th>\n",
       "      <th>15</th>\n",
       "      <th>16</th>\n",
       "      <th>...</th>\n",
       "      <th>your</th>\n",
       "      <th>yourself</th>\n",
       "      <th>youth</th>\n",
       "      <th>youtu</th>\n",
       "      <th>youtube</th>\n",
       "      <th>yr</th>\n",
       "      <th>z4mbxaa3xl8</th>\n",
       "      <th>zendaya</th>\n",
       "      <th>zillenials</th>\n",
       "      <th>zpomyri0w</th>\n",
       "    </tr>\n",
       "  </thead>\n",
       "  <tbody>\n",
       "    <tr>\n",
       "      <th>0</th>\n",
       "      <td>0</td>\n",
       "      <td>0</td>\n",
       "      <td>0</td>\n",
       "      <td>0</td>\n",
       "      <td>0</td>\n",
       "      <td>0</td>\n",
       "      <td>0</td>\n",
       "      <td>0</td>\n",
       "      <td>0</td>\n",
       "      <td>0</td>\n",
       "      <td>...</td>\n",
       "      <td>0</td>\n",
       "      <td>0</td>\n",
       "      <td>0</td>\n",
       "      <td>0</td>\n",
       "      <td>0</td>\n",
       "      <td>0</td>\n",
       "      <td>0</td>\n",
       "      <td>0</td>\n",
       "      <td>0</td>\n",
       "      <td>0</td>\n",
       "    </tr>\n",
       "    <tr>\n",
       "      <th>1</th>\n",
       "      <td>0</td>\n",
       "      <td>0</td>\n",
       "      <td>0</td>\n",
       "      <td>0</td>\n",
       "      <td>0</td>\n",
       "      <td>0</td>\n",
       "      <td>0</td>\n",
       "      <td>0</td>\n",
       "      <td>0</td>\n",
       "      <td>0</td>\n",
       "      <td>...</td>\n",
       "      <td>0</td>\n",
       "      <td>0</td>\n",
       "      <td>0</td>\n",
       "      <td>0</td>\n",
       "      <td>0</td>\n",
       "      <td>0</td>\n",
       "      <td>0</td>\n",
       "      <td>0</td>\n",
       "      <td>0</td>\n",
       "      <td>0</td>\n",
       "    </tr>\n",
       "    <tr>\n",
       "      <th>2</th>\n",
       "      <td>0</td>\n",
       "      <td>0</td>\n",
       "      <td>0</td>\n",
       "      <td>0</td>\n",
       "      <td>0</td>\n",
       "      <td>0</td>\n",
       "      <td>0</td>\n",
       "      <td>0</td>\n",
       "      <td>0</td>\n",
       "      <td>0</td>\n",
       "      <td>...</td>\n",
       "      <td>0</td>\n",
       "      <td>0</td>\n",
       "      <td>0</td>\n",
       "      <td>0</td>\n",
       "      <td>0</td>\n",
       "      <td>0</td>\n",
       "      <td>0</td>\n",
       "      <td>0</td>\n",
       "      <td>0</td>\n",
       "      <td>0</td>\n",
       "    </tr>\n",
       "    <tr>\n",
       "      <th>3</th>\n",
       "      <td>0</td>\n",
       "      <td>0</td>\n",
       "      <td>0</td>\n",
       "      <td>0</td>\n",
       "      <td>0</td>\n",
       "      <td>0</td>\n",
       "      <td>0</td>\n",
       "      <td>0</td>\n",
       "      <td>0</td>\n",
       "      <td>0</td>\n",
       "      <td>...</td>\n",
       "      <td>0</td>\n",
       "      <td>0</td>\n",
       "      <td>0</td>\n",
       "      <td>0</td>\n",
       "      <td>0</td>\n",
       "      <td>0</td>\n",
       "      <td>0</td>\n",
       "      <td>0</td>\n",
       "      <td>0</td>\n",
       "      <td>0</td>\n",
       "    </tr>\n",
       "    <tr>\n",
       "      <th>4</th>\n",
       "      <td>0</td>\n",
       "      <td>0</td>\n",
       "      <td>0</td>\n",
       "      <td>0</td>\n",
       "      <td>0</td>\n",
       "      <td>1</td>\n",
       "      <td>0</td>\n",
       "      <td>0</td>\n",
       "      <td>0</td>\n",
       "      <td>0</td>\n",
       "      <td>...</td>\n",
       "      <td>0</td>\n",
       "      <td>0</td>\n",
       "      <td>0</td>\n",
       "      <td>0</td>\n",
       "      <td>0</td>\n",
       "      <td>0</td>\n",
       "      <td>0</td>\n",
       "      <td>0</td>\n",
       "      <td>0</td>\n",
       "      <td>0</td>\n",
       "    </tr>\n",
       "  </tbody>\n",
       "</table>\n",
       "<p>5 rows × 1479 columns</p>\n",
       "</div>"
      ],
      "text/plain": [
       "   000  06  10  100  11  12  13  14  15  16  ...  your  yourself  youth  \\\n",
       "0    0   0   0    0   0   0   0   0   0   0  ...     0         0      0   \n",
       "1    0   0   0    0   0   0   0   0   0   0  ...     0         0      0   \n",
       "2    0   0   0    0   0   0   0   0   0   0  ...     0         0      0   \n",
       "3    0   0   0    0   0   0   0   0   0   0  ...     0         0      0   \n",
       "4    0   0   0    0   0   1   0   0   0   0  ...     0         0      0   \n",
       "\n",
       "   youtu  youtube  yr  z4mbxaa3xl8  zendaya  zillenials  zpomyri0w  \n",
       "0      0        0   0            0        0           0          0  \n",
       "1      0        0   0            0        0           0          0  \n",
       "2      0        0   0            0        0           0          0  \n",
       "3      0        0   0            0        0           0          0  \n",
       "4      0        0   0            0        0           0          0  \n",
       "\n",
       "[5 rows x 1479 columns]"
      ]
     },
     "execution_count": 54,
     "metadata": {},
     "output_type": "execute_result"
    }
   ],
   "source": [
    "train_df = pd.DataFrame(X_train.todense(), columns = cvec.get_feature_names())\n",
    "\n",
    "train_df.head()"
   ]
  },
  {
   "cell_type": "code",
   "execution_count": 55,
   "id": "4a2559a2-53b6-4f56-a07f-87d145c61f26",
   "metadata": {},
   "outputs": [],
   "source": [
    "train_df['title'] = y_train.values"
   ]
  },
  {
   "cell_type": "code",
   "execution_count": 56,
   "id": "12724148-8d14-4f9d-8341-e70211e87821",
   "metadata": {},
   "outputs": [
    {
     "data": {
      "text/plain": [
       "<AxesSubplot:>"
      ]
     },
     "execution_count": 56,
     "metadata": {},
     "output_type": "execute_result"
    },
    {
     "data": {
      "image/png": "[encoded data removed]",
      "text/plain": [
       "<Figure size 432x288 with 1 Axes>"
      ]
     },
     "metadata": {
      "needs_background": "light"
     },
     "output_type": "display_data"
    }
   ],
   "source": [
    "train_df.groupby('title').sum().T.sort_values(1, ascending = True).tail(20).plot.barh()"
   ]
  },
  {
   "cell_type": "markdown",
   "id": "e478978d-5e3b-453e-8605-54675fbec625",
   "metadata": {},
   "source": [
    "We see in the subtext that the words https, com, www, and watch are all more correlated with millenial than with GenZ. This indicates to me that people in the millenial subreddit are more likely to post links than in the GenZ subreddit."
   ]
  },
  {
   "cell_type": "code",
   "execution_count": 57,
   "id": "71912efa-f940-4d72-b8a8-8b926ff30b74",
   "metadata": {},
   "outputs": [],
   "source": [
    "X_train, X_test, y_train, y_test = train_test_split(X,\n",
    "                                                    y,\n",
    "                                                    test_size=0.33,\n",
    "                                                    stratify=y,\n",
    "                                                    random_state=42)"
   ]
  },
  {
   "cell_type": "code",
   "execution_count": 58,
   "id": "f58f87c1-0279-446e-a2c5-be506286d9a7",
   "metadata": {},
   "outputs": [],
   "source": [
    "from sklearn.feature_extraction.text import TfidfVectorizer"
   ]
  },
  {
   "cell_type": "code",
   "execution_count": 60,
   "id": "999bc5d3-41e6-4665-8bfc-3c5a262fcce5",
   "metadata": {},
   "outputs": [],
   "source": [
    "#Taken from 5.06\n",
    "pipe = Pipeline([\n",
    "    ('tvec', TfidfVectorizer()),\n",
    "    ('nb', MultinomialNB())\n",
    "])"
   ]
  },
  {
   "cell_type": "code",
   "execution_count": 61,
   "id": "52fbff50-5a8a-4bba-b6a7-c64de03b9ff8",
   "metadata": {},
   "outputs": [
    {
     "data": {
      "text/plain": [
       "(636,)"
      ]
     },
     "execution_count": 61,
     "metadata": {},
     "output_type": "execute_result"
    }
   ],
   "source": [
    "X_train.shape"
   ]
  },
  {
   "cell_type": "code",
   "execution_count": 62,
   "id": "a27100e1-d4e1-49d1-b280-7c5819f10eb6",
   "metadata": {},
   "outputs": [
    {
     "data": {
      "text/plain": [
       "Pipeline(steps=[('tvec', TfidfVectorizer()), ('nb', MultinomialNB())])"
      ]
     },
     "execution_count": 62,
     "metadata": {},
     "output_type": "execute_result"
    }
   ],
   "source": [
    "pipe.fit(X_train, y_train)"
   ]
  },
  {
   "cell_type": "code",
   "execution_count": 63,
   "id": "fcd7e73d-bf29-46ae-97e8-f38860a7f995",
   "metadata": {},
   "outputs": [
    {
     "name": "stdout",
     "output_type": "stream",
     "text": [
      "Train: 0.809748427672956\n",
      "Test: 0.8121019108280255\n"
     ]
    }
   ],
   "source": [
    "print('Train:', pipe.score(X_train, y_train))\n",
    "print('Test:', pipe.score(X_test, y_test))"
   ]
  },
  {
   "cell_type": "markdown",
   "id": "e1386161-12c6-411b-9637-b70f364a0ef0",
   "metadata": {},
   "source": [
    "This shows that the model is 81.2% accurate in predicting the subreddit given subtext. It is slightly overfit. "
   ]
  },
  {
   "cell_type": "code",
   "execution_count": 64,
   "id": "2335d5ca-f4cb-48f9-a7e6-19c0dbb4e2e8",
   "metadata": {},
   "outputs": [
    {
     "data": {
      "text/plain": [
       "<sklearn.metrics._plot.confusion_matrix.ConfusionMatrixDisplay at 0x128482b0d00>"
      ]
     },
     "execution_count": 64,
     "metadata": {},
     "output_type": "execute_result"
    },
    {
     "data": {
      "image/png": "[encoded data removed]",
      "text/plain": [
       "<Figure size 432x288 with 2 Axes>"
      ]
     },
     "metadata": {
      "needs_background": "light"
     },
     "output_type": "display_data"
    }
   ],
   "source": [
    "# Confusion matrix\n",
    "plot_confusion_matrix(pipe, X_test, y_test, cmap='Greens')"
   ]
  },
  {
   "cell_type": "markdown",
   "id": "d93f70f6-7352-41b2-964f-e2898a0f8ba3",
   "metadata": {},
   "source": [
    "This shows most of the problem comes when the model predicts for the GenZ subreddit and it is really in the millenial subreddit."
   ]
  },
  {
   "cell_type": "markdown",
   "id": "41aa90da-d860-4b57-ad0b-bbae7c524f8f",
   "metadata": {},
   "source": [
    "Now that we did this, let's look at a random forest and extra tree classifier for both the title column and the subtext column"
   ]
  },
  {
   "cell_type": "code",
   "execution_count": 65,
   "id": "bd4e45c4-c865-458b-ba65-491cae30f153",
   "metadata": {},
   "outputs": [],
   "source": [
    "X = df['title']\n",
    "y = df['subreddit']"
   ]
  },
  {
   "cell_type": "code",
   "execution_count": 66,
   "id": "6286aea5-e0cd-427e-bb77-7fab7dcfbfa4",
   "metadata": {},
   "outputs": [],
   "source": [
    "X_train, X_test, y_train, y_test = train_test_split(X,\n",
    "                                                    y,\n",
    "                                                    test_size=0.33,\n",
    "                                                    stratify=y,\n",
    "                                                    random_state=42)"
   ]
  },
  {
   "cell_type": "code",
   "execution_count": 67,
   "id": "c1e7cfab-165e-442a-9d19-58ab8da29a58",
   "metadata": {},
   "outputs": [
    {
     "data": {
      "text/plain": [
       "RandomForestClassifier()"
      ]
     },
     "execution_count": 67,
     "metadata": {},
     "output_type": "execute_result"
    }
   ],
   "source": [
    "#take from https://stackoverflow.com/questions/40913104/how-to-use-randomforestclassifier-with-string-data\n",
    "vec = CountVectorizer()\n",
    "X_train = vec.fit_transform(X_train)\n",
    "clf = RandomForestClassifier()  \n",
    "clf.fit(X_train, y_train) "
   ]
  },
  {
   "cell_type": "code",
   "execution_count": 68,
   "id": "dae2d906-b133-4b21-affe-ef97a2f00503",
   "metadata": {},
   "outputs": [
    {
     "data": {
      "text/plain": [
       "0.9850746268656716"
      ]
     },
     "execution_count": 68,
     "metadata": {},
     "output_type": "execute_result"
    }
   ],
   "source": [
    "cross_val_score(clf, X_train, y_train, cv = 5).mean()"
   ]
  },
  {
   "cell_type": "markdown",
   "id": "9f3b59b3-ecd1-445a-8084-8a91cc475e0c",
   "metadata": {},
   "source": [
    "The random forest classifier gives us an accuracy rate of 98.5% in determining if a title is in the millenial subreddit or the GenZ subreddit."
   ]
  },
  {
   "cell_type": "code",
   "execution_count": 69,
   "id": "464a2a6a-343e-4bc1-8549-c9dda5f83377",
   "metadata": {},
   "outputs": [
    {
     "data": {
      "text/plain": [
       "RandomForestClassifier()"
      ]
     },
     "execution_count": 69,
     "metadata": {},
     "output_type": "execute_result"
    }
   ],
   "source": [
    "X_test = vec.fit_transform(X_test)\n",
    "clf.fit(X_test, y_test)"
   ]
  },
  {
   "cell_type": "code",
   "execution_count": 70,
   "id": "3bf8da13-f395-4c6c-84a6-582185014131",
   "metadata": {},
   "outputs": [
    {
     "data": {
      "text/plain": [
       "0.9621212121212122"
      ]
     },
     "execution_count": 70,
     "metadata": {},
     "output_type": "execute_result"
    }
   ],
   "source": [
    "cross_val_score(clf, X_test, y_test, cv = 5).mean()"
   ]
  },
  {
   "cell_type": "markdown",
   "id": "97cc6501-a676-4a9c-a8ff-b395151fd766",
   "metadata": {},
   "source": [
    "The random forest classifier gives us an accuracy rate of 96.2% for testing data in determining if a title is in the millenial subreddit or the GenZ subreddit"
   ]
  },
  {
   "cell_type": "code",
   "execution_count": 71,
   "id": "d58940f7-d9ad-4f4a-9a8c-57b016af34d6",
   "metadata": {},
   "outputs": [
    {
     "name": "stdout",
     "output_type": "stream",
     "text": [
      "0.982089552238806\n"
     ]
    },
    {
     "data": {
      "text/plain": [
       "{'max_depth': None, 'min_samples_leaf': 2, 'n_estimators': 100}"
      ]
     },
     "execution_count": 71,
     "metadata": {},
     "output_type": "execute_result"
    }
   ],
   "source": [
    "#From lesson 6.03\n",
    "rf_reg_params = {\n",
    "    'n_estimators': [100, 150, 200, 250],\n",
    "    'max_depth': [None, 1, 2, 3, 4, 5, 10],\n",
    "    'min_samples_leaf': [2, 4, 6, 8, 10]\n",
    "}\n",
    "\n",
    "gs = GridSearchCV(clf,\n",
    "                 param_grid = rf_reg_params,\n",
    "                 cv = 5,\n",
    "                 n_jobs = -1)\n",
    "\n",
    "gs.fit(X_train, y_train)\n",
    "\n",
    "print(gs.best_score_)\n",
    "\n",
    "gs.best_params_"
   ]
  },
  {
   "cell_type": "code",
   "execution_count": 72,
   "id": "93a3df61-5af7-4222-a285-e68871b31f69",
   "metadata": {},
   "outputs": [
    {
     "name": "stdout",
     "output_type": "stream",
     "text": [
      "0.940909090909091\n"
     ]
    },
    {
     "data": {
      "text/plain": [
       "{'max_depth': None, 'min_samples_leaf': 2, 'n_estimators': 100}"
      ]
     },
     "execution_count": 72,
     "metadata": {},
     "output_type": "execute_result"
    }
   ],
   "source": [
    "#From lesson 6.03\n",
    "rf_reg_params = {\n",
    "    'n_estimators': [100, 150, 200, 250],\n",
    "    'max_depth': [None, 1, 2, 3, 4, 5, 10],\n",
    "    'min_samples_leaf': [2, 4, 6, 8, 10]\n",
    "}\n",
    "\n",
    "gs = GridSearchCV(clf,\n",
    "                 param_grid = rf_reg_params,\n",
    "                 cv = 5,\n",
    "                 n_jobs = -1)\n",
    "\n",
    "gs.fit(X_test, y_test)\n",
    "\n",
    "print(gs.best_score_)\n",
    "\n",
    "gs.best_params_"
   ]
  },
  {
   "cell_type": "markdown",
   "id": "dac818c1-2cab-4e5b-8c89-e474d32a0ebc",
   "metadata": {},
   "source": [
    "As we can see, Random forest fits the model quiet well"
   ]
  },
  {
   "cell_type": "code",
   "execution_count": 73,
   "id": "5766fb7c-1a9d-424a-8f8c-4065193afaa9",
   "metadata": {},
   "outputs": [],
   "source": [
    "X_train, X_test, y_train, y_test = train_test_split(X,\n",
    "                                                    y,\n",
    "                                                    test_size=0.33,\n",
    "                                                    stratify=y,\n",
    "                                                    random_state=42)"
   ]
  },
  {
   "cell_type": "code",
   "execution_count": 74,
   "id": "b1bc4f5b-83bd-4dfa-b290-426e05538469",
   "metadata": {},
   "outputs": [
    {
     "data": {
      "text/plain": [
       "ExtraTreesClassifier()"
      ]
     },
     "execution_count": 74,
     "metadata": {},
     "output_type": "execute_result"
    }
   ],
   "source": [
    "vec = CountVectorizer()\n",
    "X_train = vec.fit_transform(X_train)\n",
    "et = ExtraTreesClassifier()  \n",
    "et.fit(X_train, y_train) "
   ]
  },
  {
   "cell_type": "code",
   "execution_count": 75,
   "id": "76d91876-790f-4644-98c1-51534395e9ac",
   "metadata": {},
   "outputs": [
    {
     "data": {
      "text/plain": [
       "0.9850746268656716"
      ]
     },
     "execution_count": 75,
     "metadata": {},
     "output_type": "execute_result"
    }
   ],
   "source": [
    "cross_val_score(et, X_train, y_train, cv = 5).mean()"
   ]
  },
  {
   "cell_type": "markdown",
   "id": "06d10e17-57f6-4583-996b-dd629e158d63",
   "metadata": {},
   "source": [
    "The extra trees classifier gives us an accuracy rate of 98.6% in determining if a title is in the millenial subreddit or the GenZ subreddit."
   ]
  },
  {
   "cell_type": "code",
   "execution_count": 76,
   "id": "fb7ec2d9-6e4a-4e1e-8383-28d1b7590164",
   "metadata": {},
   "outputs": [
    {
     "data": {
      "text/plain": [
       "ExtraTreesClassifier()"
      ]
     },
     "execution_count": 76,
     "metadata": {},
     "output_type": "execute_result"
    }
   ],
   "source": [
    "X_test = vec.fit_transform(X_test)\n",
    "et.fit(X_test, y_test)"
   ]
  },
  {
   "cell_type": "code",
   "execution_count": 77,
   "id": "9bbc93f9-de0e-4ae3-a4bd-0c462147707a",
   "metadata": {},
   "outputs": [
    {
     "data": {
      "text/plain": [
       "0.959090909090909"
      ]
     },
     "execution_count": 77,
     "metadata": {},
     "output_type": "execute_result"
    }
   ],
   "source": [
    "cross_val_score(clf, X_test, y_test, cv = 5).mean()"
   ]
  },
  {
   "cell_type": "markdown",
   "id": "903841c2-5a0c-482c-a26e-75bec6d2a579",
   "metadata": {},
   "source": [
    "The extra trees classifier gives us an accuracy rate of 96.5% for testing data in determining if a title is in the millenial subreddit or the GenZ subreddit"
   ]
  },
  {
   "cell_type": "code",
   "execution_count": 78,
   "id": "90e53610-89bc-4a37-ad85-6fc5ecddf508",
   "metadata": {},
   "outputs": [
    {
     "name": "stdout",
     "output_type": "stream",
     "text": [
      "0.982089552238806\n"
     ]
    },
    {
     "data": {
      "text/plain": [
       "{'max_depth': None, 'min_samples_leaf': 2, 'n_estimators': 100}"
      ]
     },
     "execution_count": 78,
     "metadata": {},
     "output_type": "execute_result"
    }
   ],
   "source": [
    "#From lesson 6.03\n",
    "rf_reg_params = {\n",
    "    'n_estimators': [100, 150, 200, 250],\n",
    "    'max_depth': [None, 1, 2, 3, 4, 5, 10],\n",
    "    'min_samples_leaf': [2, 4, 6, 8, 10]\n",
    "}\n",
    "\n",
    "gs = GridSearchCV(et,\n",
    "                 param_grid = rf_reg_params,\n",
    "                 cv = 5,\n",
    "                 n_jobs = -1)\n",
    "\n",
    "gs.fit(X_train, y_train)\n",
    "\n",
    "print(gs.best_score_)\n",
    "\n",
    "gs.best_params_"
   ]
  },
  {
   "cell_type": "code",
   "execution_count": 79,
   "id": "123b36f0-a61b-4151-9a23-ae60acdc610d",
   "metadata": {},
   "outputs": [
    {
     "name": "stdout",
     "output_type": "stream",
     "text": [
      "0.9530303030303031\n"
     ]
    },
    {
     "data": {
      "text/plain": [
       "{'max_depth': None, 'min_samples_leaf': 2, 'n_estimators': 100}"
      ]
     },
     "execution_count": 79,
     "metadata": {},
     "output_type": "execute_result"
    }
   ],
   "source": [
    "#From lesson 6.03\n",
    "rf_reg_params = {\n",
    "    'n_estimators': [100, 150, 200, 250],\n",
    "    'max_depth': [None, 1, 2, 3, 4, 5, 10],\n",
    "    'min_samples_leaf': [2, 4, 6, 8, 10]\n",
    "}\n",
    "\n",
    "gs = GridSearchCV(et,\n",
    "                 param_grid = rf_reg_params,\n",
    "                 cv = 5,\n",
    "                 n_jobs = -1)\n",
    "\n",
    "gs.fit(X_test, y_test)\n",
    "\n",
    "print(gs.best_score_)\n",
    "\n",
    "gs.best_params_"
   ]
  },
  {
   "cell_type": "markdown",
   "id": "b6d0f839-517f-4451-95a7-ba232d0c9349",
   "metadata": {},
   "source": [
    "As we can see, Extra Trees fits the model quiet well"
   ]
  },
  {
   "cell_type": "markdown",
   "id": "32ba695b-a5d8-4d62-a184-4f44b4e84edd",
   "metadata": {},
   "source": [
    "Now let's try the same thing but with selftext"
   ]
  },
  {
   "cell_type": "code",
   "execution_count": 80,
   "id": "9fe42f8c-4fe5-4836-b234-11ad9c5fff01",
   "metadata": {},
   "outputs": [],
   "source": [
    "X = df_selftext['selftext']\n",
    "y = df_selftext['subreddit']"
   ]
  },
  {
   "cell_type": "code",
   "execution_count": 81,
   "id": "1b9185b5-8a9a-4fa3-8e4b-068c9ffc38a3",
   "metadata": {},
   "outputs": [],
   "source": [
    "X_train, X_test, y_train, y_test = train_test_split(X,\n",
    "                                                    y,\n",
    "                                                    test_size=0.33,\n",
    "                                                    stratify=y,\n",
    "                                                    random_state=42)"
   ]
  },
  {
   "cell_type": "code",
   "execution_count": 82,
   "id": "d4e75bbe-90aa-4955-8e5f-07271107c64e",
   "metadata": {},
   "outputs": [
    {
     "data": {
      "text/plain": [
       "RandomForestClassifier()"
      ]
     },
     "execution_count": 82,
     "metadata": {},
     "output_type": "execute_result"
    }
   ],
   "source": [
    "#take from https://stackoverflow.com/questions/40913104/how-to-use-randomforestclassifier-with-string-data\n",
    "vec = CountVectorizer()\n",
    "X_train = vec.fit_transform(X_train)\n",
    "clf = RandomForestClassifier()  \n",
    "clf.fit(X_train, y_train) "
   ]
  },
  {
   "cell_type": "code",
   "execution_count": 83,
   "id": "898478b9-94e2-44aa-a9d8-fb957ca5b394",
   "metadata": {},
   "outputs": [
    {
     "data": {
      "text/plain": [
       "0.8097810039370079"
      ]
     },
     "execution_count": 83,
     "metadata": {},
     "output_type": "execute_result"
    }
   ],
   "source": [
    "cross_val_score(clf, X_train, y_train, cv = 5).mean()"
   ]
  },
  {
   "cell_type": "markdown",
   "id": "c95151b1-c9b1-4eb9-86fd-8ebcbf2d2f4b",
   "metadata": {},
   "source": [
    "The random forest classifier gives us an accuracy rate of 81% in determining if a selftext is in the millenial subreddit or the GenZ subreddit."
   ]
  },
  {
   "cell_type": "code",
   "execution_count": 84,
   "id": "1b86241e-a173-453f-af5a-605e50a54c79",
   "metadata": {},
   "outputs": [
    {
     "data": {
      "text/plain": [
       "RandomForestClassifier()"
      ]
     },
     "execution_count": 84,
     "metadata": {},
     "output_type": "execute_result"
    }
   ],
   "source": [
    "X_test = vec.fit_transform(X_test)\n",
    "clf.fit(X_test, y_test)"
   ]
  },
  {
   "cell_type": "code",
   "execution_count": 85,
   "id": "100bff8c-b718-4bae-906b-6ad4277809bf",
   "metadata": {},
   "outputs": [
    {
     "data": {
      "text/plain": [
       "0.818484383000512"
      ]
     },
     "execution_count": 85,
     "metadata": {},
     "output_type": "execute_result"
    }
   ],
   "source": [
    "cross_val_score(clf, X_test, y_test, cv = 5).mean()"
   ]
  },
  {
   "cell_type": "markdown",
   "id": "5252e087-372a-4d99-a023-c0d10b5d3b2a",
   "metadata": {},
   "source": [
    "The random forest classifier gives us an accuracy rate of 81.8% in determining if a selftext is in the millenial subreddit or the GenZ subreddit."
   ]
  },
  {
   "cell_type": "code",
   "execution_count": 86,
   "id": "4f5b2441-fcce-4010-bcd7-12a3b6fb5356",
   "metadata": {},
   "outputs": [
    {
     "name": "stdout",
     "output_type": "stream",
     "text": [
      "0.8097810039370079\n"
     ]
    },
    {
     "data": {
      "text/plain": [
       "{'max_depth': None, 'min_samples_leaf': 2, 'n_estimators': 100}"
      ]
     },
     "execution_count": 86,
     "metadata": {},
     "output_type": "execute_result"
    }
   ],
   "source": [
    "#From lesson 6.03\n",
    "rf_reg_params = {\n",
    "    'n_estimators': [100, 150, 200, 250],\n",
    "    'max_depth': [None, 1, 2, 3, 4, 5, 10],\n",
    "    'min_samples_leaf': [2, 4, 6, 8, 10]\n",
    "}\n",
    "\n",
    "gs = GridSearchCV(clf,\n",
    "                 param_grid = rf_reg_params,\n",
    "                 cv = 5,\n",
    "                 n_jobs = -1)\n",
    "\n",
    "gs.fit(X_train, y_train)\n",
    "\n",
    "print(gs.best_score_)\n",
    "\n",
    "gs.best_params_"
   ]
  },
  {
   "cell_type": "code",
   "execution_count": 87,
   "id": "d7399e1e-cea7-427c-9d02-1ff49fd71402",
   "metadata": {},
   "outputs": [
    {
     "name": "stdout",
     "output_type": "stream",
     "text": [
      "0.8121351766513056\n"
     ]
    },
    {
     "data": {
      "text/plain": [
       "{'max_depth': None, 'min_samples_leaf': 2, 'n_estimators': 150}"
      ]
     },
     "execution_count": 87,
     "metadata": {},
     "output_type": "execute_result"
    }
   ],
   "source": [
    "#From lesson 6.03\n",
    "rf_reg_params = {\n",
    "    'n_estimators': [100, 150, 200, 250],\n",
    "    'max_depth': [None, 1, 2, 3, 4, 5, 10],\n",
    "    'min_samples_leaf': [2, 4, 6, 8, 10]\n",
    "}\n",
    "\n",
    "gs = GridSearchCV(clf,\n",
    "                 param_grid = rf_reg_params,\n",
    "                 cv = 5,\n",
    "                 n_jobs = -1)\n",
    "\n",
    "gs.fit(X_test, y_test)\n",
    "\n",
    "print(gs.best_score_)\n",
    "\n",
    "gs.best_params_"
   ]
  },
  {
   "cell_type": "markdown",
   "id": "bf2041d0-bc6c-4307-ba6f-e6826fa86e28",
   "metadata": {},
   "source": [
    "As we can see, Random forest fits the model quiet well"
   ]
  },
  {
   "cell_type": "code",
   "execution_count": 88,
   "id": "2e2f8178-2829-4ef1-a181-f725ca5496ea",
   "metadata": {},
   "outputs": [],
   "source": [
    "X_train, X_test, y_train, y_test = train_test_split(X,\n",
    "                                                    y,\n",
    "                                                    test_size=0.33,\n",
    "                                                    stratify=y,\n",
    "                                                    random_state=42)"
   ]
  },
  {
   "cell_type": "code",
   "execution_count": 89,
   "id": "284b4ba9-bac2-411f-ba36-04be643ac6d8",
   "metadata": {},
   "outputs": [
    {
     "data": {
      "text/plain": [
       "ExtraTreesClassifier()"
      ]
     },
     "execution_count": 89,
     "metadata": {},
     "output_type": "execute_result"
    }
   ],
   "source": [
    "vec = CountVectorizer()\n",
    "X_train = vec.fit_transform(X_train)\n",
    "et = ExtraTreesClassifier()  \n",
    "et.fit(X_train, y_train) "
   ]
  },
  {
   "cell_type": "code",
   "execution_count": 90,
   "id": "7687b19d-6723-49ad-96e4-4ada8932d73b",
   "metadata": {},
   "outputs": [
    {
     "data": {
      "text/plain": [
       "0.8097810039370079"
      ]
     },
     "execution_count": 90,
     "metadata": {},
     "output_type": "execute_result"
    }
   ],
   "source": [
    "cross_val_score(et, X_train, y_train, cv = 5).mean()"
   ]
  },
  {
   "cell_type": "markdown",
   "id": "dbc4b406-04e5-4d6b-9262-e7cca3f2f38c",
   "metadata": {},
   "source": [
    "The random forest classifier gives us an accuracy rate of 81% in determining if a selftext is in the millenial subreddit or the GenZ subreddit."
   ]
  },
  {
   "cell_type": "code",
   "execution_count": 91,
   "id": "3caa44c4-4f51-49d8-8c51-11ef39d60e4b",
   "metadata": {},
   "outputs": [
    {
     "data": {
      "text/plain": [
       "ExtraTreesClassifier()"
      ]
     },
     "execution_count": 91,
     "metadata": {},
     "output_type": "execute_result"
    }
   ],
   "source": [
    "X_test = vec.fit_transform(X_test)\n",
    "et.fit(X_test, y_test)"
   ]
  },
  {
   "cell_type": "code",
   "execution_count": 92,
   "id": "feb33976-793e-44f0-9d39-f0c5c7ed4164",
   "metadata": {},
   "outputs": [
    {
     "data": {
      "text/plain": [
       "0.818484383000512"
      ]
     },
     "execution_count": 92,
     "metadata": {},
     "output_type": "execute_result"
    }
   ],
   "source": [
    "cross_val_score(clf, X_test, y_test, cv = 5).mean()"
   ]
  },
  {
   "cell_type": "markdown",
   "id": "d6a81769-d106-4ed8-8648-7f9f23e4cbb9",
   "metadata": {},
   "source": [
    "The extra trees classifier gives us an accuracy rate of 81.8% for testing data in determining if a selftext is in the millenial subreddit or the GenZ subreddit"
   ]
  },
  {
   "cell_type": "code",
   "execution_count": 93,
   "id": "574210e4-1522-49c7-b2d5-f4acf96215ef",
   "metadata": {},
   "outputs": [
    {
     "name": "stdout",
     "output_type": "stream",
     "text": [
      "0.8097810039370079\n"
     ]
    },
    {
     "data": {
      "text/plain": [
       "{'max_depth': None, 'min_samples_leaf': 2, 'n_estimators': 100}"
      ]
     },
     "execution_count": 93,
     "metadata": {},
     "output_type": "execute_result"
    }
   ],
   "source": [
    "#From lesson 6.03\n",
    "rf_reg_params = {\n",
    "    'n_estimators': [100, 150, 200, 250],\n",
    "    'max_depth': [None, 1, 2, 3, 4, 5, 10],\n",
    "    'min_samples_leaf': [2, 4, 6, 8, 10]\n",
    "}\n",
    "\n",
    "gs = GridSearchCV(et,\n",
    "                 param_grid = rf_reg_params,\n",
    "                 cv = 5,\n",
    "                 n_jobs = -1)\n",
    "\n",
    "gs.fit(X_train, y_train)\n",
    "\n",
    "print(gs.best_score_)\n",
    "\n",
    "gs.best_params_"
   ]
  },
  {
   "cell_type": "code",
   "execution_count": 94,
   "id": "0a2953ac-0723-4c7f-a61d-ec25f5791e99",
   "metadata": {},
   "outputs": [
    {
     "name": "stdout",
     "output_type": "stream",
     "text": [
      "0.8121351766513056\n"
     ]
    },
    {
     "data": {
      "text/plain": [
       "{'max_depth': None, 'min_samples_leaf': 2, 'n_estimators': 200}"
      ]
     },
     "execution_count": 94,
     "metadata": {},
     "output_type": "execute_result"
    }
   ],
   "source": [
    "#From lesson 6.03\n",
    "rf_reg_params = {\n",
    "    'n_estimators': [100, 150, 200, 250],\n",
    "    'max_depth': [None, 1, 2, 3, 4, 5, 10],\n",
    "    'min_samples_leaf': [2, 4, 6, 8, 10]\n",
    "}\n",
    "\n",
    "gs = GridSearchCV(et,\n",
    "                 param_grid = rf_reg_params,\n",
    "                 cv = 5,\n",
    "                 n_jobs = -1)\n",
    "\n",
    "gs.fit(X_test, y_test)\n",
    "\n",
    "print(gs.best_score_)\n",
    "\n",
    "gs.best_params_"
   ]
  },
  {
   "cell_type": "markdown",
   "id": "f97c0483-8383-4874-8b4c-b010848a315b",
   "metadata": {},
   "source": [
    "As we can see, extra trees fits the model quiet well"
   ]
  },
  {
   "cell_type": "markdown",
   "id": "760d93f9-f91f-43db-87fc-f5c4b7b0047f",
   "metadata": {},
   "source": [
    "Conclusion: Given a title, it is easy to create a model that can determine if the title is from the millenial subreddit or the GenZ subreddit. If given selftext, I recommend either the RandomForestClassifier or the ExtraTreesClassifier."
   ]
  },
  {
   "cell_type": "markdown",
   "id": "e74abf3b-f798-4ab7-8b03-cca5163443f6",
   "metadata": {},
   "source": [
    "___"
   ]
  },
  {
   "cell_type": "code",
   "execution_count": null,
   "id": "06a571f5-6542-4a9e-ab0c-57166930c5c2",
   "metadata": {},
   "outputs": [],
   "source": []
  }
 ],
 "metadata": {
  "kernelspec": {
   "display_name": "Python 3 (ipykernel)",
   "language": "python",
   "name": "python3"
  },
  "language_info": {
   "codemirror_mode": {
    "name": "ipython",
    "version": 3
   },
   "file_extension": ".py",
   "mimetype": "text/x-python",
   "name": "python",
   "nbconvert_exporter": "python",
   "pygments_lexer": "ipython3",
   "version": "3.9.7"
  }
 },
 "nbformat": 4,
 "nbformat_minor": 5
}
